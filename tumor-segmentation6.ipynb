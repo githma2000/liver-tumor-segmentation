{
  "nbformat": 4,
  "nbformat_minor": 0,
  "metadata": {
    "colab": {
      "provenance": [],
      "gpuType": "T4",
      "authorship_tag": "ABX9TyO46d8LHt01IygSgVF01qNg",
      "include_colab_link": true
    },
    "kernelspec": {
      "name": "python3",
      "display_name": "Python 3"
    },
    "language_info": {
      "name": "python"
    },
    "accelerator": "GPU"
  },
  "cells": [
    {
      "cell_type": "markdown",
      "metadata": {
        "id": "view-in-github",
        "colab_type": "text"
      },
      "source": [
        "<a href=\"https://colab.research.google.com/github/githma2000/liver-tumor-segmentation/blob/main/tumor-segmentation6.ipynb\" target=\"_parent\"><img src=\"https://colab.research.google.com/assets/colab-badge.svg\" alt=\"Open In Colab\"/></a>"
      ]
    },
    {
      "cell_type": "code",
      "execution_count": 1,
      "metadata": {
        "colab": {
          "base_uri": "https://localhost:8080/"
        },
        "id": "2yxNzN66K_K1",
        "outputId": "d3b29f47-386b-4ba2-9699-fac7af10a86c"
      },
      "outputs": [
        {
          "output_type": "stream",
          "name": "stdout",
          "text": [
            "Drive already mounted at /content/drive; to attempt to forcibly remount, call drive.mount(\"/content/drive\", force_remount=True).\n"
          ]
        }
      ],
      "source": [
        "from google.colab import drive\n",
        "drive.mount('/content/drive')\n"
      ]
    },
    {
      "cell_type": "code",
      "source": [
        "import os\n",
        "\n",
        "DATASET_PATH = '/content/drive/MyDrive/Preprocessed_3Dircadb'\n"
      ],
      "metadata": {
        "id": "bJFP79soOHjA"
      },
      "execution_count": 2,
      "outputs": []
    },
    {
      "cell_type": "code",
      "source": [
        "import os\n",
        "import random\n",
        "import shutil\n",
        "\n",
        "base_dir = '/content/drive/MyDrive/Preprocessed_3Dircadb'\n",
        "all_patients = sorted([f for f in os.listdir(base_dir) if f.startswith('3Dircadb')])\n",
        "\n",
        "# Shuffle and split\n",
        "random.seed(42)\n",
        "random.shuffle(all_patients)\n",
        "\n",
        "train_split = int(0.7 * len(all_patients))\n",
        "val_split = int(0.85 * len(all_patients))\n",
        "\n",
        "train_patients = all_patients[:train_split]\n",
        "val_patients = all_patients[train_split:val_split]\n",
        "test_patients = all_patients[val_split:]\n",
        "\n",
        "print(\"Train:\", train_patients)\n",
        "print(\"Val:\", val_patients)\n",
        "print(\"Test:\", test_patients)\n"
      ],
      "metadata": {
        "colab": {
          "base_uri": "https://localhost:8080/"
        },
        "id": "hMMvjf3ZOLeW",
        "outputId": "db74ebd2-b5ff-45d6-d8e0-9cff9b1e7933"
      },
      "execution_count": 3,
      "outputs": [
        {
          "output_type": "stream",
          "name": "stdout",
          "text": [
            "Train: ['3Dircadb1.9', '3Dircadb1.14', '3Dircadb1.4', '3Dircadb1.13', '3Dircadb1.18', '3Dircadb1.3', '3Dircadb1.5', '3Dircadb1.8', '3Dircadb1.15', '3Dircadb1.20', '3Dircadb1.7', '3Dircadb1.19', '3Dircadb1.10', '3Dircadb1.2']\n",
            "Val: ['3Dircadb1.11', '3Dircadb1.6', '3Dircadb1.16']\n",
            "Test: ['3Dircadb1.17', '3Dircadb1.1', '3Dircadb1.12']\n"
          ]
        }
      ]
    },
    {
      "cell_type": "code",
      "source": [
        "from tensorflow.keras.utils import Sequence\n",
        "import numpy as np\n",
        "import os\n",
        "import random\n",
        "import albumentations as A\n",
        "\n",
        "class IRCADNPYDataset(Sequence):\n",
        "    def __init__(self, patient_list, base_path, batch_size=8, input_size=(256, 256),\n",
        "                 shuffle=True, balance_data=True, seed=42):\n",
        "        self.patient_list = patient_list\n",
        "        self.base_path = base_path\n",
        "        self.batch_size = batch_size\n",
        "        self.input_size = input_size\n",
        "        self.shuffle = shuffle\n",
        "        self.balance_data = balance_data\n",
        "        self.seed = seed\n",
        "\n",
        "        # 🔒 Set seeds for reproducibility\n",
        "        random.seed(self.seed)\n",
        "        np.random.seed(self.seed)\n",
        "\n",
        "        # 🎲 Albumentations augmentations\n",
        "        self.augment = A.Compose([\n",
        "            A.Resize(height=self.input_size[0], width=self.input_size[1]),\n",
        "\n",
        "            A.CLAHE(clip_limit=2.0, tile_grid_size=(8, 8), p=0.3),\n",
        "            A.HorizontalFlip(p=0.5),\n",
        "            A.VerticalFlip(p=0.5),\n",
        "            A.RandomRotate90(p=0.5),\n",
        "            A.ShiftScaleRotate(shift_limit=0.05, scale_limit=0.1, rotate_limit=15, p=0.5),\n",
        "            A.ElasticTransform(alpha=1, sigma=50, alpha_affine=10, p=0.2),\n",
        "            A.RandomBrightnessContrast(p=0.2),\n",
        "            A.GaussianBlur(blur_limit=(3, 5), p=0.1),\n",
        "        ], additional_targets={'mask': 'mask'})\n",
        "\n",
        "        self.data = self._load_all_files()\n",
        "        self.on_epoch_end()\n",
        "\n",
        "    def _load_all_files(self):\n",
        "        tumor_data = []\n",
        "        non_tumor_data = []\n",
        "\n",
        "        for patient in self.patient_list:\n",
        "            img_dir = os.path.join(self.base_path, patient, 'PATIENT_2_5D')\n",
        "            mask_dir = os.path.join(self.base_path, patient, 'LABEL_2_5D')\n",
        "\n",
        "            img_files = sorted(os.listdir(img_dir))\n",
        "            mask_files = sorted(os.listdir(mask_dir))\n",
        "\n",
        "            for img_file, mask_file in zip(img_files, mask_files):\n",
        "                img_path = os.path.join(img_dir, img_file)\n",
        "                mask_path = os.path.join(mask_dir, mask_file)\n",
        "\n",
        "                if os.path.isfile(img_path) and os.path.isfile(mask_path):\n",
        "                    mask = np.load(mask_path).astype(np.float32)\n",
        "\n",
        "                    if mask.ndim == 2:\n",
        "                        mask = np.expand_dims(mask, axis=-1)\n",
        "                    elif mask.ndim == 3 and mask.shape[2] > 1:\n",
        "                        mask = mask[..., 0:1]\n",
        "\n",
        "                    min_val = np.min(mask)\n",
        "                    max_val = np.max(mask)\n",
        "                    threshold = min_val + (max_val - min_val) * 0.1\n",
        "                    binary_mask = (mask > threshold).astype(np.float32)\n",
        "\n",
        "                    if np.any(binary_mask > 0):\n",
        "                        tumor_data.append((img_path, mask_path))\n",
        "                    else:\n",
        "                        non_tumor_data.append((img_path, mask_path))\n",
        "\n",
        "        # Balance tumor vs. non-tumor data\n",
        "        if self.balance_data and len(non_tumor_data) > 0:\n",
        "            sampled_non_tumor = random.sample(non_tumor_data, min(len(tumor_data), len(non_tumor_data)))\n",
        "            combined_data = tumor_data + sampled_non_tumor\n",
        "        else:\n",
        "            combined_data = tumor_data + non_tumor_data\n",
        "\n",
        "        return combined_data\n",
        "\n",
        "    def __len__(self):\n",
        "        return max(1, len(self.data) // self.batch_size)\n",
        "\n",
        "    def __getitem__(self, idx):\n",
        "        batch_pairs = self.data[idx * self.batch_size:(idx + 1) * self.batch_size]\n",
        "        images, masks = [], []\n",
        "\n",
        "        for img_path, mask_path in batch_pairs:\n",
        "            img = np.load(img_path).astype(np.float32)\n",
        "            mask = np.load(mask_path).astype(np.float32)\n",
        "\n",
        "            if mask.ndim == 2:\n",
        "                mask = np.expand_dims(mask, axis=-1)\n",
        "            elif mask.ndim == 3 and mask.shape[2] > 1:\n",
        "                mask = mask[..., 0:1]\n",
        "\n",
        "            # Z-score normalization\n",
        "            img = (img - np.mean(img)) / (np.std(img) + 1e-5)\n",
        "\n",
        "            # Binarize mask\n",
        "            min_val = np.min(mask)\n",
        "            max_val = np.max(mask)\n",
        "            threshold = min_val + (max_val - min_val) * 0.1\n",
        "            mask = (mask > threshold).astype(np.float32)\n",
        "\n",
        "            # Augmentation\n",
        "            augmented = self.augment(image=img, mask=mask)\n",
        "            img_aug = augmented['image']\n",
        "            mask_aug = augmented['mask']\n",
        "\n",
        "            # Ensure shape is (H, W, C)\n",
        "            if img_aug.ndim == 2:\n",
        "                img_aug = np.expand_dims(img_aug, axis=-1)\n",
        "            if mask_aug.ndim == 2:\n",
        "                mask_aug = np.expand_dims(mask_aug, axis=-1)\n",
        "\n",
        "            images.append(img_aug)\n",
        "            masks.append(mask_aug)\n",
        "\n",
        "        return np.array(images), np.array(masks)\n",
        "\n",
        "    def on_epoch_end(self):\n",
        "        if self.shuffle:\n",
        "            random.seed(self.seed)\n",
        "            random.shuffle(self.data)\n"
      ],
      "metadata": {
        "id": "bNBu_Q7FOPIG"
      },
      "execution_count": 109,
      "outputs": []
    },
    {
      "cell_type": "code",
      "source": [
        "import tensorflow as tf\n",
        "from tensorflow.keras.layers import Conv2D, BatchNormalization, Activation, UpSampling2D, Input, concatenate\n",
        "from tensorflow.keras.models import Model\n",
        "from tensorflow.keras.applications import ResNet50\n",
        "\n",
        "def ASPP(x, filters):\n",
        "    \"\"\"Atrous Spatial Pyramid Pooling with Keras-compatible operations\"\"\"\n",
        "    shape = x.shape\n",
        "\n",
        "    y1 = Conv2D(filters, 1, padding=\"same\", use_bias=False)(x)\n",
        "    y1 = BatchNormalization()(y1)\n",
        "    y1 = Activation(\"relu\")(y1)\n",
        "\n",
        "    y2 = Conv2D(filters, 3, padding=\"same\", dilation_rate=6, use_bias=False)(x)\n",
        "    y2 = BatchNormalization()(y2)\n",
        "    y2 = Activation(\"relu\")(y2)\n",
        "\n",
        "    y3 = Conv2D(filters, 3, padding=\"same\", dilation_rate=12, use_bias=False)(x)\n",
        "    y3 = BatchNormalization()(y3)\n",
        "    y3 = Activation(\"relu\")(y3)\n",
        "\n",
        "    y4 = Conv2D(filters, 3, padding=\"same\", dilation_rate=18, use_bias=False)(x)\n",
        "    y4 = BatchNormalization()(y4)\n",
        "    y4 = Activation(\"relu\")(y4)\n",
        "\n",
        "    # Use GlobalAveragePooling2D and reshape for broadcast\n",
        "    y5 = tf.keras.layers.GlobalAveragePooling2D()(x)\n",
        "    y5 = tf.keras.layers.Reshape((1, 1, shape[-1]))(y5)\n",
        "    y5 = Conv2D(filters, 1, padding=\"same\", use_bias=False)(y5)\n",
        "    y5 = BatchNormalization()(y5)\n",
        "    y5 = Activation(\"relu\")(y5)\n",
        "    y5 = UpSampling2D(size=(shape[1], shape[2]), interpolation=\"bilinear\")(y5)\n",
        "\n",
        "    y = concatenate([y1, y2, y3, y4, y5])\n",
        "    y = Conv2D(filters, 1, padding=\"same\", use_bias=False)(y)\n",
        "    y = BatchNormalization()(y)\n",
        "    y = Activation(\"relu\")(y)\n",
        "\n",
        "    return y\n",
        "\n",
        "\n",
        "def DeeplabV3Plus(input_shape=(256, 256, 3), num_classes=1):\n",
        "    \"\"\"Custom DeepLabV3+ model with ResNet50 backbone\"\"\"\n",
        "    base_model = ResNet50(weights='imagenet', include_top=False, input_shape=input_shape)\n",
        "\n",
        "    # Use features from different levels of the encoder\n",
        "    image_features = base_model.get_layer(\"conv4_block6_2_relu\").output\n",
        "    x = ASPP(image_features, 256)\n",
        "\n",
        "    x = UpSampling2D(size=(4, 4), interpolation=\"bilinear\")(x)\n",
        "\n",
        "    low_level_feat = base_model.get_layer(\"conv2_block3_2_relu\").output\n",
        "    low_level_feat = Conv2D(48, 1, padding=\"same\", use_bias=False)(low_level_feat)\n",
        "    low_level_feat = BatchNormalization()(low_level_feat)\n",
        "    low_level_feat = Activation(\"relu\")(low_level_feat)\n",
        "\n",
        "    x = concatenate([x, low_level_feat])\n",
        "    x = Conv2D(256, 3, padding=\"same\", use_bias=False)(x)\n",
        "    x = BatchNormalization()(x)\n",
        "    x = Activation(\"relu\")(x)\n",
        "\n",
        "    x = Conv2D(256, 3, padding=\"same\", use_bias=False)(x)\n",
        "    x = BatchNormalization()(x)\n",
        "    x = Activation(\"relu\")(x)\n",
        "\n",
        "    x = UpSampling2D(size=(4, 4), interpolation=\"bilinear\")(x)\n",
        "    x = Conv2D(num_classes, 1, padding=\"same\", activation=\"sigmoid\")(x)\n",
        "\n",
        "    model = Model(inputs=base_model.input, outputs=x)\n",
        "    return model\n",
        "\n",
        ""
      ],
      "metadata": {
        "id": "nb-JlQATOXun"
      },
      "execution_count": 93,
      "outputs": []
    },
    {
      "cell_type": "code",
      "source": [
        "import tensorflow as tf\n",
        "\n",
        "# 1. Define loss function\n",
        "def dice_loss(y_true, y_pred):\n",
        "    y_true = tf.reshape(y_true, [-1])\n",
        "    y_pred = tf.reshape(y_pred, [-1])\n",
        "    intersection = tf.reduce_sum(y_true * y_pred)\n",
        "    return 1 - (2. * intersection + 1) / (tf.reduce_sum(y_true) + tf.reduce_sum(y_pred) + 1)\n",
        "\n",
        "# 2. Define metric function\n",
        "def iou_metric(y_true, y_pred):\n",
        "    y_true = tf.reshape(y_true, [-1])\n",
        "    y_pred = tf.reshape(y_pred, [-1])\n",
        "    intersection = tf.reduce_sum(y_true * y_pred)\n",
        "    union = tf.reduce_sum(y_true) + tf.reduce_sum(y_pred) - intersection\n",
        "    return (intersection + 1) / (union + 1)\n",
        "\n",
        "# 3. Define and compile model\n",
        "model = DeeplabV3Plus(input_shape=(256, 256, 3), num_classes=1)\n",
        "\n",
        "model.compile(\n",
        "    optimizer=tf.keras.optimizers.Adam(learning_rate=1e-5),\n",
        "    loss=dice_loss,\n",
        "    metrics=[iou_metric]\n",
        ")"
      ],
      "metadata": {
        "id": "n3M64CO9Ohol"
      },
      "execution_count": 94,
      "outputs": []
    },
    {
      "cell_type": "code",
      "source": [
        "!pip install -U tensorflow"
      ],
      "metadata": {
        "colab": {
          "base_uri": "https://localhost:8080/",
          "height": 0
        },
        "collapsed": true,
        "id": "0CTOuaMapgiF",
        "outputId": "5dc82051-e127-4ad5-ce70-77031a89f64b"
      },
      "execution_count": 54,
      "outputs": [
        {
          "output_type": "stream",
          "name": "stdout",
          "text": [
            "Requirement already satisfied: tensorflow in /usr/local/lib/python3.11/dist-packages (2.18.0)\n",
            "Collecting tensorflow\n",
            "  Downloading tensorflow-2.19.0-cp311-cp311-manylinux_2_17_x86_64.manylinux2014_x86_64.whl.metadata (4.1 kB)\n",
            "Requirement already satisfied: absl-py>=1.0.0 in /usr/local/lib/python3.11/dist-packages (from tensorflow) (1.4.0)\n",
            "Requirement already satisfied: astunparse>=1.6.0 in /usr/local/lib/python3.11/dist-packages (from tensorflow) (1.6.3)\n",
            "Requirement already satisfied: flatbuffers>=24.3.25 in /usr/local/lib/python3.11/dist-packages (from tensorflow) (25.2.10)\n",
            "Requirement already satisfied: gast!=0.5.0,!=0.5.1,!=0.5.2,>=0.2.1 in /usr/local/lib/python3.11/dist-packages (from tensorflow) (0.6.0)\n",
            "Requirement already satisfied: google-pasta>=0.1.1 in /usr/local/lib/python3.11/dist-packages (from tensorflow) (0.2.0)\n",
            "Requirement already satisfied: libclang>=13.0.0 in /usr/local/lib/python3.11/dist-packages (from tensorflow) (18.1.1)\n",
            "Requirement already satisfied: opt-einsum>=2.3.2 in /usr/local/lib/python3.11/dist-packages (from tensorflow) (3.4.0)\n",
            "Requirement already satisfied: packaging in /usr/local/lib/python3.11/dist-packages (from tensorflow) (24.2)\n",
            "Requirement already satisfied: protobuf!=4.21.0,!=4.21.1,!=4.21.2,!=4.21.3,!=4.21.4,!=4.21.5,<6.0.0dev,>=3.20.3 in /usr/local/lib/python3.11/dist-packages (from tensorflow) (5.29.4)\n",
            "Requirement already satisfied: requests<3,>=2.21.0 in /usr/local/lib/python3.11/dist-packages (from tensorflow) (2.32.3)\n",
            "Requirement already satisfied: setuptools in /usr/local/lib/python3.11/dist-packages (from tensorflow) (75.2.0)\n",
            "Requirement already satisfied: six>=1.12.0 in /usr/local/lib/python3.11/dist-packages (from tensorflow) (1.17.0)\n",
            "Requirement already satisfied: termcolor>=1.1.0 in /usr/local/lib/python3.11/dist-packages (from tensorflow) (3.0.1)\n",
            "Requirement already satisfied: typing-extensions>=3.6.6 in /usr/local/lib/python3.11/dist-packages (from tensorflow) (4.13.2)\n",
            "Requirement already satisfied: wrapt>=1.11.0 in /usr/local/lib/python3.11/dist-packages (from tensorflow) (1.17.2)\n",
            "Requirement already satisfied: grpcio<2.0,>=1.24.3 in /usr/local/lib/python3.11/dist-packages (from tensorflow) (1.71.0)\n",
            "Collecting tensorboard~=2.19.0 (from tensorflow)\n",
            "  Downloading tensorboard-2.19.0-py3-none-any.whl.metadata (1.8 kB)\n",
            "Requirement already satisfied: keras>=3.5.0 in /usr/local/lib/python3.11/dist-packages (from tensorflow) (3.8.0)\n",
            "Requirement already satisfied: numpy<2.2.0,>=1.26.0 in /usr/local/lib/python3.11/dist-packages (from tensorflow) (2.0.2)\n",
            "Requirement already satisfied: h5py>=3.11.0 in /usr/local/lib/python3.11/dist-packages (from tensorflow) (3.13.0)\n",
            "Collecting ml-dtypes<1.0.0,>=0.5.1 (from tensorflow)\n",
            "  Downloading ml_dtypes-0.5.1-cp311-cp311-manylinux_2_17_x86_64.manylinux2014_x86_64.whl.metadata (21 kB)\n",
            "Requirement already satisfied: tensorflow-io-gcs-filesystem>=0.23.1 in /usr/local/lib/python3.11/dist-packages (from tensorflow) (0.37.1)\n",
            "Requirement already satisfied: wheel<1.0,>=0.23.0 in /usr/local/lib/python3.11/dist-packages (from astunparse>=1.6.0->tensorflow) (0.45.1)\n",
            "Requirement already satisfied: rich in /usr/local/lib/python3.11/dist-packages (from keras>=3.5.0->tensorflow) (13.9.4)\n",
            "Requirement already satisfied: namex in /usr/local/lib/python3.11/dist-packages (from keras>=3.5.0->tensorflow) (0.0.9)\n",
            "Requirement already satisfied: optree in /usr/local/lib/python3.11/dist-packages (from keras>=3.5.0->tensorflow) (0.15.0)\n",
            "Requirement already satisfied: charset-normalizer<4,>=2 in /usr/local/lib/python3.11/dist-packages (from requests<3,>=2.21.0->tensorflow) (3.4.1)\n",
            "Requirement already satisfied: idna<4,>=2.5 in /usr/local/lib/python3.11/dist-packages (from requests<3,>=2.21.0->tensorflow) (3.10)\n",
            "Requirement already satisfied: urllib3<3,>=1.21.1 in /usr/local/lib/python3.11/dist-packages (from requests<3,>=2.21.0->tensorflow) (2.4.0)\n",
            "Requirement already satisfied: certifi>=2017.4.17 in /usr/local/lib/python3.11/dist-packages (from requests<3,>=2.21.0->tensorflow) (2025.4.26)\n",
            "Requirement already satisfied: markdown>=2.6.8 in /usr/local/lib/python3.11/dist-packages (from tensorboard~=2.19.0->tensorflow) (3.8)\n",
            "Requirement already satisfied: tensorboard-data-server<0.8.0,>=0.7.0 in /usr/local/lib/python3.11/dist-packages (from tensorboard~=2.19.0->tensorflow) (0.7.2)\n",
            "Requirement already satisfied: werkzeug>=1.0.1 in /usr/local/lib/python3.11/dist-packages (from tensorboard~=2.19.0->tensorflow) (3.1.3)\n",
            "Requirement already satisfied: MarkupSafe>=2.1.1 in /usr/local/lib/python3.11/dist-packages (from werkzeug>=1.0.1->tensorboard~=2.19.0->tensorflow) (3.0.2)\n",
            "Requirement already satisfied: markdown-it-py>=2.2.0 in /usr/local/lib/python3.11/dist-packages (from rich->keras>=3.5.0->tensorflow) (3.0.0)\n",
            "Requirement already satisfied: pygments<3.0.0,>=2.13.0 in /usr/local/lib/python3.11/dist-packages (from rich->keras>=3.5.0->tensorflow) (2.19.1)\n",
            "Requirement already satisfied: mdurl~=0.1 in /usr/local/lib/python3.11/dist-packages (from markdown-it-py>=2.2.0->rich->keras>=3.5.0->tensorflow) (0.1.2)\n",
            "Downloading tensorflow-2.19.0-cp311-cp311-manylinux_2_17_x86_64.manylinux2014_x86_64.whl (644.9 MB)\n",
            "\u001b[2K   \u001b[90m━━━━━━━━━━━━━━━━━━━━━━━━━━━━━━━━━━━━━━━━\u001b[0m \u001b[32m644.9/644.9 MB\u001b[0m \u001b[31m1.2 MB/s\u001b[0m eta \u001b[36m0:00:00\u001b[0m\n",
            "\u001b[?25hDownloading ml_dtypes-0.5.1-cp311-cp311-manylinux_2_17_x86_64.manylinux2014_x86_64.whl (4.7 MB)\n",
            "\u001b[2K   \u001b[90m━━━━━━━━━━━━━━━━━━━━━━━━━━━━━━━━━━━━━━━━\u001b[0m \u001b[32m4.7/4.7 MB\u001b[0m \u001b[31m112.2 MB/s\u001b[0m eta \u001b[36m0:00:00\u001b[0m\n",
            "\u001b[?25hDownloading tensorboard-2.19.0-py3-none-any.whl (5.5 MB)\n",
            "\u001b[2K   \u001b[90m━━━━━━━━━━━━━━━━━━━━━━━━━━━━━━━━━━━━━━━━\u001b[0m \u001b[32m5.5/5.5 MB\u001b[0m \u001b[31m125.1 MB/s\u001b[0m eta \u001b[36m0:00:00\u001b[0m\n",
            "\u001b[?25hInstalling collected packages: ml-dtypes, tensorboard, tensorflow\n",
            "  Attempting uninstall: ml-dtypes\n",
            "    Found existing installation: ml-dtypes 0.4.1\n",
            "    Uninstalling ml-dtypes-0.4.1:\n",
            "      Successfully uninstalled ml-dtypes-0.4.1\n",
            "  Attempting uninstall: tensorboard\n",
            "    Found existing installation: tensorboard 2.18.0\n",
            "    Uninstalling tensorboard-2.18.0:\n",
            "      Successfully uninstalled tensorboard-2.18.0\n",
            "  Attempting uninstall: tensorflow\n",
            "    Found existing installation: tensorflow 2.18.0\n",
            "    Uninstalling tensorflow-2.18.0:\n",
            "      Successfully uninstalled tensorflow-2.18.0\n",
            "\u001b[31mERROR: pip's dependency resolver does not currently take into account all the packages that are installed. This behaviour is the source of the following dependency conflicts.\n",
            "tensorflow-text 2.18.1 requires tensorflow<2.19,>=2.18.0, but you have tensorflow 2.19.0 which is incompatible.\n",
            "tf-keras 2.18.0 requires tensorflow<2.19,>=2.18, but you have tensorflow 2.19.0 which is incompatible.\n",
            "tensorflow-decision-forests 1.11.0 requires tensorflow==2.18.0, but you have tensorflow 2.19.0 which is incompatible.\u001b[0m\u001b[31m\n",
            "\u001b[0mSuccessfully installed ml-dtypes-0.5.1 tensorboard-2.19.0 tensorflow-2.19.0\n"
          ]
        },
        {
          "output_type": "display_data",
          "data": {
            "application/vnd.colab-display-data+json": {
              "pip_warning": {
                "packages": [
                  "ml_dtypes",
                  "tensorflow"
                ]
              },
              "id": "5958f778a8bb43e4ae1a023c83dad58e"
            }
          },
          "metadata": {}
        }
      ]
    },
    {
      "cell_type": "code",
      "source": [
        "\n",
        "train_dataset = IRCADNPYDataset(\n",
        "    train_patients,\n",
        "    base_dir,\n",
        "    batch_size=8,\n",
        "    shuffle=True,\n",
        "    balance_data=True  # Balance training data\n",
        ")\n",
        "\n",
        "val_dataset = IRCADNPYDataset(\n",
        "    val_patients,\n",
        "    base_dir,\n",
        "    batch_size=8,\n",
        "    shuffle=False,\n",
        "    balance_data=False  # Keep validation distribution unchanged\n",
        ")\n",
        "\n",
        "test_dataset = IRCADNPYDataset(\n",
        "    test_patients,\n",
        "    base_dir,\n",
        "    batch_size=8,\n",
        "    shuffle=False,\n",
        "    balance_data=False  # Same for test\n",
        ")\n"
      ],
      "metadata": {
        "colab": {
          "base_uri": "https://localhost:8080/"
        },
        "id": "CPaHr3GhPDJi",
        "outputId": "407a8235-6fc0-4883-aba9-21e0f393ea86"
      },
      "execution_count": 98,
      "outputs": [
        {
          "output_type": "stream",
          "name": "stderr",
          "text": [
            "<ipython-input-97-dc979a059531>:31: UserWarning: Argument(s) 'alpha_affine' are not valid for transform ElasticTransform\n",
            "  A.ElasticTransform(alpha=1, sigma=50, alpha_affine=10, p=0.2),\n"
          ]
        }
      ]
    },
    {
      "cell_type": "code",
      "source": [
        "from tensorflow.keras.callbacks import EarlyStopping, ModelCheckpoint, ReduceLROnPlateau\n",
        "import tensorflow as tf\n",
        "from tensorflow.keras.optimizers import Adam\n",
        "\n",
        "early_stop = EarlyStopping(\n",
        "    monitor='val_iou_metric',\n",
        "    patience=7,\n",
        "    restore_best_weights=True,\n",
        "    mode='max',\n",
        "    verbose=1\n",
        ")\n",
        "\n",
        "\n",
        "checkpoint = ModelCheckpoint(\n",
        "    '/content/drive/MyDrive/best_deeplab_model.keras',\n",
        "    monitor='val_iou_metric',\n",
        "    save_best_only=True,\n",
        "    mode='max',\n",
        "    verbose=1\n",
        ")\n",
        "\n",
        "lr_schedule = ReduceLROnPlateau(\n",
        "    monitor='val_loss',\n",
        "    factor=0.5,\n",
        "    patience=3,\n",
        "    verbose=1,\n",
        "    mode='min',\n",
        "    min_lr=1e-6\n",
        ")\n",
        "\n",
        "\n",
        "\n",
        "history = model.fit(\n",
        "    train_dataset,\n",
        "    validation_data=val_dataset,\n",
        "    epochs=100,\n",
        "    batch_size=16,\n",
        "    callbacks=[early_stop, checkpoint, lr_schedule]\n",
        ")\n"
      ],
      "metadata": {
        "colab": {
          "base_uri": "https://localhost:8080/"
        },
        "id": "sazHQm-jQUsc",
        "outputId": "49646e69-3bd4-4a62-cad2-10697210872d"
      },
      "execution_count": 99,
      "outputs": [
        {
          "output_type": "stream",
          "name": "stdout",
          "text": [
            "Epoch 1/100\n",
            "\u001b[1m233/233\u001b[0m \u001b[32m━━━━━━━━━━━━━━━━━━━━\u001b[0m\u001b[37m\u001b[0m \u001b[1m0s\u001b[0m 256ms/step - iou_metric: 0.2156 - loss: 0.6531\n",
            "Epoch 1: val_iou_metric improved from -inf to 0.20678, saving model to /content/drive/MyDrive/best_deeplab_model.keras\n",
            "\u001b[1m233/233\u001b[0m \u001b[32m━━━━━━━━━━━━━━━━━━━━\u001b[0m\u001b[37m\u001b[0m \u001b[1m136s\u001b[0m 333ms/step - iou_metric: 0.2159 - loss: 0.6527 - val_iou_metric: 0.2068 - val_loss: 0.6678 - learning_rate: 1.0000e-05\n",
            "Epoch 2/100\n",
            "\u001b[1m233/233\u001b[0m \u001b[32m━━━━━━━━━━━━━━━━━━━━\u001b[0m\u001b[37m\u001b[0m \u001b[1m0s\u001b[0m 270ms/step - iou_metric: 0.4186 - loss: 0.4168\n",
            "Epoch 2: val_iou_metric improved from 0.20678 to 0.31560, saving model to /content/drive/MyDrive/best_deeplab_model.keras\n",
            "\u001b[1m233/233\u001b[0m \u001b[32m━━━━━━━━━━━━━━━━━━━━\u001b[0m\u001b[37m\u001b[0m \u001b[1m75s\u001b[0m 323ms/step - iou_metric: 0.4186 - loss: 0.4167 - val_iou_metric: 0.3156 - val_loss: 0.5451 - learning_rate: 1.0000e-05\n",
            "Epoch 3/100\n",
            "\u001b[1m233/233\u001b[0m \u001b[32m━━━━━━━━━━━━━━━━━━━━\u001b[0m\u001b[37m\u001b[0m \u001b[1m0s\u001b[0m 267ms/step - iou_metric: 0.4911 - loss: 0.3470\n",
            "Epoch 3: val_iou_metric improved from 0.31560 to 0.36007, saving model to /content/drive/MyDrive/best_deeplab_model.keras\n",
            "\u001b[1m233/233\u001b[0m \u001b[32m━━━━━━━━━━━━━━━━━━━━\u001b[0m\u001b[37m\u001b[0m \u001b[1m76s\u001b[0m 325ms/step - iou_metric: 0.4911 - loss: 0.3470 - val_iou_metric: 0.3601 - val_loss: 0.4900 - learning_rate: 1.0000e-05\n",
            "Epoch 4/100\n",
            "\u001b[1m233/233\u001b[0m \u001b[32m━━━━━━━━━━━━━━━━━━━━\u001b[0m\u001b[37m\u001b[0m \u001b[1m0s\u001b[0m 266ms/step - iou_metric: 0.5366 - loss: 0.3053\n",
            "Epoch 4: val_iou_metric improved from 0.36007 to 0.39963, saving model to /content/drive/MyDrive/best_deeplab_model.keras\n",
            "\u001b[1m233/233\u001b[0m \u001b[32m━━━━━━━━━━━━━━━━━━━━\u001b[0m\u001b[37m\u001b[0m \u001b[1m81s\u001b[0m 321ms/step - iou_metric: 0.5367 - loss: 0.3053 - val_iou_metric: 0.3996 - val_loss: 0.4486 - learning_rate: 1.0000e-05\n",
            "Epoch 5/100\n",
            "\u001b[1m233/233\u001b[0m \u001b[32m━━━━━━━━━━━━━━━━━━━━\u001b[0m\u001b[37m\u001b[0m \u001b[1m0s\u001b[0m 267ms/step - iou_metric: 0.5579 - loss: 0.2885\n",
            "Epoch 5: val_iou_metric improved from 0.39963 to 0.43170, saving model to /content/drive/MyDrive/best_deeplab_model.keras\n",
            "\u001b[1m233/233\u001b[0m \u001b[32m━━━━━━━━━━━━━━━━━━━━\u001b[0m\u001b[37m\u001b[0m \u001b[1m76s\u001b[0m 324ms/step - iou_metric: 0.5579 - loss: 0.2885 - val_iou_metric: 0.4317 - val_loss: 0.4179 - learning_rate: 1.0000e-05\n",
            "Epoch 6/100\n",
            "\u001b[1m233/233\u001b[0m \u001b[32m━━━━━━━━━━━━━━━━━━━━\u001b[0m\u001b[37m\u001b[0m \u001b[1m0s\u001b[0m 269ms/step - iou_metric: 0.5870 - loss: 0.2631\n",
            "Epoch 6: val_iou_metric improved from 0.43170 to 0.45038, saving model to /content/drive/MyDrive/best_deeplab_model.keras\n",
            "\u001b[1m233/233\u001b[0m \u001b[32m━━━━━━━━━━━━━━━━━━━━\u001b[0m\u001b[37m\u001b[0m \u001b[1m76s\u001b[0m 324ms/step - iou_metric: 0.5870 - loss: 0.2631 - val_iou_metric: 0.4504 - val_loss: 0.4001 - learning_rate: 1.0000e-05\n",
            "Epoch 7/100\n",
            "\u001b[1m233/233\u001b[0m \u001b[32m━━━━━━━━━━━━━━━━━━━━\u001b[0m\u001b[37m\u001b[0m \u001b[1m0s\u001b[0m 267ms/step - iou_metric: 0.6049 - loss: 0.2491\n",
            "Epoch 7: val_iou_metric improved from 0.45038 to 0.46988, saving model to /content/drive/MyDrive/best_deeplab_model.keras\n",
            "\u001b[1m233/233\u001b[0m \u001b[32m━━━━━━━━━━━━━━━━━━━━\u001b[0m\u001b[37m\u001b[0m \u001b[1m76s\u001b[0m 322ms/step - iou_metric: 0.6049 - loss: 0.2491 - val_iou_metric: 0.4699 - val_loss: 0.3826 - learning_rate: 1.0000e-05\n",
            "Epoch 8/100\n",
            "\u001b[1m233/233\u001b[0m \u001b[32m━━━━━━━━━━━━━━━━━━━━\u001b[0m\u001b[37m\u001b[0m \u001b[1m0s\u001b[0m 266ms/step - iou_metric: 0.6284 - loss: 0.2309\n",
            "Epoch 8: val_iou_metric did not improve from 0.46988\n",
            "\u001b[1m233/233\u001b[0m \u001b[32m━━━━━━━━━━━━━━━━━━━━\u001b[0m\u001b[37m\u001b[0m \u001b[1m74s\u001b[0m 317ms/step - iou_metric: 0.6284 - loss: 0.2309 - val_iou_metric: 0.4692 - val_loss: 0.3802 - learning_rate: 1.0000e-05\n",
            "Epoch 9/100\n",
            "\u001b[1m233/233\u001b[0m \u001b[32m━━━━━━━━━━━━━━━━━━━━\u001b[0m\u001b[37m\u001b[0m \u001b[1m0s\u001b[0m 254ms/step - iou_metric: 0.6323 - loss: 0.2280\n",
            "Epoch 9: val_iou_metric improved from 0.46988 to 0.47739, saving model to /content/drive/MyDrive/best_deeplab_model.keras\n",
            "\u001b[1m233/233\u001b[0m \u001b[32m━━━━━━━━━━━━━━━━━━━━\u001b[0m\u001b[37m\u001b[0m \u001b[1m81s\u001b[0m 312ms/step - iou_metric: 0.6323 - loss: 0.2280 - val_iou_metric: 0.4774 - val_loss: 0.3750 - learning_rate: 1.0000e-05\n",
            "Epoch 10/100\n",
            "\u001b[1m233/233\u001b[0m \u001b[32m━━━━━━━━━━━━━━━━━━━━\u001b[0m\u001b[37m\u001b[0m \u001b[1m0s\u001b[0m 270ms/step - iou_metric: 0.6431 - loss: 0.2198\n",
            "Epoch 10: val_iou_metric improved from 0.47739 to 0.48391, saving model to /content/drive/MyDrive/best_deeplab_model.keras\n",
            "\u001b[1m233/233\u001b[0m \u001b[32m━━━━━━━━━━━━━━━━━━━━\u001b[0m\u001b[37m\u001b[0m \u001b[1m85s\u001b[0m 365ms/step - iou_metric: 0.6431 - loss: 0.2198 - val_iou_metric: 0.4839 - val_loss: 0.3682 - learning_rate: 1.0000e-05\n",
            "Epoch 11/100\n",
            "\u001b[1m233/233\u001b[0m \u001b[32m━━━━━━━━━━━━━━━━━━━━\u001b[0m\u001b[37m\u001b[0m \u001b[1m0s\u001b[0m 254ms/step - iou_metric: 0.6637 - loss: 0.2043\n",
            "Epoch 11: val_iou_metric improved from 0.48391 to 0.50292, saving model to /content/drive/MyDrive/best_deeplab_model.keras\n",
            "\u001b[1m233/233\u001b[0m \u001b[32m━━━━━━━━━━━━━━━━━━━━\u001b[0m\u001b[37m\u001b[0m \u001b[1m129s\u001b[0m 311ms/step - iou_metric: 0.6637 - loss: 0.2043 - val_iou_metric: 0.5029 - val_loss: 0.3502 - learning_rate: 1.0000e-05\n",
            "Epoch 12/100\n",
            "\u001b[1m233/233\u001b[0m \u001b[32m━━━━━━━━━━━━━━━━━━━━\u001b[0m\u001b[37m\u001b[0m \u001b[1m0s\u001b[0m 267ms/step - iou_metric: 0.6611 - loss: 0.2068\n",
            "Epoch 12: val_iou_metric did not improve from 0.50292\n",
            "\u001b[1m233/233\u001b[0m \u001b[32m━━━━━━━━━━━━━━━━━━━━\u001b[0m\u001b[37m\u001b[0m \u001b[1m83s\u001b[0m 355ms/step - iou_metric: 0.6611 - loss: 0.2067 - val_iou_metric: 0.4909 - val_loss: 0.3623 - learning_rate: 1.0000e-05\n",
            "Epoch 13/100\n",
            "\u001b[1m233/233\u001b[0m \u001b[32m━━━━━━━━━━━━━━━━━━━━\u001b[0m\u001b[37m\u001b[0m \u001b[1m0s\u001b[0m 254ms/step - iou_metric: 0.6817 - loss: 0.1909\n",
            "Epoch 13: val_iou_metric improved from 0.50292 to 0.50588, saving model to /content/drive/MyDrive/best_deeplab_model.keras\n",
            "\u001b[1m233/233\u001b[0m \u001b[32m━━━━━━━━━━━━━━━━━━━━\u001b[0m\u001b[37m\u001b[0m \u001b[1m73s\u001b[0m 313ms/step - iou_metric: 0.6817 - loss: 0.1909 - val_iou_metric: 0.5059 - val_loss: 0.3492 - learning_rate: 1.0000e-05\n",
            "Epoch 14/100\n",
            "\u001b[1m233/233\u001b[0m \u001b[32m━━━━━━━━━━━━━━━━━━━━\u001b[0m\u001b[37m\u001b[0m \u001b[1m0s\u001b[0m 268ms/step - iou_metric: 0.6935 - loss: 0.1825\n",
            "Epoch 14: val_iou_metric did not improve from 0.50588\n",
            "\u001b[1m233/233\u001b[0m \u001b[32m━━━━━━━━━━━━━━━━━━━━\u001b[0m\u001b[37m\u001b[0m \u001b[1m74s\u001b[0m 317ms/step - iou_metric: 0.6935 - loss: 0.1826 - val_iou_metric: 0.4937 - val_loss: 0.3599 - learning_rate: 1.0000e-05\n",
            "Epoch 15/100\n",
            "\u001b[1m233/233\u001b[0m \u001b[32m━━━━━━━━━━━━━━━━━━━━\u001b[0m\u001b[37m\u001b[0m \u001b[1m0s\u001b[0m 252ms/step - iou_metric: 0.6944 - loss: 0.1825\n",
            "Epoch 15: val_iou_metric did not improve from 0.50588\n",
            "\u001b[1m233/233\u001b[0m \u001b[32m━━━━━━━━━━━━━━━━━━━━\u001b[0m\u001b[37m\u001b[0m \u001b[1m70s\u001b[0m 299ms/step - iou_metric: 0.6944 - loss: 0.1825 - val_iou_metric: 0.5047 - val_loss: 0.3506 - learning_rate: 1.0000e-05\n",
            "Epoch 16/100\n",
            "\u001b[1m233/233\u001b[0m \u001b[32m━━━━━━━━━━━━━━━━━━━━\u001b[0m\u001b[37m\u001b[0m \u001b[1m0s\u001b[0m 255ms/step - iou_metric: 0.7102 - loss: 0.1709\n",
            "Epoch 16: val_iou_metric improved from 0.50588 to 0.50689, saving model to /content/drive/MyDrive/best_deeplab_model.keras\n",
            "\u001b[1m233/233\u001b[0m \u001b[32m━━━━━━━━━━━━━━━━━━━━\u001b[0m\u001b[37m\u001b[0m \u001b[1m85s\u001b[0m 312ms/step - iou_metric: 0.7102 - loss: 0.1709 - val_iou_metric: 0.5069 - val_loss: 0.3482 - learning_rate: 1.0000e-05\n",
            "Epoch 17/100\n",
            "\u001b[1m233/233\u001b[0m \u001b[32m━━━━━━━━━━━━━━━━━━━━\u001b[0m\u001b[37m\u001b[0m \u001b[1m0s\u001b[0m 268ms/step - iou_metric: 0.7138 - loss: 0.1681\n",
            "Epoch 17: val_iou_metric improved from 0.50689 to 0.51173, saving model to /content/drive/MyDrive/best_deeplab_model.keras\n",
            "\u001b[1m233/233\u001b[0m \u001b[32m━━━━━━━━━━━━━━━━━━━━\u001b[0m\u001b[37m\u001b[0m \u001b[1m76s\u001b[0m 323ms/step - iou_metric: 0.7138 - loss: 0.1681 - val_iou_metric: 0.5117 - val_loss: 0.3454 - learning_rate: 1.0000e-05\n",
            "Epoch 18/100\n",
            "\u001b[1m233/233\u001b[0m \u001b[32m━━━━━━━━━━━━━━━━━━━━\u001b[0m\u001b[37m\u001b[0m \u001b[1m0s\u001b[0m 268ms/step - iou_metric: 0.7203 - loss: 0.1638\n",
            "Epoch 18: val_iou_metric did not improve from 0.51173\n",
            "\u001b[1m233/233\u001b[0m \u001b[32m━━━━━━━━━━━━━━━━━━━━\u001b[0m\u001b[37m\u001b[0m \u001b[1m90s\u001b[0m 357ms/step - iou_metric: 0.7203 - loss: 0.1638 - val_iou_metric: 0.5094 - val_loss: 0.3448 - learning_rate: 1.0000e-05\n",
            "Epoch 19/100\n",
            "\u001b[1m233/233\u001b[0m \u001b[32m━━━━━━━━━━━━━━━━━━━━\u001b[0m\u001b[37m\u001b[0m \u001b[1m0s\u001b[0m 254ms/step - iou_metric: 0.7175 - loss: 0.1658\n",
            "Epoch 19: val_iou_metric improved from 0.51173 to 0.51764, saving model to /content/drive/MyDrive/best_deeplab_model.keras\n",
            "\u001b[1m233/233\u001b[0m \u001b[32m━━━━━━━━━━━━━━━━━━━━\u001b[0m\u001b[37m\u001b[0m \u001b[1m82s\u001b[0m 349ms/step - iou_metric: 0.7176 - loss: 0.1658 - val_iou_metric: 0.5176 - val_loss: 0.3388 - learning_rate: 1.0000e-05\n",
            "Epoch 20/100\n",
            "\u001b[1m233/233\u001b[0m \u001b[32m━━━━━━━━━━━━━━━━━━━━\u001b[0m\u001b[37m\u001b[0m \u001b[1m0s\u001b[0m 268ms/step - iou_metric: 0.7286 - loss: 0.1585\n",
            "Epoch 20: val_iou_metric did not improve from 0.51764\n",
            "\u001b[1m233/233\u001b[0m \u001b[32m━━━━━━━━━━━━━━━━━━━━\u001b[0m\u001b[37m\u001b[0m \u001b[1m75s\u001b[0m 320ms/step - iou_metric: 0.7286 - loss: 0.1585 - val_iou_metric: 0.5157 - val_loss: 0.3399 - learning_rate: 1.0000e-05\n",
            "Epoch 21/100\n",
            "\u001b[1m233/233\u001b[0m \u001b[32m━━━━━━━━━━━━━━━━━━━━\u001b[0m\u001b[37m\u001b[0m \u001b[1m0s\u001b[0m 251ms/step - iou_metric: 0.7278 - loss: 0.1590\n",
            "Epoch 21: val_iou_metric did not improve from 0.51764\n",
            "\u001b[1m233/233\u001b[0m \u001b[32m━━━━━━━━━━━━━━━━━━━━\u001b[0m\u001b[37m\u001b[0m \u001b[1m71s\u001b[0m 302ms/step - iou_metric: 0.7278 - loss: 0.1590 - val_iou_metric: 0.4994 - val_loss: 0.3544 - learning_rate: 1.0000e-05\n",
            "Epoch 22/100\n",
            "\u001b[1m233/233\u001b[0m \u001b[32m━━━━━━━━━━━━━━━━━━━━\u001b[0m\u001b[37m\u001b[0m \u001b[1m0s\u001b[0m 252ms/step - iou_metric: 0.7379 - loss: 0.1519\n",
            "Epoch 22: val_iou_metric did not improve from 0.51764\n",
            "\n",
            "Epoch 22: ReduceLROnPlateau reducing learning rate to 4.999999873689376e-06.\n",
            "\u001b[1m233/233\u001b[0m \u001b[32m━━━━━━━━━━━━━━━━━━━━\u001b[0m\u001b[37m\u001b[0m \u001b[1m71s\u001b[0m 302ms/step - iou_metric: 0.7379 - loss: 0.1519 - val_iou_metric: 0.5028 - val_loss: 0.3519 - learning_rate: 1.0000e-05\n",
            "Epoch 23/100\n",
            "\u001b[1m233/233\u001b[0m \u001b[32m━━━━━━━━━━━━━━━━━━━━\u001b[0m\u001b[37m\u001b[0m \u001b[1m0s\u001b[0m 253ms/step - iou_metric: 0.7441 - loss: 0.1478\n",
            "Epoch 23: val_iou_metric improved from 0.51764 to 0.52621, saving model to /content/drive/MyDrive/best_deeplab_model.keras\n",
            "\u001b[1m233/233\u001b[0m \u001b[32m━━━━━━━━━━━━━━━━━━━━\u001b[0m\u001b[37m\u001b[0m \u001b[1m73s\u001b[0m 312ms/step - iou_metric: 0.7440 - loss: 0.1478 - val_iou_metric: 0.5262 - val_loss: 0.3319 - learning_rate: 5.0000e-06\n",
            "Epoch 24/100\n",
            "\u001b[1m233/233\u001b[0m \u001b[32m━━━━━━━━━━━━━━━━━━━━\u001b[0m\u001b[37m\u001b[0m \u001b[1m0s\u001b[0m 270ms/step - iou_metric: 0.7426 - loss: 0.1490\n",
            "Epoch 24: val_iou_metric did not improve from 0.52621\n",
            "\u001b[1m233/233\u001b[0m \u001b[32m━━━━━━━━━━━━━━━━━━━━\u001b[0m\u001b[37m\u001b[0m \u001b[1m75s\u001b[0m 319ms/step - iou_metric: 0.7426 - loss: 0.1490 - val_iou_metric: 0.5201 - val_loss: 0.3363 - learning_rate: 5.0000e-06\n",
            "Epoch 25/100\n",
            "\u001b[1m233/233\u001b[0m \u001b[32m━━━━━━━━━━━━━━━━━━━━\u001b[0m\u001b[37m\u001b[0m \u001b[1m0s\u001b[0m 253ms/step - iou_metric: 0.7415 - loss: 0.1501\n",
            "Epoch 25: val_iou_metric did not improve from 0.52621\n",
            "\u001b[1m233/233\u001b[0m \u001b[32m━━━━━━━━━━━━━━━━━━━━\u001b[0m\u001b[37m\u001b[0m \u001b[1m80s\u001b[0m 341ms/step - iou_metric: 0.7415 - loss: 0.1501 - val_iou_metric: 0.5251 - val_loss: 0.3321 - learning_rate: 5.0000e-06\n",
            "Epoch 26/100\n",
            "\u001b[1m233/233\u001b[0m \u001b[32m━━━━━━━━━━━━━━━━━━━━\u001b[0m\u001b[37m\u001b[0m \u001b[1m0s\u001b[0m 254ms/step - iou_metric: 0.7488 - loss: 0.1449\n",
            "Epoch 26: val_iou_metric did not improve from 0.52621\n",
            "\n",
            "Epoch 26: ReduceLROnPlateau reducing learning rate to 2.499999936844688e-06.\n",
            "\u001b[1m233/233\u001b[0m \u001b[32m━━━━━━━━━━━━━━━━━━━━\u001b[0m\u001b[37m\u001b[0m \u001b[1m71s\u001b[0m 304ms/step - iou_metric: 0.7488 - loss: 0.1449 - val_iou_metric: 0.5116 - val_loss: 0.3442 - learning_rate: 5.0000e-06\n",
            "Epoch 27/100\n",
            "\u001b[1m233/233\u001b[0m \u001b[32m━━━━━━━━━━━━━━━━━━━━\u001b[0m\u001b[37m\u001b[0m \u001b[1m0s\u001b[0m 256ms/step - iou_metric: 0.7527 - loss: 0.1424\n",
            "Epoch 27: val_iou_metric did not improve from 0.52621\n",
            "\u001b[1m233/233\u001b[0m \u001b[32m━━━━━━━━━━━━━━━━━━━━\u001b[0m\u001b[37m\u001b[0m \u001b[1m83s\u001b[0m 307ms/step - iou_metric: 0.7526 - loss: 0.1424 - val_iou_metric: 0.5257 - val_loss: 0.3316 - learning_rate: 2.5000e-06\n",
            "Epoch 28/100\n",
            "\u001b[1m233/233\u001b[0m \u001b[32m━━━━━━━━━━━━━━━━━━━━\u001b[0m\u001b[37m\u001b[0m \u001b[1m0s\u001b[0m 253ms/step - iou_metric: 0.7496 - loss: 0.1446\n",
            "Epoch 28: val_iou_metric did not improve from 0.52621\n",
            "\u001b[1m233/233\u001b[0m \u001b[32m━━━━━━━━━━━━━━━━━━━━\u001b[0m\u001b[37m\u001b[0m \u001b[1m71s\u001b[0m 305ms/step - iou_metric: 0.7496 - loss: 0.1446 - val_iou_metric: 0.5187 - val_loss: 0.3375 - learning_rate: 2.5000e-06\n",
            "Epoch 29/100\n",
            "\u001b[1m233/233\u001b[0m \u001b[32m━━━━━━━━━━━━━━━━━━━━\u001b[0m\u001b[37m\u001b[0m \u001b[1m0s\u001b[0m 253ms/step - iou_metric: 0.7541 - loss: 0.1415\n",
            "Epoch 29: val_iou_metric did not improve from 0.52621\n",
            "\u001b[1m233/233\u001b[0m \u001b[32m━━━━━━━━━━━━━━━━━━━━\u001b[0m\u001b[37m\u001b[0m \u001b[1m71s\u001b[0m 303ms/step - iou_metric: 0.7541 - loss: 0.1415 - val_iou_metric: 0.5222 - val_loss: 0.3339 - learning_rate: 2.5000e-06\n",
            "Epoch 30/100\n",
            "\u001b[1m233/233\u001b[0m \u001b[32m━━━━━━━━━━━━━━━━━━━━\u001b[0m\u001b[37m\u001b[0m \u001b[1m0s\u001b[0m 253ms/step - iou_metric: 0.7539 - loss: 0.1413\n",
            "Epoch 30: val_iou_metric did not improve from 0.52621\n",
            "\n",
            "Epoch 30: ReduceLROnPlateau reducing learning rate to 1.249999968422344e-06.\n",
            "\u001b[1m233/233\u001b[0m \u001b[32m━━━━━━━━━━━━━━━━━━━━\u001b[0m\u001b[37m\u001b[0m \u001b[1m80s\u001b[0m 341ms/step - iou_metric: 0.7540 - loss: 0.1413 - val_iou_metric: 0.5171 - val_loss: 0.3399 - learning_rate: 2.5000e-06\n",
            "Epoch 30: early stopping\n",
            "Restoring model weights from the end of the best epoch: 23.\n"
          ]
        }
      ]
    },
    {
      "cell_type": "code",
      "source": [
        "import numpy as np\n",
        "import cv2\n",
        "from scipy.ndimage import binary_fill_holes, label\n",
        "from skimage.morphology import remove_small_objects, remove_small_holes, binary_closing\n",
        "\n",
        "def postprocess_mask(mask, threshold=0.5, min_size=100):\n",
        "    \"\"\"\n",
        "    Post-process a single predicted mask:\n",
        "    - Threshold\n",
        "    - Fill holes\n",
        "    - Remove small objects\n",
        "    - Morphological closing\n",
        "    \"\"\"\n",
        "    # Binarize\n",
        "    binary = (mask > threshold).astype(np.uint8)\n",
        "\n",
        "    # Fill small holes\n",
        "    binary = binary_fill_holes(binary).astype(np.uint8)\n",
        "\n",
        "    # Remove small objects\n",
        "    binary = remove_small_objects(binary.astype(bool), min_size=min_size).astype(np.uint8)\n",
        "\n",
        "    # Optional: Morphological closing to smooth edges\n",
        "    binary = binary_closing(binary, selem=np.ones((3, 3))).astype(np.uint8)\n",
        "\n",
        "    return binary\n"
      ],
      "metadata": {
        "id": "Wcwh-7RdZlJv"
      },
      "execution_count": 100,
      "outputs": []
    },
    {
      "cell_type": "code",
      "source": [
        "import matplotlib.pyplot as plt\n",
        "\n",
        "# Assuming 'history' is the result of your model.fit() call\n",
        "# Access training & validation loss history\n",
        "train_loss = history.history['loss']\n",
        "val_loss = history.history['val_loss']\n",
        "\n",
        "# Plotting loss curves\n",
        "plt.figure(figsize=(10, 6))\n",
        "plt.plot(train_loss, label='Training Loss')\n",
        "plt.plot(val_loss, label='Validation Loss')\n",
        "plt.title('Loss vs. Epochs')\n",
        "plt.xlabel('Epochs')\n",
        "plt.ylabel('Loss')\n",
        "plt.legend()\n",
        "plt.grid(True)\n",
        "plt.show()\n"
      ],
      "metadata": {
        "colab": {
          "base_uri": "https://localhost:8080/",
          "height": 564
        },
        "id": "6WHS3-LeWReD",
        "outputId": "624dbcef-97e4-4014-a780-26b164b6d187"
      },
      "execution_count": 101,
      "outputs": [
        {
          "output_type": "display_data",
          "data": {
            "text/plain": [
              "<Figure size 1000x600 with 1 Axes>"
            ],
            "image/png": "[encoded data removed]"
          },
          "metadata": {}
        }
      ]
    },
    {
      "cell_type": "code",
      "source": [
        "# Access training & validation IOU history\n",
        "train_iou = history.history['iou_metric']\n",
        "val_iou = history.history['val_iou_metric']\n",
        "\n",
        "# Plotting IOU curves\n",
        "plt.figure(figsize=(10, 6))\n",
        "plt.plot(train_iou, label='Training IOU')\n",
        "plt.plot(val_iou, label='Validation IOU')\n",
        "plt.title('IOU Metric vs. Epochs')\n",
        "plt.xlabel('Epochs')\n",
        "plt.ylabel('IOU')\n",
        "plt.legend()\n",
        "plt.grid(True)\n",
        "plt.show()\n"
      ],
      "metadata": {
        "colab": {
          "base_uri": "https://localhost:8080/",
          "height": 564
        },
        "id": "s2VSxQozWT0I",
        "outputId": "70b165ba-488d-492f-8d6d-85b5f6bc4cec"
      },
      "execution_count": 102,
      "outputs": [
        {
          "output_type": "display_data",
          "data": {
            "text/plain": [
              "<Figure size 1000x600 with 1 Axes>"
            ],
            "image/png": "[encoded data removed]"
          },
          "metadata": {}
        }
      ]
    },
    {
      "cell_type": "code",
      "source": [
        "!pip install medpy"
      ],
      "metadata": {
        "colab": {
          "base_uri": "https://localhost:8080/"
        },
        "id": "RH7_bxdkZvhz",
        "outputId": "cfa368bf-fdd1-48ea-c2fb-f19486c3699d"
      },
      "execution_count": 104,
      "outputs": [
        {
          "output_type": "stream",
          "name": "stdout",
          "text": [
            "Collecting medpy\n",
            "  Downloading medpy-0.5.2.tar.gz (156 kB)\n",
            "\u001b[?25l     \u001b[90m━━━━━━━━━━━━━━━━━━━━━━━━━━━━━━━━━━━━━━━━\u001b[0m \u001b[32m0.0/156.3 kB\u001b[0m \u001b[31m?\u001b[0m eta \u001b[36m-:--:--\u001b[0m\r\u001b[2K     \u001b[90m━━━━━━━━━━━━━━━━━━━━━━━━━━━━━━━━━━━━━━━\u001b[0m \u001b[32m156.3/156.3 kB\u001b[0m \u001b[31m5.3 MB/s\u001b[0m eta \u001b[36m0:00:00\u001b[0m\n",
            "\u001b[?25h  Preparing metadata (setup.py) ... \u001b[?25l\u001b[?25hdone\n",
            "Requirement already satisfied: scipy>=1.10 in /usr/local/lib/python3.11/dist-packages (from medpy) (1.15.2)\n",
            "Requirement already satisfied: numpy>=1.24 in /usr/local/lib/python3.11/dist-packages (from medpy) (2.0.2)\n",
            "Collecting SimpleITK>=2.1 (from medpy)\n",
            "  Downloading simpleitk-2.5.0-cp311-abi3-manylinux_2_17_x86_64.manylinux2014_x86_64.whl.metadata (7.2 kB)\n",
            "Downloading simpleitk-2.5.0-cp311-abi3-manylinux_2_17_x86_64.manylinux2014_x86_64.whl (52.6 MB)\n",
            "\u001b[2K   \u001b[90m━━━━━━━━━━━━━━━━━━━━━━━━━━━━━━━━━━━━━━━━\u001b[0m \u001b[32m52.6/52.6 MB\u001b[0m \u001b[31m15.5 MB/s\u001b[0m eta \u001b[36m0:00:00\u001b[0m\n",
            "\u001b[?25hBuilding wheels for collected packages: medpy\n",
            "  Building wheel for medpy (setup.py) ... \u001b[?25l\u001b[?25hdone\n",
            "  Created wheel for medpy: filename=MedPy-0.5.2-py3-none-any.whl size=224710 sha256=0fb20b60a10b3312324671026ae4bdaea7332c72cf09bd5803e72bd5d5b5ea3b\n",
            "  Stored in directory: /root/.cache/pip/wheels/d4/33/ed/aaac5a347fb8d41679ca515b8f5c49dfdf49be15bdbb9a905d\n",
            "Successfully built medpy\n",
            "Installing collected packages: SimpleITK, medpy\n",
            "Successfully installed SimpleITK-2.5.0 medpy-0.5.2\n"
          ]
        }
      ]
    },
    {
      "cell_type": "code",
      "source": [
        "import numpy as np\n",
        "from sklearn.metrics import accuracy_score, f1_score, jaccard_score\n",
        "\n",
        "def evaluate_predictions(y_true, y_pred):\n",
        "    # Convert lists to NumPy arrays if they are lists of arrays\n",
        "    y_true = np.array(y_true)\n",
        "    y_pred = np.array(y_pred)\n",
        "\n",
        "    # Ensure both arrays are flattened to 1D for comparison\n",
        "    y_true = y_true.flatten()\n",
        "    y_pred = y_pred.flatten()\n",
        "\n",
        "    metrics = {\n",
        "        'Accuracy': accuracy_score(y_true, y_pred),\n",
        "        'F1 Score': f1_score(y_true, y_pred, average='binary'),\n",
        "        'IoU': jaccard_score(y_true, y_pred, average='binary')\n",
        "    }\n",
        "\n",
        "    return metrics\n"
      ],
      "metadata": {
        "id": "trz7qIqKZqz6"
      },
      "execution_count": 112,
      "outputs": []
    },
    {
      "cell_type": "code",
      "source": [
        "# Predict on the validation set\n",
        "y_pred = model.predict(validation_images)\n",
        "\n",
        "# Post-process each prediction\n",
        "y_pred_pp = [postprocess_mask(p) for p in y_pred]\n",
        "\n",
        "# Evaluate the predictions\n",
        "metrics = evaluate_predictions(y_true=validation_masks, y_pred=y_pred_pp)\n",
        "\n",
        "# Print the evaluation metrics\n",
        "print(\"Evaluation after post-processing:\")\n",
        "for k, v in metrics.items():\n",
        "    print(f\"{k}: {v:.4f}\")\n"
      ],
      "metadata": {
        "colab": {
          "base_uri": "https://localhost:8080/"
        },
        "id": "oc-U8UknZ4eD",
        "outputId": "2aa63de9-515c-452a-805f-820cb0822d83"
      },
      "execution_count": 113,
      "outputs": [
        {
          "output_type": "stream",
          "name": "stdout",
          "text": [
            "\u001b[1m13/13\u001b[0m \u001b[32m━━━━━━━━━━━━━━━━━━━━\u001b[0m\u001b[37m\u001b[0m \u001b[1m5s\u001b[0m 352ms/step\n",
            "Evaluation after post-processing:\n",
            "Accuracy: 0.9219\n",
            "F1 Score: 0.7070\n",
            "IoU: 0.5467\n"
          ]
        }
      ]
    },
    {
      "cell_type": "code",
      "source": [
        "import numpy as np\n",
        "\n",
        "def rmsd(pred_mask, true_mask):\n",
        "    pred_points = np.argwhere(pred_mask)\n",
        "    true_points = np.argwhere(true_mask)\n",
        "\n",
        "    if pred_points.size == 0 or true_points.size == 0:\n",
        "        return np.nan  # Cannot compute RMSD without points\n",
        "\n",
        "    distances = np.linalg.norm(pred_points[:, None] - true_points[None, :], axis=2)\n",
        "    min_distances = np.min(distances, axis=1)\n",
        "    return np.sqrt(np.mean(min_distances ** 2))\n",
        "\n",
        "# Convert to NumPy arrays\n",
        "y_pred_np = np.array(y_pred_pp)\n",
        "y_true_np = np.array(validation_masks)\n",
        "\n",
        "# Make sure they're binary (if not already)\n",
        "y_pred_bin = (y_pred_np > 0.5).astype(np.uint8)\n",
        "y_true_bin = (y_true_np > 0.5).astype(np.uint8)\n",
        "\n",
        "# Compute RMSD for each pair\n",
        "rmsd_scores = []\n",
        "for pred, true in zip(y_pred_bin, y_true_bin):\n",
        "    rmsd_value = rmsd(pred.squeeze(), true.squeeze())  # Remove channel dim if exists\n",
        "    if not np.isnan(rmsd_value):\n",
        "        rmsd_scores.append(rmsd_value)\n",
        "\n",
        "# Mean RMSD across dataset\n",
        "mean_rmsd = np.mean(rmsd_scores)\n",
        "print(f\"Mean RMSD: {mean_rmsd:.4f}\")\n"
      ],
      "metadata": {
        "colab": {
          "base_uri": "https://localhost:8080/",
          "height": 211
        },
        "id": "vD8TEFWhePEi",
        "outputId": "06ddbd80-072a-4587-8826-495017de8694"
      },
      "execution_count": 1,
      "outputs": [
        {
          "output_type": "error",
          "ename": "NameError",
          "evalue": "name 'y_pred_pp' is not defined",
          "traceback": [
            "\u001b[0;31m---------------------------------------------------------------------------\u001b[0m",
            "\u001b[0;31mNameError\u001b[0m                                 Traceback (most recent call last)",
            "\u001b[0;32m<ipython-input-1-b7c9de2976e7>\u001b[0m in \u001b[0;36m<cell line: 0>\u001b[0;34m()\u001b[0m\n\u001b[1;32m     13\u001b[0m \u001b[0;34m\u001b[0m\u001b[0m\n\u001b[1;32m     14\u001b[0m \u001b[0;31m# Convert to NumPy arrays\u001b[0m\u001b[0;34m\u001b[0m\u001b[0;34m\u001b[0m\u001b[0m\n\u001b[0;32m---> 15\u001b[0;31m \u001b[0my_pred_np\u001b[0m \u001b[0;34m=\u001b[0m \u001b[0mnp\u001b[0m\u001b[0;34m.\u001b[0m\u001b[0marray\u001b[0m\u001b[0;34m(\u001b[0m\u001b[0my_pred_pp\u001b[0m\u001b[0;34m)\u001b[0m\u001b[0;34m\u001b[0m\u001b[0;34m\u001b[0m\u001b[0m\n\u001b[0m\u001b[1;32m     16\u001b[0m \u001b[0my_true_np\u001b[0m \u001b[0;34m=\u001b[0m \u001b[0mnp\u001b[0m\u001b[0;34m.\u001b[0m\u001b[0marray\u001b[0m\u001b[0;34m(\u001b[0m\u001b[0mvalidation_masks\u001b[0m\u001b[0;34m)\u001b[0m\u001b[0;34m\u001b[0m\u001b[0;34m\u001b[0m\u001b[0m\n\u001b[1;32m     17\u001b[0m \u001b[0;34m\u001b[0m\u001b[0m\n",
            "\u001b[0;31mNameError\u001b[0m: name 'y_pred_pp' is not defined"
          ]
        }
      ]
    },
    {
      "cell_type": "code",
      "source": [
        "from scipy.ndimage import binary_erosion\n",
        "\n",
        "def get_surface(mask):\n",
        "    eroded = binary_erosion(mask)\n",
        "    surface = mask ^ eroded  # XOR: Surface pixels only\n",
        "    return surface\n"
      ],
      "metadata": {
        "id": "dMW6ePGIWftx"
      },
      "execution_count": 88,
      "outputs": []
    },
    {
      "cell_type": "code",
      "source": [
        "import numpy as np\n",
        "from scipy.spatial.distance import directed_hausdorff\n",
        "from scipy.ndimage import distance_transform_edt\n",
        "\n",
        "def dice_coefficient(pred, gt):\n",
        "    intersection = np.logical_and(pred, gt).sum()\n",
        "    return (2. * intersection) / (pred.sum() + gt.sum())\n",
        "\n",
        "def voe(pred, gt):\n",
        "    intersection = np.logical_and(pred, gt).sum()\n",
        "    union = np.logical_or(pred, gt).sum()\n",
        "    return 1 - (intersection / union)\n",
        "\n",
        "def rvd(pred, gt):\n",
        "    return (pred.sum() - gt.sum()) / gt.sum()\n",
        "def assd(pred, gt):\n",
        "    pred_surface = get_surface(pred)\n",
        "    gt_surface = get_surface(gt)\n",
        "    if np.sum(pred_surface) == 0 or np.sum(gt_surface) == 0:\n",
        "        return np.nan  # Surface not found\n",
        "    pred_dist = distance_transform_edt(~pred_surface)\n",
        "    gt_dist = distance_transform_edt(~gt_surface)\n",
        "    surface_distances = np.concatenate([\n",
        "        pred_dist[gt_surface],\n",
        "        gt_dist[pred_surface]\n",
        "    ])\n",
        "    return surface_distances.mean()\n",
        "\n",
        "def rmsd(pred, gt):\n",
        "    pred_surface = get_surface(pred)\n",
        "    gt_surface = get_surface(gt)\n",
        "    if np.sum(pred_surface) == 0 or np.sum(gt_surface) == 0:\n",
        "        return np.nan  # Surface not found\n",
        "    pred_dist = distance_transform_edt(~pred_surface)\n",
        "    gt_dist = distance_transform_edt(~gt_surface)\n",
        "    surface_distances = np.concatenate([\n",
        "        pred_dist[gt_surface],\n",
        "        gt_dist[pred_surface]\n",
        "    ])\n",
        "    return np.sqrt((surface_distances ** 2).mean())\n",
        "\n",
        "\n",
        "# Example usage\n",
        "# pred_mask and gt_mask should be binary (0 and 1) masks\n",
        "\n",
        "# Example dummy masks (replace with your real predictions)\n",
        "pred_mask = np.random.randint(0, 2, (256, 256))\n",
        "gt_mask = np.random.randint(0, 2, (256, 256))\n",
        "\n",
        "dice = dice_coefficient(pred_mask, gt_mask)\n",
        "voe_score = voe(pred_mask, gt_mask)\n",
        "rvd_score = rvd(pred_mask, gt_mask)\n",
        "assd_score = assd(pred_mask, gt_mask)\n",
        "rmsd_score = rmsd(pred_mask, gt_mask)\n",
        "\n",
        "print(f\"Dice Coefficient: {dice:.4f}\")\n",
        "print(f\"VOE: {voe_score:.4f}\")\n",
        "print(f\"RVD: {rvd_score:.4f}\")\n",
        "print(f\"ASSD: {assd_score:.4f}\")\n",
        "print(f\"RMSD: {rmsd_score:.4f}\")\n"
      ],
      "metadata": {
        "colab": {
          "base_uri": "https://localhost:8080/"
        },
        "id": "nS12aec0WXQw",
        "outputId": "da6accc4-0889-4584-c18f-732a799dd5e2"
      },
      "execution_count": 114,
      "outputs": [
        {
          "output_type": "stream",
          "name": "stdout",
          "text": [
            "Dice Coefficient: 0.5016\n",
            "VOE: 0.6652\n",
            "RVD: -0.0043\n",
            "ASSD: 127.5323\n",
            "RMSD: 147.3768\n"
          ]
        }
      ]
    },
    {
      "cell_type": "code",
      "source": [
        "import cv2\n",
        "def remove_small_components(pred_mask, min_size=500):\n",
        "    num_labels, labels, stats, _ = cv2.connectedComponentsWithStats(pred_mask.astype(np.uint8), connectivity=8)\n",
        "    new_mask = np.zeros_like(pred_mask)\n",
        "    for i in range(1, num_labels):\n",
        "        if stats[i, cv2.CC_STAT_AREA] >= min_size:\n",
        "            new_mask[labels == i] = 1\n",
        "    return new_mask\n"
      ],
      "metadata": {
        "id": "wLuhD3hEosIV"
      },
      "execution_count": 49,
      "outputs": []
    },
    {
      "cell_type": "code",
      "source": [
        "import matplotlib.pyplot as plt\n",
        "\n",
        "def show_sample(image, gt_mask, pred_mask):\n",
        "    plt.figure(figsize=(12, 4))\n",
        "    plt.subplot(1, 3, 1)\n",
        "    plt.imshow(image[..., 0], cmap='gray')\n",
        "    plt.title('Input Image')\n",
        "    plt.subplot(1, 3, 2)\n",
        "    plt.imshow(gt_mask[..., 0], cmap='gray')\n",
        "    plt.title('Ground Truth')\n",
        "    plt.subplot(1, 3, 3)\n",
        "    plt.imshow(pred_mask[..., 0], cmap='gray')\n",
        "    plt.title('Prediction')\n",
        "    plt.show()\n"
      ],
      "metadata": {
        "id": "0nlDm57nWxPa"
      },
      "execution_count": 14,
      "outputs": []
    }
  ]
}