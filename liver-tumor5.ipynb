{
  "nbformat": 4,
  "nbformat_minor": 0,
  "metadata": {
    "colab": {
      "provenance": [],
      "gpuType": "T4",
      "authorship_tag": "ABX9TyPn29Yzx3RhGIJaOLoUkv7U",
      "include_colab_link": true
    },
    "kernelspec": {
      "name": "python3",
      "display_name": "Python 3"
    },
    "language_info": {
      "name": "python"
    },
    "accelerator": "GPU"
  },
  "cells": [
    {
      "cell_type": "markdown",
      "metadata": {
        "id": "view-in-github",
        "colab_type": "text"
      },
      "source": [
        "<a href=\"https://colab.research.google.com/github/githma2000/liver-tumor-segmentation/blob/main/liver-tumor5.ipynb\" target=\"_parent\"><img src=\"https://colab.research.google.com/assets/colab-badge.svg\" alt=\"Open In Colab\"/></a>"
      ]
    },
    {
      "cell_type": "code",
      "execution_count": 1,
      "metadata": {
        "colab": {
          "base_uri": "https://localhost:8080/"
        },
        "id": "2yxNzN66K_K1",
        "outputId": "1100e2ff-ca47-45d1-9bb6-c2542a82e0bf"
      },
      "outputs": [
        {
          "output_type": "stream",
          "name": "stdout",
          "text": [
            "Drive already mounted at /content/drive; to attempt to forcibly remount, call drive.mount(\"/content/drive\", force_remount=True).\n"
          ]
        }
      ],
      "source": [
        "from google.colab import drive\n",
        "drive.mount('/content/drive')\n"
      ]
    },
    {
      "cell_type": "code",
      "source": [
        "import os\n",
        "\n",
        "DATASET_PATH = '/content/drive/MyDrive/Preprocessed_3Dircadb'\n"
      ],
      "metadata": {
        "id": "bJFP79soOHjA"
      },
      "execution_count": 2,
      "outputs": []
    },
    {
      "cell_type": "code",
      "source": [
        "import os\n",
        "import random\n",
        "import shutil\n",
        "\n",
        "base_dir = '/content/drive/MyDrive/Preprocessed_3Dircadb'\n",
        "all_patients = sorted([f for f in os.listdir(base_dir) if f.startswith('3Dircadb')])\n",
        "\n",
        "# Shuffle and split\n",
        "random.seed(42)\n",
        "random.shuffle(all_patients)\n",
        "\n",
        "train_split = int(0.7 * len(all_patients))\n",
        "val_split = int(0.85 * len(all_patients))\n",
        "\n",
        "train_patients = all_patients[:train_split]\n",
        "val_patients = all_patients[train_split:val_split]\n",
        "test_patients = all_patients[val_split:]\n",
        "\n",
        "print(\"Train:\", train_patients)\n",
        "print(\"Val:\", val_patients)\n",
        "print(\"Test:\", test_patients)\n"
      ],
      "metadata": {
        "colab": {
          "base_uri": "https://localhost:8080/"
        },
        "id": "hMMvjf3ZOLeW",
        "outputId": "b7757a8a-055b-4cda-b952-d752c46808c2"
      },
      "execution_count": 3,
      "outputs": [
        {
          "output_type": "stream",
          "name": "stdout",
          "text": [
            "Train: ['3Dircadb1.9', '3Dircadb1.14', '3Dircadb1.4', '3Dircadb1.13', '3Dircadb1.18', '3Dircadb1.3', '3Dircadb1.5', '3Dircadb1.8', '3Dircadb1.15', '3Dircadb1.20', '3Dircadb1.7', '3Dircadb1.19', '3Dircadb1.10', '3Dircadb1.2']\n",
            "Val: ['3Dircadb1.11', '3Dircadb1.6', '3Dircadb1.16']\n",
            "Test: ['3Dircadb1.17', '3Dircadb1.1', '3Dircadb1.12']\n"
          ]
        }
      ]
    },
    {
      "cell_type": "code",
      "source": [
        "from tensorflow.keras.utils import Sequence\n",
        "import numpy as np\n",
        "import os\n",
        "import random\n",
        "\n",
        "class IRCADNPYDataset(Sequence):\n",
        "    def __init__(self, patient_list, base_path, batch_size=8, input_size=(256, 256),\n",
        "                 shuffle=True, balance_data=True):\n",
        "        self.patient_list = patient_list\n",
        "        self.base_path = base_path\n",
        "        self.batch_size = batch_size\n",
        "        self.input_size = input_size\n",
        "        self.shuffle = shuffle\n",
        "        self.balance_data = balance_data\n",
        "\n",
        "        self.data = self._load_all_files()\n",
        "        self.on_epoch_end()\n",
        "\n",
        "    def _load_all_files(self):\n",
        "        tumor_data = []\n",
        "        non_tumor_data = []\n",
        "\n",
        "        for patient in self.patient_list:\n",
        "            img_dir = os.path.join(self.base_path, patient, 'PATIENT_2_5D')\n",
        "            mask_dir = os.path.join(self.base_path, patient, 'LABEL_2_5D')\n",
        "\n",
        "            img_files = sorted(os.listdir(img_dir))\n",
        "            mask_files = sorted(os.listdir(mask_dir))\n",
        "\n",
        "            for img_file, mask_file in zip(img_files, mask_files):\n",
        "                img_path = os.path.join(img_dir, img_file)\n",
        "                mask_path = os.path.join(mask_dir, mask_file)\n",
        "\n",
        "                if os.path.isfile(img_path) and os.path.isfile(mask_path):\n",
        "                    mask = np.load(mask_path)\n",
        "                    mask = mask.astype(np.float32)\n",
        "\n",
        "                    # If 2D, expand to 3D for uniformity\n",
        "                    if mask.ndim == 2:\n",
        "                        mask = np.expand_dims(mask, axis=-1)\n",
        "                    elif mask.ndim == 3 and mask.shape[2] > 1:\n",
        "                        mask = mask[..., 0:1]\n",
        "\n",
        "                    # Threshold to binarize\n",
        "                    min_val = np.min(mask)\n",
        "                    max_val = np.max(mask)\n",
        "                    threshold = min_val + (max_val - min_val) * 0.1\n",
        "                    binary_mask = (mask > threshold).astype(np.float32)\n",
        "\n",
        "                    # Decide if this is a tumor slice\n",
        "                    if np.any(binary_mask > 0):\n",
        "                        tumor_data.append((img_path, mask_path))\n",
        "                    else:\n",
        "                        non_tumor_data.append((img_path, mask_path))\n",
        "\n",
        "        # Balance dataset\n",
        "        if self.balance_data:\n",
        "            sampled_non_tumor = random.sample(non_tumor_data, min(len(tumor_data), len(non_tumor_data)))\n",
        "            combined_data = tumor_data + sampled_non_tumor\n",
        "        else:\n",
        "            combined_data = tumor_data + non_tumor_data\n",
        "\n",
        "        return combined_data\n",
        "\n",
        "    def __len__(self):\n",
        "        return max(1, len(self.data) // self.batch_size)\n",
        "\n",
        "    def __getitem__(self, idx):\n",
        "        batch_pairs = self.data[idx * self.batch_size:(idx + 1) * self.batch_size]\n",
        "        images, masks = [], []\n",
        "\n",
        "        for img_path, mask_path in batch_pairs:\n",
        "            img = np.load(img_path).astype(np.float32)\n",
        "            mask = np.load(mask_path).astype(np.float32)\n",
        "\n",
        "            if mask.ndim == 2:\n",
        "                mask = np.expand_dims(mask, axis=-1)\n",
        "            elif mask.ndim == 3 and mask.shape[2] > 1:\n",
        "                mask = mask[..., 0:1]\n",
        "\n",
        "            min_val = np.min(mask)\n",
        "            max_val = np.max(mask)\n",
        "            threshold = min_val + (max_val - min_val) * 0.1\n",
        "            mask = (mask > threshold).astype(np.float32)\n",
        "\n",
        "            images.append(img)\n",
        "            masks.append(mask)\n",
        "\n",
        "        return np.array(images), np.array(masks)\n",
        "\n",
        "    def on_epoch_end(self):\n",
        "        if self.shuffle:\n",
        "            random.shuffle(self.data)\n"
      ],
      "metadata": {
        "id": "bNBu_Q7FOPIG"
      },
      "execution_count": 4,
      "outputs": []
    },
    {
      "cell_type": "code",
      "source": [
        "import tensorflow as tf\n",
        "from tensorflow.keras.layers import Conv2D, BatchNormalization, Activation, UpSampling2D, Input, concatenate\n",
        "from tensorflow.keras.models import Model\n",
        "from tensorflow.keras.applications import ResNet50\n",
        "\n",
        "def ASPP(x, filters):\n",
        "    \"\"\"Atrous Spatial Pyramid Pooling with Keras-compatible operations\"\"\"\n",
        "    shape = x.shape\n",
        "\n",
        "    y1 = Conv2D(filters, 1, padding=\"same\", use_bias=False)(x)\n",
        "    y1 = BatchNormalization()(y1)\n",
        "    y1 = Activation(\"relu\")(y1)\n",
        "\n",
        "    y2 = Conv2D(filters, 3, padding=\"same\", dilation_rate=6, use_bias=False)(x)\n",
        "    y2 = BatchNormalization()(y2)\n",
        "    y2 = Activation(\"relu\")(y2)\n",
        "\n",
        "    y3 = Conv2D(filters, 3, padding=\"same\", dilation_rate=12, use_bias=False)(x)\n",
        "    y3 = BatchNormalization()(y3)\n",
        "    y3 = Activation(\"relu\")(y3)\n",
        "\n",
        "    y4 = Conv2D(filters, 3, padding=\"same\", dilation_rate=18, use_bias=False)(x)\n",
        "    y4 = BatchNormalization()(y4)\n",
        "    y4 = Activation(\"relu\")(y4)\n",
        "\n",
        "    # Use GlobalAveragePooling2D and reshape for broadcast\n",
        "    y5 = tf.keras.layers.GlobalAveragePooling2D()(x)\n",
        "    y5 = tf.keras.layers.Reshape((1, 1, shape[-1]))(y5)\n",
        "    y5 = Conv2D(filters, 1, padding=\"same\", use_bias=False)(y5)\n",
        "    y5 = BatchNormalization()(y5)\n",
        "    y5 = Activation(\"relu\")(y5)\n",
        "    y5 = UpSampling2D(size=(shape[1], shape[2]), interpolation=\"bilinear\")(y5)\n",
        "\n",
        "    y = concatenate([y1, y2, y3, y4, y5])\n",
        "    y = Conv2D(filters, 1, padding=\"same\", use_bias=False)(y)\n",
        "    y = BatchNormalization()(y)\n",
        "    y = Activation(\"relu\")(y)\n",
        "\n",
        "    return y\n",
        "\n",
        "\n",
        "def DeeplabV3Plus(input_shape=(256, 256, 3), num_classes=1):\n",
        "    \"\"\"Custom DeepLabV3+ model with ResNet50 backbone\"\"\"\n",
        "    base_model = ResNet50(weights='imagenet', include_top=False, input_shape=input_shape)\n",
        "\n",
        "    # Use features from different levels of the encoder\n",
        "    image_features = base_model.get_layer(\"conv4_block6_2_relu\").output\n",
        "    x = ASPP(image_features, 256)\n",
        "\n",
        "    x = UpSampling2D(size=(4, 4), interpolation=\"bilinear\")(x)\n",
        "\n",
        "    low_level_feat = base_model.get_layer(\"conv2_block3_2_relu\").output\n",
        "    low_level_feat = Conv2D(48, 1, padding=\"same\", use_bias=False)(low_level_feat)\n",
        "    low_level_feat = BatchNormalization()(low_level_feat)\n",
        "    low_level_feat = Activation(\"relu\")(low_level_feat)\n",
        "\n",
        "    x = concatenate([x, low_level_feat])\n",
        "    x = Conv2D(256, 3, padding=\"same\", use_bias=False)(x)\n",
        "    x = BatchNormalization()(x)\n",
        "    x = Activation(\"relu\")(x)\n",
        "\n",
        "    x = Conv2D(256, 3, padding=\"same\", use_bias=False)(x)\n",
        "    x = BatchNormalization()(x)\n",
        "    x = Activation(\"relu\")(x)\n",
        "\n",
        "    x = UpSampling2D(size=(4, 4), interpolation=\"bilinear\")(x)\n",
        "    x = Conv2D(num_classes, 1, padding=\"same\", activation=\"sigmoid\")(x)\n",
        "\n",
        "    model = Model(inputs=base_model.input, outputs=x)\n",
        "    return model\n"
      ],
      "metadata": {
        "id": "nb-JlQATOXun"
      },
      "execution_count": 5,
      "outputs": []
    },
    {
      "cell_type": "code",
      "source": [
        "import tensorflow as tf\n",
        "\n",
        "# 1. Define loss function\n",
        "def dice_loss(y_true, y_pred):\n",
        "    y_true = tf.reshape(y_true, [-1])\n",
        "    y_pred = tf.reshape(y_pred, [-1])\n",
        "    intersection = tf.reduce_sum(y_true * y_pred)\n",
        "    return 1 - (2. * intersection + 1) / (tf.reduce_sum(y_true) + tf.reduce_sum(y_pred) + 1)\n",
        "\n",
        "# 2. Define metric function\n",
        "def iou_metric(y_true, y_pred):\n",
        "    y_true = tf.reshape(y_true, [-1])\n",
        "    y_pred = tf.reshape(y_pred, [-1])\n",
        "    intersection = tf.reduce_sum(y_true * y_pred)\n",
        "    union = tf.reduce_sum(y_true) + tf.reduce_sum(y_pred) - intersection\n",
        "    return (intersection + 1) / (union + 1)\n",
        "\n",
        "# 3. Define and compile model\n",
        "model = DeeplabV3Plus(input_shape=(256, 256, 3), num_classes=1)\n",
        "\n",
        "model.compile(\n",
        "    optimizer=tf.keras.optimizers.Adam(learning_rate=1e-5),\n",
        "    loss=dice_loss,\n",
        "    metrics=[iou_metric]\n",
        ")\n"
      ],
      "metadata": {
        "id": "n3M64CO9Ohol"
      },
      "execution_count": 6,
      "outputs": []
    },
    {
      "cell_type": "code",
      "source": [
        "# --- Initialize datasets ---\n",
        "train_dataset = IRCADNPYDataset(\n",
        "    train_patients,\n",
        "    base_dir,\n",
        "    batch_size=8,\n",
        "    shuffle=True,\n",
        "    balance_data=True  # Balance training data\n",
        ")\n",
        "\n",
        "val_dataset = IRCADNPYDataset(\n",
        "    val_patients,\n",
        "    base_dir,\n",
        "    batch_size=8,\n",
        "    shuffle=False,\n",
        "    balance_data=False  # Keep validation distribution unchanged\n",
        ")\n",
        "\n",
        "test_dataset = IRCADNPYDataset(\n",
        "    test_patients,\n",
        "    base_dir,\n",
        "    batch_size=8,\n",
        "    shuffle=False,\n",
        "    balance_data=False  # Same for test\n",
        ")\n"
      ],
      "metadata": {
        "id": "CPaHr3GhPDJi"
      },
      "execution_count": 7,
      "outputs": []
    },
    {
      "cell_type": "code",
      "source": [
        "from tensorflow.keras.callbacks import EarlyStopping, ModelCheckpoint\n",
        "\n",
        "# EarlyStopping: watch validation IoU\n",
        "early_stop = EarlyStopping(\n",
        "    monitor='val_iou_metric',\n",
        "    patience=5,\n",
        "    restore_best_weights=True,\n",
        "    mode='max',\n",
        "    verbose=1\n",
        ")\n",
        "\n",
        "# ModelCheckpoint: save best model based on IoU\n",
        "checkpoint = ModelCheckpoint(\n",
        "    '/content/drive/MyDrive/best_deeplab_model.keras',\n",
        "    monitor='val_iou_metric',\n",
        "    save_best_only=True,\n",
        "    mode='max',\n",
        "    verbose=1\n",
        ")\n",
        "\n",
        "# Train the model\n",
        "history = model.fit(\n",
        "    train_dataset,\n",
        "    validation_data=val_dataset,\n",
        "    epochs=30,\n",
        "    callbacks=[early_stop, checkpoint]\n",
        ")\n"
      ],
      "metadata": {
        "colab": {
          "base_uri": "https://localhost:8080/"
        },
        "id": "sazHQm-jQUsc",
        "outputId": "04e86c8c-54a0-424d-d7d7-767d8200db6a"
      },
      "execution_count": 8,
      "outputs": [
        {
          "metadata": {
            "tags": null
          },
          "name": "stdout",
          "output_type": "stream",
          "text": [
            "Epoch 1/30\n"
          ]
        },
        {
          "metadata": {
            "tags": null
          },
          "name": "stderr",
          "output_type": "stream",
          "text": [
            "/usr/local/lib/python3.11/dist-packages/keras/src/trainers/data_adapters/py_dataset_adapter.py:121: UserWarning: Your `PyDataset` class should call `super().__init__(**kwargs)` in its constructor. `**kwargs` can include `workers`, `use_multiprocessing`, `max_queue_size`. Do not pass these arguments to `fit()`, as they will be ignored.\n",
            "  self._warn_if_super_not_called()\n"
          ]
        },
        {
          "output_type": "stream",
          "name": "stdout",
          "text": [
            "\u001b[1m233/233\u001b[0m \u001b[32m━━━━━━━━━━━━━━━━━━━━\u001b[0m\u001b[37m\u001b[0m \u001b[1m0s\u001b[0m 246ms/step - iou_metric: 0.2455 - loss: 0.6180\n",
            "Epoch 1: val_iou_metric improved from -inf to 0.10825, saving model to /content/drive/MyDrive/best_deeplab_model.keras\n",
            "\u001b[1m233/233\u001b[0m \u001b[32m━━━━━━━━━━━━━━━━━━━━\u001b[0m\u001b[37m\u001b[0m \u001b[1m144s\u001b[0m 309ms/step - iou_metric: 0.2459 - loss: 0.6175 - val_iou_metric: 0.1082 - val_loss: 0.8085\n",
            "Epoch 2/30\n",
            "\u001b[1m233/233\u001b[0m \u001b[32m━━━━━━━━━━━━━━━━━━━━\u001b[0m\u001b[37m\u001b[0m \u001b[1m0s\u001b[0m 244ms/step - iou_metric: 0.5044 - loss: 0.3361\n",
            "Epoch 2: val_iou_metric did not improve from 0.10825\n",
            "\u001b[1m233/233\u001b[0m \u001b[32m━━━━━━━━━━━━━━━━━━━━\u001b[0m\u001b[37m\u001b[0m \u001b[1m95s\u001b[0m 274ms/step - iou_metric: 0.5046 - loss: 0.3359 - val_iou_metric: 0.0801 - val_loss: 0.8538\n",
            "Epoch 3/30\n",
            "\u001b[1m233/233\u001b[0m \u001b[32m━━━━━━━━━━━━━━━━━━━━\u001b[0m\u001b[37m\u001b[0m \u001b[1m0s\u001b[0m 242ms/step - iou_metric: 0.6228 - loss: 0.2352\n",
            "Epoch 3: val_iou_metric improved from 0.10825 to 0.27538, saving model to /content/drive/MyDrive/best_deeplab_model.keras\n",
            "\u001b[1m233/233\u001b[0m \u001b[32m━━━━━━━━━━━━━━━━━━━━\u001b[0m\u001b[37m\u001b[0m \u001b[1m63s\u001b[0m 270ms/step - iou_metric: 0.6229 - loss: 0.2352 - val_iou_metric: 0.2754 - val_loss: 0.5893\n",
            "Epoch 4/30\n",
            "\u001b[1m233/233\u001b[0m \u001b[32m━━━━━━━━━━━━━━━━━━━━\u001b[0m\u001b[37m\u001b[0m \u001b[1m0s\u001b[0m 245ms/step - iou_metric: 0.6718 - loss: 0.1995\n",
            "Epoch 4: val_iou_metric improved from 0.27538 to 0.38952, saving model to /content/drive/MyDrive/best_deeplab_model.keras\n",
            "\u001b[1m233/233\u001b[0m \u001b[32m━━━━━━━━━━━━━━━━━━━━\u001b[0m\u001b[37m\u001b[0m \u001b[1m83s\u001b[0m 276ms/step - iou_metric: 0.6718 - loss: 0.1994 - val_iou_metric: 0.3895 - val_loss: 0.4664\n",
            "Epoch 5/30\n",
            "\u001b[1m233/233\u001b[0m \u001b[32m━━━━━━━━━━━━━━━━━━━━\u001b[0m\u001b[37m\u001b[0m \u001b[1m0s\u001b[0m 259ms/step - iou_metric: 0.7296 - loss: 0.1573\n",
            "Epoch 5: val_iou_metric improved from 0.38952 to 0.50056, saving model to /content/drive/MyDrive/best_deeplab_model.keras\n",
            "\u001b[1m233/233\u001b[0m \u001b[32m━━━━━━━━━━━━━━━━━━━━\u001b[0m\u001b[37m\u001b[0m \u001b[1m69s\u001b[0m 293ms/step - iou_metric: 0.7296 - loss: 0.1573 - val_iou_metric: 0.5006 - val_loss: 0.3538\n",
            "Epoch 6/30\n",
            "\u001b[1m233/233\u001b[0m \u001b[32m━━━━━━━━━━━━━━━━━━━━\u001b[0m\u001b[37m\u001b[0m \u001b[1m0s\u001b[0m 255ms/step - iou_metric: 0.7467 - loss: 0.1467\n",
            "Epoch 6: val_iou_metric improved from 0.50056 to 0.51386, saving model to /content/drive/MyDrive/best_deeplab_model.keras\n",
            "\u001b[1m233/233\u001b[0m \u001b[32m━━━━━━━━━━━━━━━━━━━━\u001b[0m\u001b[37m\u001b[0m \u001b[1m67s\u001b[0m 287ms/step - iou_metric: 0.7468 - loss: 0.1467 - val_iou_metric: 0.5139 - val_loss: 0.3413\n",
            "Epoch 7/30\n",
            "\u001b[1m233/233\u001b[0m \u001b[32m━━━━━━━━━━━━━━━━━━━━\u001b[0m\u001b[37m\u001b[0m \u001b[1m0s\u001b[0m 256ms/step - iou_metric: 0.7718 - loss: 0.1295\n",
            "Epoch 7: val_iou_metric improved from 0.51386 to 0.51964, saving model to /content/drive/MyDrive/best_deeplab_model.keras\n",
            "\u001b[1m233/233\u001b[0m \u001b[32m━━━━━━━━━━━━━━━━━━━━\u001b[0m\u001b[37m\u001b[0m \u001b[1m67s\u001b[0m 287ms/step - iou_metric: 0.7718 - loss: 0.1295 - val_iou_metric: 0.5196 - val_loss: 0.3362\n",
            "Epoch 8/30\n",
            "\u001b[1m233/233\u001b[0m \u001b[32m━━━━━━━━━━━━━━━━━━━━\u001b[0m\u001b[37m\u001b[0m \u001b[1m0s\u001b[0m 256ms/step - iou_metric: 0.7895 - loss: 0.1184\n",
            "Epoch 8: val_iou_metric improved from 0.51964 to 0.52161, saving model to /content/drive/MyDrive/best_deeplab_model.keras\n",
            "\u001b[1m233/233\u001b[0m \u001b[32m━━━━━━━━━━━━━━━━━━━━\u001b[0m\u001b[37m\u001b[0m \u001b[1m67s\u001b[0m 286ms/step - iou_metric: 0.7895 - loss: 0.1185 - val_iou_metric: 0.5216 - val_loss: 0.3333\n",
            "Epoch 9/30\n",
            "\u001b[1m233/233\u001b[0m \u001b[32m━━━━━━━━━━━━━━━━━━━━\u001b[0m\u001b[37m\u001b[0m \u001b[1m0s\u001b[0m 255ms/step - iou_metric: 0.7980 - loss: 0.1129\n",
            "Epoch 9: val_iou_metric improved from 0.52161 to 0.53662, saving model to /content/drive/MyDrive/best_deeplab_model.keras\n",
            "\u001b[1m233/233\u001b[0m \u001b[32m━━━━━━━━━━━━━━━━━━━━\u001b[0m\u001b[37m\u001b[0m \u001b[1m67s\u001b[0m 285ms/step - iou_metric: 0.7981 - loss: 0.1129 - val_iou_metric: 0.5366 - val_loss: 0.3210\n",
            "Epoch 10/30\n",
            "\u001b[1m233/233\u001b[0m \u001b[32m━━━━━━━━━━━━━━━━━━━━\u001b[0m\u001b[37m\u001b[0m \u001b[1m0s\u001b[0m 244ms/step - iou_metric: 0.8123 - loss: 0.1041\n",
            "Epoch 10: val_iou_metric did not improve from 0.53662\n",
            "\u001b[1m233/233\u001b[0m \u001b[32m━━━━━━━━━━━━━━━━━━━━\u001b[0m\u001b[37m\u001b[0m \u001b[1m78s\u001b[0m 268ms/step - iou_metric: 0.8123 - loss: 0.1041 - val_iou_metric: 0.5329 - val_loss: 0.3237\n",
            "Epoch 11/30\n",
            "\u001b[1m233/233\u001b[0m \u001b[32m━━━━━━━━━━━━━━━━━━━━\u001b[0m\u001b[37m\u001b[0m \u001b[1m0s\u001b[0m 243ms/step - iou_metric: 0.8269 - loss: 0.0952\n",
            "Epoch 11: val_iou_metric improved from 0.53662 to 0.53770, saving model to /content/drive/MyDrive/best_deeplab_model.keras\n",
            "\u001b[1m233/233\u001b[0m \u001b[32m━━━━━━━━━━━━━━━━━━━━\u001b[0m\u001b[37m\u001b[0m \u001b[1m65s\u001b[0m 277ms/step - iou_metric: 0.8269 - loss: 0.0953 - val_iou_metric: 0.5377 - val_loss: 0.3199\n",
            "Epoch 12/30\n",
            "\u001b[1m233/233\u001b[0m \u001b[32m━━━━━━━━━━━━━━━━━━━━\u001b[0m\u001b[37m\u001b[0m \u001b[1m0s\u001b[0m 258ms/step - iou_metric: 0.8282 - loss: 0.0946\n",
            "Epoch 12: val_iou_metric improved from 0.53770 to 0.55425, saving model to /content/drive/MyDrive/best_deeplab_model.keras\n",
            "\u001b[1m233/233\u001b[0m \u001b[32m━━━━━━━━━━━━━━━━━━━━\u001b[0m\u001b[37m\u001b[0m \u001b[1m68s\u001b[0m 292ms/step - iou_metric: 0.8282 - loss: 0.0946 - val_iou_metric: 0.5543 - val_loss: 0.3060\n",
            "Epoch 13/30\n",
            "\u001b[1m233/233\u001b[0m \u001b[32m━━━━━━━━━━━━━━━━━━━━\u001b[0m\u001b[37m\u001b[0m \u001b[1m0s\u001b[0m 256ms/step - iou_metric: 0.8349 - loss: 0.0905\n",
            "Epoch 13: val_iou_metric did not improve from 0.55425\n",
            "\u001b[1m233/233\u001b[0m \u001b[32m━━━━━━━━━━━━━━━━━━━━\u001b[0m\u001b[37m\u001b[0m \u001b[1m65s\u001b[0m 279ms/step - iou_metric: 0.8349 - loss: 0.0905 - val_iou_metric: 0.5473 - val_loss: 0.3119\n",
            "Epoch 14/30\n",
            "\u001b[1m233/233\u001b[0m \u001b[32m━━━━━━━━━━━━━━━━━━━━\u001b[0m\u001b[37m\u001b[0m \u001b[1m0s\u001b[0m 244ms/step - iou_metric: 0.8463 - loss: 0.0836\n",
            "Epoch 14: val_iou_metric did not improve from 0.55425\n",
            "\u001b[1m233/233\u001b[0m \u001b[32m━━━━━━━━━━━━━━━━━━━━\u001b[0m\u001b[37m\u001b[0m \u001b[1m62s\u001b[0m 266ms/step - iou_metric: 0.8463 - loss: 0.0836 - val_iou_metric: 0.5452 - val_loss: 0.3132\n",
            "Epoch 15/30\n",
            "\u001b[1m233/233\u001b[0m \u001b[32m━━━━━━━━━━━━━━━━━━━━\u001b[0m\u001b[37m\u001b[0m \u001b[1m0s\u001b[0m 245ms/step - iou_metric: 0.8507 - loss: 0.0810\n",
            "Epoch 15: val_iou_metric did not improve from 0.55425\n",
            "\u001b[1m233/233\u001b[0m \u001b[32m━━━━━━━━━━━━━━━━━━━━\u001b[0m\u001b[37m\u001b[0m \u001b[1m63s\u001b[0m 268ms/step - iou_metric: 0.8507 - loss: 0.0810 - val_iou_metric: 0.5541 - val_loss: 0.3064\n",
            "Epoch 16/30\n",
            "\u001b[1m233/233\u001b[0m \u001b[32m━━━━━━━━━━━━━━━━━━━━\u001b[0m\u001b[37m\u001b[0m \u001b[1m0s\u001b[0m 244ms/step - iou_metric: 0.8579 - loss: 0.0769\n",
            "Epoch 16: val_iou_metric improved from 0.55425 to 0.55909, saving model to /content/drive/MyDrive/best_deeplab_model.keras\n",
            "\u001b[1m233/233\u001b[0m \u001b[32m━━━━━━━━━━━━━━━━━━━━\u001b[0m\u001b[37m\u001b[0m \u001b[1m64s\u001b[0m 273ms/step - iou_metric: 0.8579 - loss: 0.0769 - val_iou_metric: 0.5591 - val_loss: 0.3018\n",
            "Epoch 17/30\n",
            "\u001b[1m233/233\u001b[0m \u001b[32m━━━━━━━━━━━━━━━━━━━━\u001b[0m\u001b[37m\u001b[0m \u001b[1m0s\u001b[0m 259ms/step - iou_metric: 0.8615 - loss: 0.0746\n",
            "Epoch 17: val_iou_metric did not improve from 0.55909\n",
            "\u001b[1m233/233\u001b[0m \u001b[32m━━━━━━━━━━━━━━━━━━━━\u001b[0m\u001b[37m\u001b[0m \u001b[1m66s\u001b[0m 281ms/step - iou_metric: 0.8615 - loss: 0.0746 - val_iou_metric: 0.5586 - val_loss: 0.3024\n",
            "Epoch 18/30\n",
            "\u001b[1m233/233\u001b[0m \u001b[32m━━━━━━━━━━━━━━━━━━━━\u001b[0m\u001b[37m\u001b[0m \u001b[1m0s\u001b[0m 244ms/step - iou_metric: 0.8667 - loss: 0.0716\n",
            "Epoch 18: val_iou_metric improved from 0.55909 to 0.56543, saving model to /content/drive/MyDrive/best_deeplab_model.keras\n",
            "\u001b[1m233/233\u001b[0m \u001b[32m━━━━━━━━━━━━━━━━━━━━\u001b[0m\u001b[37m\u001b[0m \u001b[1m64s\u001b[0m 273ms/step - iou_metric: 0.8667 - loss: 0.0716 - val_iou_metric: 0.5654 - val_loss: 0.2967\n",
            "Epoch 19/30\n",
            "\u001b[1m233/233\u001b[0m \u001b[32m━━━━━━━━━━━━━━━━━━━━\u001b[0m\u001b[37m\u001b[0m \u001b[1m0s\u001b[0m 258ms/step - iou_metric: 0.8741 - loss: 0.0673\n",
            "Epoch 19: val_iou_metric did not improve from 0.56543\n",
            "\u001b[1m233/233\u001b[0m \u001b[32m━━━━━━━━━━━━━━━━━━━━\u001b[0m\u001b[37m\u001b[0m \u001b[1m66s\u001b[0m 281ms/step - iou_metric: 0.8741 - loss: 0.0673 - val_iou_metric: 0.5601 - val_loss: 0.3013\n",
            "Epoch 20/30\n",
            "\u001b[1m233/233\u001b[0m \u001b[32m━━━━━━━━━━━━━━━━━━━━\u001b[0m\u001b[37m\u001b[0m \u001b[1m0s\u001b[0m 244ms/step - iou_metric: 0.8728 - loss: 0.0681\n",
            "Epoch 20: val_iou_metric did not improve from 0.56543\n",
            "\u001b[1m233/233\u001b[0m \u001b[32m━━━━━━━━━━━━━━━━━━━━\u001b[0m\u001b[37m\u001b[0m \u001b[1m62s\u001b[0m 265ms/step - iou_metric: 0.8728 - loss: 0.0681 - val_iou_metric: 0.5620 - val_loss: 0.2994\n",
            "Epoch 21/30\n",
            "\u001b[1m233/233\u001b[0m \u001b[32m━━━━━━━━━━━━━━━━━━━━\u001b[0m\u001b[37m\u001b[0m \u001b[1m0s\u001b[0m 244ms/step - iou_metric: 0.8764 - loss: 0.0661\n",
            "Epoch 21: val_iou_metric improved from 0.56543 to 0.57207, saving model to /content/drive/MyDrive/best_deeplab_model.keras\n",
            "\u001b[1m233/233\u001b[0m \u001b[32m━━━━━━━━━━━━━━━━━━━━\u001b[0m\u001b[37m\u001b[0m \u001b[1m64s\u001b[0m 272ms/step - iou_metric: 0.8764 - loss: 0.0660 - val_iou_metric: 0.5721 - val_loss: 0.2910\n",
            "Epoch 22/30\n",
            "\u001b[1m233/233\u001b[0m \u001b[32m━━━━━━━━━━━━━━━━━━━━\u001b[0m\u001b[37m\u001b[0m \u001b[1m0s\u001b[0m 256ms/step - iou_metric: 0.8800 - loss: 0.0640\n",
            "Epoch 22: val_iou_metric did not improve from 0.57207\n",
            "\u001b[1m233/233\u001b[0m \u001b[32m━━━━━━━━━━━━━━━━━━━━\u001b[0m\u001b[37m\u001b[0m \u001b[1m65s\u001b[0m 277ms/step - iou_metric: 0.8800 - loss: 0.0641 - val_iou_metric: 0.5613 - val_loss: 0.3001\n",
            "Epoch 23/30\n",
            "\u001b[1m233/233\u001b[0m \u001b[32m━━━━━━━━━━━━━━━━━━━━\u001b[0m\u001b[37m\u001b[0m \u001b[1m0s\u001b[0m 244ms/step - iou_metric: 0.8839 - loss: 0.0618\n",
            "Epoch 23: val_iou_metric did not improve from 0.57207\n",
            "\u001b[1m233/233\u001b[0m \u001b[32m━━━━━━━━━━━━━━━━━━━━\u001b[0m\u001b[37m\u001b[0m \u001b[1m62s\u001b[0m 268ms/step - iou_metric: 0.8839 - loss: 0.0618 - val_iou_metric: 0.5687 - val_loss: 0.2942\n",
            "Epoch 24/30\n",
            "\u001b[1m233/233\u001b[0m \u001b[32m━━━━━━━━━━━━━━━━━━━━\u001b[0m\u001b[37m\u001b[0m \u001b[1m0s\u001b[0m 245ms/step - iou_metric: 0.8859 - loss: 0.0606\n",
            "Epoch 24: val_iou_metric did not improve from 0.57207\n",
            "\u001b[1m233/233\u001b[0m \u001b[32m━━━━━━━━━━━━━━━━━━━━\u001b[0m\u001b[37m\u001b[0m \u001b[1m62s\u001b[0m 266ms/step - iou_metric: 0.8859 - loss: 0.0606 - val_iou_metric: 0.5639 - val_loss: 0.2987\n",
            "Epoch 25/30\n",
            "\u001b[1m233/233\u001b[0m \u001b[32m━━━━━━━━━━━━━━━━━━━━\u001b[0m\u001b[37m\u001b[0m \u001b[1m0s\u001b[0m 245ms/step - iou_metric: 0.8896 - loss: 0.0586\n",
            "Epoch 25: val_iou_metric improved from 0.57207 to 0.57476, saving model to /content/drive/MyDrive/best_deeplab_model.keras\n",
            "\u001b[1m233/233\u001b[0m \u001b[32m━━━━━━━━━━━━━━━━━━━━\u001b[0m\u001b[37m\u001b[0m \u001b[1m64s\u001b[0m 273ms/step - iou_metric: 0.8895 - loss: 0.0586 - val_iou_metric: 0.5748 - val_loss: 0.2888\n",
            "Epoch 26/30\n",
            "\u001b[1m233/233\u001b[0m \u001b[32m━━━━━━━━━━━━━━━━━━━━\u001b[0m\u001b[37m\u001b[0m \u001b[1m0s\u001b[0m 246ms/step - iou_metric: 0.8895 - loss: 0.0586\n",
            "Epoch 26: val_iou_metric did not improve from 0.57476\n",
            "\u001b[1m233/233\u001b[0m \u001b[32m━━━━━━━━━━━━━━━━━━━━\u001b[0m\u001b[37m\u001b[0m \u001b[1m86s\u001b[0m 290ms/step - iou_metric: 0.8895 - loss: 0.0586 - val_iou_metric: 0.5714 - val_loss: 0.2923\n",
            "Epoch 27/30\n",
            "\u001b[1m233/233\u001b[0m \u001b[32m━━━━━━━━━━━━━━━━━━━━\u001b[0m\u001b[37m\u001b[0m \u001b[1m0s\u001b[0m 243ms/step - iou_metric: 0.8927 - loss: 0.0569\n",
            "Epoch 27: val_iou_metric did not improve from 0.57476\n",
            "\u001b[1m233/233\u001b[0m \u001b[32m━━━━━━━━━━━━━━━━━━━━\u001b[0m\u001b[37m\u001b[0m \u001b[1m63s\u001b[0m 271ms/step - iou_metric: 0.8927 - loss: 0.0569 - val_iou_metric: 0.5739 - val_loss: 0.2894\n",
            "Epoch 28/30\n",
            "\u001b[1m233/233\u001b[0m \u001b[32m━━━━━━━━━━━━━━━━━━━━\u001b[0m\u001b[37m\u001b[0m \u001b[1m0s\u001b[0m 244ms/step - iou_metric: 0.8941 - loss: 0.0560\n",
            "Epoch 28: val_iou_metric improved from 0.57476 to 0.57749, saving model to /content/drive/MyDrive/best_deeplab_model.keras\n",
            "\u001b[1m233/233\u001b[0m \u001b[32m━━━━━━━━━━━━━━━━━━━━\u001b[0m\u001b[37m\u001b[0m \u001b[1m63s\u001b[0m 272ms/step - iou_metric: 0.8941 - loss: 0.0560 - val_iou_metric: 0.5775 - val_loss: 0.2871\n",
            "Epoch 29/30\n",
            "\u001b[1m233/233\u001b[0m \u001b[32m━━━━━━━━━━━━━━━━━━━━\u001b[0m\u001b[37m\u001b[0m \u001b[1m0s\u001b[0m 256ms/step - iou_metric: 0.8974 - loss: 0.0542\n",
            "Epoch 29: val_iou_metric did not improve from 0.57749\n",
            "\u001b[1m233/233\u001b[0m \u001b[32m━━━━━━━━━━━━━━━━━━━━\u001b[0m\u001b[37m\u001b[0m \u001b[1m65s\u001b[0m 277ms/step - iou_metric: 0.8974 - loss: 0.0542 - val_iou_metric: 0.5720 - val_loss: 0.2914\n",
            "Epoch 30/30\n",
            "\u001b[1m233/233\u001b[0m \u001b[32m━━━━━━━━━━━━━━━━━━━━\u001b[0m\u001b[37m\u001b[0m \u001b[1m0s\u001b[0m 244ms/step - iou_metric: 0.8992 - loss: 0.0532\n",
            "Epoch 30: val_iou_metric improved from 0.57749 to 0.58276, saving model to /content/drive/MyDrive/best_deeplab_model.keras\n",
            "\u001b[1m233/233\u001b[0m \u001b[32m━━━━━━━━━━━━━━━━━━━━\u001b[0m\u001b[37m\u001b[0m \u001b[1m64s\u001b[0m 273ms/step - iou_metric: 0.8992 - loss: 0.0532 - val_iou_metric: 0.5828 - val_loss: 0.2828\n",
            "Restoring model weights from the end of the best epoch: 30.\n"
          ]
        }
      ]
    },
    {
      "cell_type": "code",
      "source": [
        "import matplotlib.pyplot as plt\n",
        "\n",
        "# Assuming 'history' is the result of your model.fit() call\n",
        "# Access training & validation loss history\n",
        "train_loss = history.history['loss']\n",
        "val_loss = history.history['val_loss']\n",
        "\n",
        "# Plotting loss curves\n",
        "plt.figure(figsize=(10, 6))\n",
        "plt.plot(train_loss, label='Training Loss')\n",
        "plt.plot(val_loss, label='Validation Loss')\n",
        "plt.title('Loss vs. Epochs')\n",
        "plt.xlabel('Epochs')\n",
        "plt.ylabel('Loss')\n",
        "plt.legend()\n",
        "plt.grid(True)\n",
        "plt.show()\n"
      ],
      "metadata": {
        "colab": {
          "base_uri": "https://localhost:8080/",
          "height": 564
        },
        "id": "6WHS3-LeWReD",
        "outputId": "6d68536c-7ec5-4052-a779-2420159b8692"
      },
      "execution_count": 9,
      "outputs": [
        {
          "output_type": "display_data",
          "data": {
            "text/plain": [
              "<Figure size 1000x600 with 1 Axes>"
            ],
            "image/png": "[encoded data removed]"
          },
          "metadata": {}
        }
      ]
    },
    {
      "cell_type": "code",
      "source": [
        "# Access training & validation IOU history\n",
        "train_iou = history.history['iou_metric']\n",
        "val_iou = history.history['val_iou_metric']\n",
        "\n",
        "# Plotting IOU curves\n",
        "plt.figure(figsize=(10, 6))\n",
        "plt.plot(train_iou, label='Training IOU')\n",
        "plt.plot(val_iou, label='Validation IOU')\n",
        "plt.title('IOU Metric vs. Epochs')\n",
        "plt.xlabel('Epochs')\n",
        "plt.ylabel('IOU')\n",
        "plt.legend()\n",
        "plt.grid(True)\n",
        "plt.show()\n"
      ],
      "metadata": {
        "colab": {
          "base_uri": "https://localhost:8080/",
          "height": 564
        },
        "id": "s2VSxQozWT0I",
        "outputId": "6cd2dbd2-bc01-4ba6-c769-44c32dc2772c"
      },
      "execution_count": 10,
      "outputs": [
        {
          "output_type": "display_data",
          "data": {
            "text/plain": [
              "<Figure size 1000x600 with 1 Axes>"
            ],
            "image/png": "[encoded data removed]"
          },
          "metadata": {}
        }
      ]
    },
    {
      "cell_type": "code",
      "source": [
        "from scipy.ndimage import binary_erosion\n",
        "\n",
        "def get_surface(mask):\n",
        "    eroded = binary_erosion(mask)\n",
        "    surface = mask ^ eroded  # XOR: Surface pixels only\n",
        "    return surface\n"
      ],
      "metadata": {
        "id": "dMW6ePGIWftx"
      },
      "execution_count": 12,
      "outputs": []
    },
    {
      "cell_type": "code",
      "source": [
        "import numpy as np\n",
        "from scipy.spatial.distance import directed_hausdorff\n",
        "from scipy.ndimage import distance_transform_edt\n",
        "\n",
        "def dice_coefficient(pred, gt):\n",
        "    intersection = np.logical_and(pred, gt).sum()\n",
        "    return (2. * intersection) / (pred.sum() + gt.sum())\n",
        "\n",
        "def voe(pred, gt):\n",
        "    intersection = np.logical_and(pred, gt).sum()\n",
        "    union = np.logical_or(pred, gt).sum()\n",
        "    return 1 - (intersection / union)\n",
        "\n",
        "def rvd(pred, gt):\n",
        "    return (pred.sum() - gt.sum()) / gt.sum()\n",
        "def assd(pred, gt):\n",
        "    pred_surface = get_surface(pred)\n",
        "    gt_surface = get_surface(gt)\n",
        "    if np.sum(pred_surface) == 0 or np.sum(gt_surface) == 0:\n",
        "        return np.nan  # Surface not found\n",
        "    pred_dist = distance_transform_edt(~pred_surface)\n",
        "    gt_dist = distance_transform_edt(~gt_surface)\n",
        "    surface_distances = np.concatenate([\n",
        "        pred_dist[gt_surface],\n",
        "        gt_dist[pred_surface]\n",
        "    ])\n",
        "    return surface_distances.mean()\n",
        "\n",
        "def rmsd(pred, gt):\n",
        "    pred_surface = get_surface(pred)\n",
        "    gt_surface = get_surface(gt)\n",
        "    if np.sum(pred_surface) == 0 or np.sum(gt_surface) == 0:\n",
        "        return np.nan  # Surface not found\n",
        "    pred_dist = distance_transform_edt(~pred_surface)\n",
        "    gt_dist = distance_transform_edt(~gt_surface)\n",
        "    surface_distances = np.concatenate([\n",
        "        pred_dist[gt_surface],\n",
        "        gt_dist[pred_surface]\n",
        "    ])\n",
        "    return np.sqrt((surface_distances ** 2).mean())\n",
        "\n",
        "\n",
        "# Example usage\n",
        "# pred_mask and gt_mask should be binary (0 and 1) masks\n",
        "\n",
        "# Example dummy masks (replace with your real predictions)\n",
        "pred_mask = np.random.randint(0, 2, (256, 256))\n",
        "gt_mask = np.random.randint(0, 2, (256, 256))\n",
        "\n",
        "dice = dice_coefficient(pred_mask, gt_mask)\n",
        "voe_score = voe(pred_mask, gt_mask)\n",
        "rvd_score = rvd(pred_mask, gt_mask)\n",
        "assd_score = assd(pred_mask, gt_mask)\n",
        "rmsd_score = rmsd(pred_mask, gt_mask)\n",
        "\n",
        "print(f\"Dice Coefficient: {dice:.4f}\")\n",
        "print(f\"VOE: {voe_score:.4f}\")\n",
        "print(f\"RVD: {rvd_score:.4f}\")\n",
        "print(f\"ASSD: {assd_score:.4f}\")\n",
        "print(f\"RMSD: {rmsd_score:.4f}\")\n"
      ],
      "metadata": {
        "colab": {
          "base_uri": "https://localhost:8080/"
        },
        "id": "nS12aec0WXQw",
        "outputId": "0996175d-b291-4255-b400-8893646dff59"
      },
      "execution_count": 13,
      "outputs": [
        {
          "output_type": "stream",
          "name": "stdout",
          "text": [
            "Dice Coefficient: 0.5029\n",
            "VOE: 0.6641\n",
            "RVD: 0.0009\n",
            "ASSD: 127.5323\n",
            "RMSD: 147.3767\n"
          ]
        }
      ]
    },
    {
      "cell_type": "code",
      "source": [
        "import matplotlib.pyplot as plt\n",
        "\n",
        "def show_sample(image, gt_mask, pred_mask):\n",
        "    plt.figure(figsize=(12, 4))\n",
        "    plt.subplot(1, 3, 1)\n",
        "    plt.imshow(image[..., 0], cmap='gray')\n",
        "    plt.title('Input Image')\n",
        "    plt.subplot(1, 3, 2)\n",
        "    plt.imshow(gt_mask[..., 0], cmap='gray')\n",
        "    plt.title('Ground Truth')\n",
        "    plt.subplot(1, 3, 3)\n",
        "    plt.imshow(pred_mask[..., 0], cmap='gray')\n",
        "    plt.title('Prediction')\n",
        "    plt.show()\n"
      ],
      "metadata": {
        "id": "0nlDm57nWxPa"
      },
      "execution_count": 14,
      "outputs": []
    }
  ]
}