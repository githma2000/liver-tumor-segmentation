{
  "nbformat": 4,
  "nbformat_minor": 0,
  "metadata": {
    "colab": {
      "provenance": [],
      "gpuType": "T4",
      "authorship_tag": "ABX9TyNUDVeg8xqmGAsUemIQU9h9",
      "include_colab_link": true
    },
    "kernelspec": {
      "name": "python3",
      "display_name": "Python 3"
    },
    "language_info": {
      "name": "python"
    },
    "accelerator": "GPU"
  },
  "cells": [
    {
      "cell_type": "markdown",
      "metadata": {
        "id": "view-in-github",
        "colab_type": "text"
      },
      "source": [
        "<a href=\"https://colab.research.google.com/github/githma2000/liver-tumor-segmentation/blob/main/Untitled6.ipynb\" target=\"_parent\"><img src=\"https://colab.research.google.com/assets/colab-badge.svg\" alt=\"Open In Colab\"/></a>"
      ]
    },
    {
      "cell_type": "code",
      "execution_count": 4,
      "metadata": {
        "colab": {
          "base_uri": "https://localhost:8080/"
        },
        "id": "Xt76bdNDU0oP",
        "outputId": "6ed854fa-6902-4dde-bbe1-dcf59e6f295d"
      },
      "outputs": [
        {
          "output_type": "stream",
          "name": "stdout",
          "text": [
            "Mounted at /content/drive\n"
          ]
        }
      ],
      "source": [
        "from google.colab import drive\n",
        "drive.mount('/content/drive')\n"
      ]
    },
    {
      "cell_type": "code",
      "source": [
        "import os\n",
        "\n",
        "DATASET_PATH = '/content/drive/MyDrive/Preprocessed_3Dircadb'\n"
      ],
      "metadata": {
        "id": "J-M0lKiNVKoD"
      },
      "execution_count": 5,
      "outputs": []
    },
    {
      "cell_type": "code",
      "source": [
        "import os\n",
        "import random\n",
        "import shutil\n",
        "\n",
        "base_dir = '/content/drive/MyDrive/Preprocessed_3Dircadb'\n",
        "all_patients = sorted([f for f in os.listdir(base_dir) if f.startswith('3Dircadb')])\n",
        "\n",
        "# Shuffle and split\n",
        "random.seed(42)\n",
        "random.shuffle(all_patients)\n",
        "\n",
        "train_split = int(0.7 * len(all_patients))\n",
        "val_split = int(0.85 * len(all_patients))\n",
        "\n",
        "train_patients = all_patients[:train_split]\n",
        "val_patients = all_patients[train_split:val_split]\n",
        "test_patients = all_patients[val_split:]\n",
        "\n",
        "print(\"Train:\", train_patients)\n",
        "print(\"Val:\", val_patients)\n",
        "print(\"Test:\", test_patients)\n"
      ],
      "metadata": {
        "colab": {
          "base_uri": "https://localhost:8080/"
        },
        "id": "vXygG4fJVMtQ",
        "outputId": "15997f0d-89b2-4bea-8b82-2256a820ee6f"
      },
      "execution_count": 6,
      "outputs": [
        {
          "output_type": "stream",
          "name": "stdout",
          "text": [
            "Train: ['3Dircadb1.9', '3Dircadb1.14', '3Dircadb1.4', '3Dircadb1.13', '3Dircadb1.18', '3Dircadb1.3', '3Dircadb1.5', '3Dircadb1.8', '3Dircadb1.15', '3Dircadb1.20', '3Dircadb1.7', '3Dircadb1.19', '3Dircadb1.10', '3Dircadb1.2']\n",
            "Val: ['3Dircadb1.11', '3Dircadb1.6', '3Dircadb1.16']\n",
            "Test: ['3Dircadb1.17', '3Dircadb1.1', '3Dircadb1.12']\n"
          ]
        }
      ]
    },
    {
      "cell_type": "code",
      "source": [
        "from tensorflow.keras.utils import Sequence\n",
        "import numpy as np\n",
        "import os\n",
        "import random\n",
        "\n",
        "class IRCADNPYDataset(Sequence):\n",
        "    def __init__(self, patient_list, base_path, batch_size=8, input_size=(256, 256), shuffle=True):\n",
        "        self.patient_list = patient_list\n",
        "        self.base_path = base_path\n",
        "        self.batch_size = batch_size\n",
        "        self.input_size = input_size\n",
        "        self.shuffle = shuffle\n",
        "        self.data = self._load_all_files()\n",
        "        self.on_epoch_end()\n",
        "\n",
        "    def _load_all_files(self):\n",
        "        data_pairs = []\n",
        "        for patient in self.patient_list:\n",
        "            img_dir = os.path.join(self.base_path, patient, 'PATIENT_2_5D')\n",
        "            mask_dir = os.path.join(self.base_path, patient, 'LABEL_2_5D')\n",
        "\n",
        "            img_files = sorted(os.listdir(img_dir))\n",
        "            mask_files = sorted(os.listdir(mask_dir))\n",
        "\n",
        "            for img_file, mask_file in zip(img_files, mask_files):\n",
        "                img_path = os.path.join(img_dir, img_file)\n",
        "                mask_path = os.path.join(mask_dir, mask_file)\n",
        "                if os.path.isfile(img_path) and os.path.isfile(mask_path):\n",
        "                    data_pairs.append((img_path, mask_path))\n",
        "        return data_pairs\n",
        "\n",
        "    def __len__(self):\n",
        "        return max(1, len(self.data) // self.batch_size)\n",
        "\n",
        "    def __getitem__(self, idx):\n",
        "        batch_pairs = self.data[idx * self.batch_size:(idx + 1) * self.batch_size]\n",
        "        images, masks = [], []\n",
        "\n",
        "        for img_path, mask_path in batch_pairs:\n",
        "\n",
        "            img = np.load(img_path)\n",
        "            img = img.astype(np.float32)\n",
        "\n",
        "            mask = np.load(mask_path)\n",
        "            mask = mask.astype(np.float32)\n",
        "\n",
        "\n",
        "            if mask.ndim == 2:\n",
        "                mask = np.expand_dims(mask, axis=-1)\n",
        "            elif mask.ndim == 3 and mask.shape[2] > 1:\n",
        "                mask = mask[..., 0:1]\n",
        "\n",
        "\n",
        "            min_val = np.min(mask)\n",
        "            max_val = np.max(mask)\n",
        "\n",
        "\n",
        "            threshold = min_val + (max_val - min_val) * 0.1\n",
        "\n",
        "\n",
        "            mask = (mask > threshold).astype(np.float32)\n",
        "\n",
        "            images.append(img)\n",
        "            masks.append(mask)\n",
        "\n",
        "        return np.array(images), np.array(masks)\n",
        "\n",
        "    def on_epoch_end(self):\n",
        "        if self.shuffle:\n",
        "            random.shuffle(self.data)"
      ],
      "metadata": {
        "id": "_8PQlpEGVPEB"
      },
      "execution_count": 7,
      "outputs": []
    },
    {
      "cell_type": "code",
      "source": [
        "import tensorflow as tf\n",
        "from tensorflow.keras.layers import Conv2D, BatchNormalization, Activation, UpSampling2D, Input, concatenate\n",
        "from tensorflow.keras.models import Model\n",
        "from tensorflow.keras.applications import ResNet50\n",
        "\n",
        "def ASPP(x, filters):\n",
        "    \"\"\"Atrous Spatial Pyramid Pooling with Keras-compatible operations\"\"\"\n",
        "    shape = x.shape\n",
        "\n",
        "    y1 = Conv2D(filters, 1, padding=\"same\", use_bias=False)(x)\n",
        "    y1 = BatchNormalization()(y1)\n",
        "    y1 = Activation(\"relu\")(y1)\n",
        "\n",
        "    y2 = Conv2D(filters, 3, padding=\"same\", dilation_rate=6, use_bias=False)(x)\n",
        "    y2 = BatchNormalization()(y2)\n",
        "    y2 = Activation(\"relu\")(y2)\n",
        "\n",
        "    y3 = Conv2D(filters, 3, padding=\"same\", dilation_rate=12, use_bias=False)(x)\n",
        "    y3 = BatchNormalization()(y3)\n",
        "    y3 = Activation(\"relu\")(y3)\n",
        "\n",
        "    y4 = Conv2D(filters, 3, padding=\"same\", dilation_rate=18, use_bias=False)(x)\n",
        "    y4 = BatchNormalization()(y4)\n",
        "    y4 = Activation(\"relu\")(y4)\n",
        "\n",
        "    # Use GlobalAveragePooling2D and reshape for broadcast\n",
        "    y5 = tf.keras.layers.GlobalAveragePooling2D()(x)\n",
        "    y5 = tf.keras.layers.Reshape((1, 1, shape[-1]))(y5)\n",
        "    y5 = Conv2D(filters, 1, padding=\"same\", use_bias=False)(y5)\n",
        "    y5 = BatchNormalization()(y5)\n",
        "    y5 = Activation(\"relu\")(y5)\n",
        "    y5 = UpSampling2D(size=(shape[1], shape[2]), interpolation=\"bilinear\")(y5)\n",
        "\n",
        "    y = concatenate([y1, y2, y3, y4, y5])\n",
        "    y = Conv2D(filters, 1, padding=\"same\", use_bias=False)(y)\n",
        "    y = BatchNormalization()(y)\n",
        "    y = Activation(\"relu\")(y)\n",
        "\n",
        "    return y\n",
        "\n",
        "\n",
        "def DeeplabV3Plus(input_shape=(256, 256, 3), num_classes=1):\n",
        "    \"\"\"Custom DeepLabV3+ model with ResNet50 backbone\"\"\"\n",
        "    base_model = ResNet50(weights='imagenet', include_top=False, input_shape=input_shape)\n",
        "\n",
        "    # Use features from different levels of the encoder\n",
        "    image_features = base_model.get_layer(\"conv4_block6_2_relu\").output\n",
        "    x = ASPP(image_features, 256)\n",
        "\n",
        "    x = UpSampling2D(size=(4, 4), interpolation=\"bilinear\")(x)\n",
        "\n",
        "    low_level_feat = base_model.get_layer(\"conv2_block3_2_relu\").output\n",
        "    low_level_feat = Conv2D(48, 1, padding=\"same\", use_bias=False)(low_level_feat)\n",
        "    low_level_feat = BatchNormalization()(low_level_feat)\n",
        "    low_level_feat = Activation(\"relu\")(low_level_feat)\n",
        "\n",
        "    x = concatenate([x, low_level_feat])\n",
        "    x = Conv2D(256, 3, padding=\"same\", use_bias=False)(x)\n",
        "    x = BatchNormalization()(x)\n",
        "    x = Activation(\"relu\")(x)\n",
        "\n",
        "    x = Conv2D(256, 3, padding=\"same\", use_bias=False)(x)\n",
        "    x = BatchNormalization()(x)\n",
        "    x = Activation(\"relu\")(x)\n",
        "\n",
        "    x = UpSampling2D(size=(4, 4), interpolation=\"bilinear\")(x)\n",
        "    x = Conv2D(num_classes, 1, padding=\"same\", activation=\"sigmoid\")(x)\n",
        "\n",
        "    model = Model(inputs=base_model.input, outputs=x)\n",
        "    return model"
      ],
      "metadata": {
        "id": "k11T_jv3Vlao"
      },
      "execution_count": 2,
      "outputs": []
    },
    {
      "cell_type": "code",
      "source": [
        "model = DeeplabV3Plus(input_shape=(256, 256, 3), num_classes=1)\n",
        "\n",
        "# UNFREEZE all layers of the model, including ResNet50 layers\n",
        "for layer in model.layers:\n",
        "    layer.trainable = True  # Make everything trainable (including ResNet50)\n",
        "\n",
        "# --- Now compile with a smaller learning rate ---\n",
        "def dice_loss(y_true, y_pred):\n",
        "    y_true = tf.reshape(y_true, [-1])\n",
        "    y_pred = tf.reshape(y_pred, [-1])\n",
        "    intersection = tf.reduce_sum(y_true * y_pred)\n",
        "    return 1 - (2. * intersection + 1) / (tf.reduce_sum(y_true) + tf.reduce_sum(y_pred) + 1)\n",
        "\n",
        "def iou_metric(y_true, y_pred):\n",
        "    y_true = tf.reshape(y_true, [-1])\n",
        "    y_pred = tf.reshape(y_pred, [-1])\n",
        "    intersection = tf.reduce_sum(y_true * y_pred)\n",
        "    union = tf.reduce_sum(y_true) + tf.reduce_sum(y_pred) - intersection\n",
        "    return (intersection + 1) / (union + 1)\n",
        "\n",
        "# Compile model with a smaller learning rate\n",
        "model.compile(\n",
        "    optimizer=tf.keras.optimizers.Adam(learning_rate=1e-5),  # Set a smaller learning rate\n",
        "    loss=dice_loss,\n",
        "    metrics=[iou_metric]\n",
        ")\n"
      ],
      "metadata": {
        "colab": {
          "base_uri": "https://localhost:8080/"
        },
        "id": "dD2_4TwlV3iQ",
        "outputId": "5af12dfb-d330-4e9e-caaa-16f8add76339"
      },
      "execution_count": 8,
      "outputs": [
        {
          "output_type": "stream",
          "name": "stdout",
          "text": [
            "Downloading data from https://storage.googleapis.com/tensorflow/keras-applications/resnet/resnet50_weights_tf_dim_ordering_tf_kernels_notop.h5\n",
            "\u001b[1m94765736/94765736\u001b[0m \u001b[32m━━━━━━━━━━━━━━━━━━━━\u001b[0m\u001b[37m\u001b[0m \u001b[1m5s\u001b[0m 0us/step\n"
          ]
        }
      ]
    },
    {
      "cell_type": "code",
      "source": [
        "from tensorflow.keras.callbacks import EarlyStopping, ModelCheckpoint\n",
        "\n",
        "train_dataset = IRCADNPYDataset(train_patients, base_dir, batch_size=8)\n",
        "val_dataset = IRCADNPYDataset(val_patients, base_dir, batch_size=8)\n",
        "test_dataset = IRCADNPYDataset(test_patients, base_dir, batch_size=8)\n",
        "\n",
        "# EarlyStopping: watch validation IoU\n",
        "early_stop = EarlyStopping(\n",
        "    monitor='val_iou_metric',\n",
        "    patience=5,\n",
        "    restore_best_weights=True,\n",
        "    mode='max',\n",
        "    verbose=1\n",
        ")\n",
        "\n",
        "# ModelCheckpoint: save best model based on IoU\n",
        "checkpoint = ModelCheckpoint(\n",
        "    '/content/drive/MyDrive/best_deeplab_model.keras',\n",
        "    monitor='val_iou_metric',\n",
        "    save_best_only=True,\n",
        "    mode='max',\n",
        "    verbose=1\n",
        ")\n",
        "\n",
        "# Train the model\n",
        "history = model.fit(\n",
        "    train_dataset,\n",
        "    validation_data=val_dataset,\n",
        "    epochs=30,\n",
        "    callbacks=[early_stop, checkpoint]\n",
        ")"
      ],
      "metadata": {
        "colab": {
          "base_uri": "https://localhost:8080/"
        },
        "id": "JzzLGGROWCP_",
        "outputId": "1f86b369-09ea-47d9-c6ff-08c69f778f56"
      },
      "execution_count": 10,
      "outputs": [
        {
          "output_type": "stream",
          "name": "stderr",
          "text": [
            "/usr/local/lib/python3.11/dist-packages/keras/src/trainers/data_adapters/py_dataset_adapter.py:121: UserWarning: Your `PyDataset` class should call `super().__init__(**kwargs)` in its constructor. `**kwargs` can include `workers`, `use_multiprocessing`, `max_queue_size`. Do not pass these arguments to `fit()`, as they will be ignored.\n",
            "  self._warn_if_super_not_called()\n"
          ]
        },
        {
          "output_type": "stream",
          "name": "stdout",
          "text": [
            "Epoch 1/30\n",
            "\u001b[1m233/233\u001b[0m \u001b[32m━━━━━━━━━━━━━━━━━━━━\u001b[0m\u001b[37m\u001b[0m \u001b[1m0s\u001b[0m 10s/step - iou_metric: 0.2463 - loss: 0.6159 \n",
            "Epoch 1: val_iou_metric improved from -inf to 0.13525, saving model to /content/drive/MyDrive/best_deeplab_model.keras\n",
            "\u001b[1m233/233\u001b[0m \u001b[32m━━━━━━━━━━━━━━━━━━━━\u001b[0m\u001b[37m\u001b[0m \u001b[1m3007s\u001b[0m 13s/step - iou_metric: 0.2467 - loss: 0.6154 - val_iou_metric: 0.1353 - val_loss: 0.7626\n",
            "Epoch 2/30\n",
            "\u001b[1m233/233\u001b[0m \u001b[32m━━━━━━━━━━━━━━━━━━━━\u001b[0m\u001b[37m\u001b[0m \u001b[1m0s\u001b[0m 260ms/step - iou_metric: 0.5067 - loss: 0.3336\n",
            "Epoch 2: val_iou_metric did not improve from 0.13525\n",
            "\u001b[1m233/233\u001b[0m \u001b[32m━━━━━━━━━━━━━━━━━━━━\u001b[0m\u001b[37m\u001b[0m \u001b[1m68s\u001b[0m 292ms/step - iou_metric: 0.5069 - loss: 0.3335 - val_iou_metric: 0.0981 - val_loss: 0.8219\n",
            "Epoch 3/30\n",
            "\u001b[1m233/233\u001b[0m \u001b[32m━━━━━━━━━━━━━━━━━━━━\u001b[0m\u001b[37m\u001b[0m \u001b[1m0s\u001b[0m 244ms/step - iou_metric: 0.6349 - loss: 0.2257\n",
            "Epoch 3: val_iou_metric improved from 0.13525 to 0.37207, saving model to /content/drive/MyDrive/best_deeplab_model.keras\n",
            "\u001b[1m233/233\u001b[0m \u001b[32m━━━━━━━━━━━━━━━━━━━━\u001b[0m\u001b[37m\u001b[0m \u001b[1m66s\u001b[0m 284ms/step - iou_metric: 0.6349 - loss: 0.2257 - val_iou_metric: 0.3721 - val_loss: 0.4613\n",
            "Epoch 4/30\n",
            "\u001b[1m233/233\u001b[0m \u001b[32m━━━━━━━━━━━━━━━━━━━━\u001b[0m\u001b[37m\u001b[0m \u001b[1m0s\u001b[0m 247ms/step - iou_metric: 0.6877 - loss: 0.1864\n",
            "Epoch 4: val_iou_metric improved from 0.37207 to 0.45583, saving model to /content/drive/MyDrive/best_deeplab_model.keras\n",
            "\u001b[1m233/233\u001b[0m \u001b[32m━━━━━━━━━━━━━━━━━━━━\u001b[0m\u001b[37m\u001b[0m \u001b[1m83s\u001b[0m 287ms/step - iou_metric: 0.6878 - loss: 0.1863 - val_iou_metric: 0.4558 - val_loss: 0.3776\n",
            "Epoch 5/30\n",
            "\u001b[1m233/233\u001b[0m \u001b[32m━━━━━━━━━━━━━━━━━━━━\u001b[0m\u001b[37m\u001b[0m \u001b[1m0s\u001b[0m 246ms/step - iou_metric: 0.7306 - loss: 0.1568\n",
            "Epoch 5: val_iou_metric improved from 0.45583 to 0.51231, saving model to /content/drive/MyDrive/best_deeplab_model.keras\n",
            "\u001b[1m233/233\u001b[0m \u001b[32m━━━━━━━━━━━━━━━━━━━━\u001b[0m\u001b[37m\u001b[0m \u001b[1m82s\u001b[0m 286ms/step - iou_metric: 0.7306 - loss: 0.1568 - val_iou_metric: 0.5123 - val_loss: 0.3255\n",
            "Epoch 6/30\n",
            "\u001b[1m233/233\u001b[0m \u001b[32m━━━━━━━━━━━━━━━━━━━━\u001b[0m\u001b[37m\u001b[0m \u001b[1m0s\u001b[0m 256ms/step - iou_metric: 0.7573 - loss: 0.1390\n",
            "Epoch 6: val_iou_metric improved from 0.51231 to 0.52913, saving model to /content/drive/MyDrive/best_deeplab_model.keras\n",
            "\u001b[1m233/233\u001b[0m \u001b[32m━━━━━━━━━━━━━━━━━━━━\u001b[0m\u001b[37m\u001b[0m \u001b[1m69s\u001b[0m 294ms/step - iou_metric: 0.7573 - loss: 0.1390 - val_iou_metric: 0.5291 - val_loss: 0.3109\n",
            "Epoch 7/30\n",
            "\u001b[1m233/233\u001b[0m \u001b[32m━━━━━━━━━━━━━━━━━━━━\u001b[0m\u001b[37m\u001b[0m \u001b[1m0s\u001b[0m 247ms/step - iou_metric: 0.7628 - loss: 0.1364\n",
            "Epoch 7: val_iou_metric improved from 0.52913 to 0.54398, saving model to /content/drive/MyDrive/best_deeplab_model.keras\n",
            "\u001b[1m233/233\u001b[0m \u001b[32m━━━━━━━━━━━━━━━━━━━━\u001b[0m\u001b[37m\u001b[0m \u001b[1m80s\u001b[0m 285ms/step - iou_metric: 0.7629 - loss: 0.1364 - val_iou_metric: 0.5440 - val_loss: 0.2981\n",
            "Epoch 8/30\n",
            "\u001b[1m233/233\u001b[0m \u001b[32m━━━━━━━━━━━━━━━━━━━━\u001b[0m\u001b[37m\u001b[0m \u001b[1m0s\u001b[0m 247ms/step - iou_metric: 0.7890 - loss: 0.1189\n",
            "Epoch 8: val_iou_metric did not improve from 0.54398\n",
            "\u001b[1m233/233\u001b[0m \u001b[32m━━━━━━━━━━━━━━━━━━━━\u001b[0m\u001b[37m\u001b[0m \u001b[1m79s\u001b[0m 276ms/step - iou_metric: 0.7890 - loss: 0.1189 - val_iou_metric: 0.5429 - val_loss: 0.2992\n",
            "Epoch 9/30\n",
            "\u001b[1m233/233\u001b[0m \u001b[32m━━━━━━━━━━━━━━━━━━━━\u001b[0m\u001b[37m\u001b[0m \u001b[1m0s\u001b[0m 245ms/step - iou_metric: 0.7949 - loss: 0.1161\n",
            "Epoch 9: val_iou_metric improved from 0.54398 to 0.56007, saving model to /content/drive/MyDrive/best_deeplab_model.keras\n",
            "\u001b[1m233/233\u001b[0m \u001b[32m━━━━━━━━━━━━━━━━━━━━\u001b[0m\u001b[37m\u001b[0m \u001b[1m66s\u001b[0m 282ms/step - iou_metric: 0.7949 - loss: 0.1161 - val_iou_metric: 0.5601 - val_loss: 0.2872\n",
            "Epoch 10/30\n",
            "\u001b[1m233/233\u001b[0m \u001b[32m━━━━━━━━━━━━━━━━━━━━\u001b[0m\u001b[37m\u001b[0m \u001b[1m0s\u001b[0m 256ms/step - iou_metric: 0.8190 - loss: 0.0999\n",
            "Epoch 10: val_iou_metric did not improve from 0.56007\n",
            "\u001b[1m233/233\u001b[0m \u001b[32m━━━━━━━━━━━━━━━━━━━━\u001b[0m\u001b[37m\u001b[0m \u001b[1m66s\u001b[0m 280ms/step - iou_metric: 0.8190 - loss: 0.0999 - val_iou_metric: 0.5588 - val_loss: 0.2855\n",
            "Epoch 11/30\n",
            "\u001b[1m233/233\u001b[0m \u001b[32m━━━━━━━━━━━━━━━━━━━━\u001b[0m\u001b[37m\u001b[0m \u001b[1m0s\u001b[0m 245ms/step - iou_metric: 0.8221 - loss: 0.0982\n",
            "Epoch 11: val_iou_metric improved from 0.56007 to 0.56406, saving model to /content/drive/MyDrive/best_deeplab_model.keras\n",
            "\u001b[1m233/233\u001b[0m \u001b[32m━━━━━━━━━━━━━━━━━━━━\u001b[0m\u001b[37m\u001b[0m \u001b[1m65s\u001b[0m 277ms/step - iou_metric: 0.8221 - loss: 0.0982 - val_iou_metric: 0.5641 - val_loss: 0.2820\n",
            "Epoch 12/30\n",
            "\u001b[1m233/233\u001b[0m \u001b[32m━━━━━━━━━━━━━━━━━━━━\u001b[0m\u001b[37m\u001b[0m \u001b[1m0s\u001b[0m 247ms/step - iou_metric: 0.8323 - loss: 0.0919\n",
            "Epoch 12: val_iou_metric improved from 0.56406 to 0.56466, saving model to /content/drive/MyDrive/best_deeplab_model.keras\n",
            "\u001b[1m233/233\u001b[0m \u001b[32m━━━━━━━━━━━━━━━━━━━━\u001b[0m\u001b[37m\u001b[0m \u001b[1m82s\u001b[0m 277ms/step - iou_metric: 0.8323 - loss: 0.0919 - val_iou_metric: 0.5647 - val_loss: 0.2811\n",
            "Epoch 13/30\n",
            "\u001b[1m233/233\u001b[0m \u001b[32m━━━━━━━━━━━━━━━━━━━━\u001b[0m\u001b[37m\u001b[0m \u001b[1m0s\u001b[0m 257ms/step - iou_metric: 0.8422 - loss: 0.0859\n",
            "Epoch 13: val_iou_metric did not improve from 0.56466\n",
            "\u001b[1m233/233\u001b[0m \u001b[32m━━━━━━━━━━━━━━━━━━━━\u001b[0m\u001b[37m\u001b[0m \u001b[1m66s\u001b[0m 283ms/step - iou_metric: 0.8422 - loss: 0.0859 - val_iou_metric: 0.5618 - val_loss: 0.2834\n",
            "Epoch 14/30\n",
            "\u001b[1m233/233\u001b[0m \u001b[32m━━━━━━━━━━━━━━━━━━━━\u001b[0m\u001b[37m\u001b[0m \u001b[1m0s\u001b[0m 244ms/step - iou_metric: 0.8439 - loss: 0.0852\n",
            "Epoch 14: val_iou_metric did not improve from 0.56466\n",
            "\u001b[1m233/233\u001b[0m \u001b[32m━━━━━━━━━━━━━━━━━━━━\u001b[0m\u001b[37m\u001b[0m \u001b[1m63s\u001b[0m 269ms/step - iou_metric: 0.8439 - loss: 0.0852 - val_iou_metric: 0.5626 - val_loss: 0.2821\n",
            "Epoch 15/30\n",
            "\u001b[1m233/233\u001b[0m \u001b[32m━━━━━━━━━━━━━━━━━━━━\u001b[0m\u001b[37m\u001b[0m \u001b[1m0s\u001b[0m 244ms/step - iou_metric: 0.8471 - loss: 0.0834\n",
            "Epoch 15: val_iou_metric improved from 0.56466 to 0.57606, saving model to /content/drive/MyDrive/best_deeplab_model.keras\n",
            "\u001b[1m233/233\u001b[0m \u001b[32m━━━━━━━━━━━━━━━━━━━━\u001b[0m\u001b[37m\u001b[0m \u001b[1m65s\u001b[0m 277ms/step - iou_metric: 0.8471 - loss: 0.0834 - val_iou_metric: 0.5761 - val_loss: 0.2724\n",
            "Epoch 16/30\n",
            "\u001b[1m233/233\u001b[0m \u001b[32m━━━━━━━━━━━━━━━━━━━━\u001b[0m\u001b[37m\u001b[0m \u001b[1m0s\u001b[0m 247ms/step - iou_metric: 0.8571 - loss: 0.0773\n",
            "Epoch 16: val_iou_metric did not improve from 0.57606\n",
            "\u001b[1m233/233\u001b[0m \u001b[32m━━━━━━━━━━━━━━━━━━━━\u001b[0m\u001b[37m\u001b[0m \u001b[1m80s\u001b[0m 270ms/step - iou_metric: 0.8571 - loss: 0.0773 - val_iou_metric: 0.5755 - val_loss: 0.2725\n",
            "Epoch 17/30\n",
            "\u001b[1m233/233\u001b[0m \u001b[32m━━━━━━━━━━━━━━━━━━━━\u001b[0m\u001b[37m\u001b[0m \u001b[1m0s\u001b[0m 244ms/step - iou_metric: 0.8624 - loss: 0.0741\n",
            "Epoch 17: val_iou_metric did not improve from 0.57606\n",
            "\u001b[1m233/233\u001b[0m \u001b[32m━━━━━━━━━━━━━━━━━━━━\u001b[0m\u001b[37m\u001b[0m \u001b[1m63s\u001b[0m 270ms/step - iou_metric: 0.8624 - loss: 0.0741 - val_iou_metric: 0.5746 - val_loss: 0.2734\n",
            "Epoch 18/30\n",
            "\u001b[1m233/233\u001b[0m \u001b[32m━━━━━━━━━━━━━━━━━━━━\u001b[0m\u001b[37m\u001b[0m \u001b[1m0s\u001b[0m 244ms/step - iou_metric: 0.8667 - loss: 0.0717\n",
            "Epoch 18: val_iou_metric did not improve from 0.57606\n",
            "\u001b[1m233/233\u001b[0m \u001b[32m━━━━━━━━━━━━━━━━━━━━\u001b[0m\u001b[37m\u001b[0m \u001b[1m62s\u001b[0m 265ms/step - iou_metric: 0.8667 - loss: 0.0717 - val_iou_metric: 0.5700 - val_loss: 0.2767\n",
            "Epoch 19/30\n",
            "\u001b[1m233/233\u001b[0m \u001b[32m━━━━━━━━━━━━━━━━━━━━\u001b[0m\u001b[37m\u001b[0m \u001b[1m0s\u001b[0m 245ms/step - iou_metric: 0.8681 - loss: 0.0709\n",
            "Epoch 19: val_iou_metric improved from 0.57606 to 0.57727, saving model to /content/drive/MyDrive/best_deeplab_model.keras\n",
            "\u001b[1m233/233\u001b[0m \u001b[32m━━━━━━━━━━━━━━━━━━━━\u001b[0m\u001b[37m\u001b[0m \u001b[1m64s\u001b[0m 273ms/step - iou_metric: 0.8681 - loss: 0.0709 - val_iou_metric: 0.5773 - val_loss: 0.2712\n",
            "Epoch 20/30\n",
            "\u001b[1m233/233\u001b[0m \u001b[32m━━━━━━━━━━━━━━━━━━━━\u001b[0m\u001b[37m\u001b[0m \u001b[1m0s\u001b[0m 248ms/step - iou_metric: 0.8751 - loss: 0.0668\n",
            "Epoch 20: val_iou_metric improved from 0.57727 to 0.58296, saving model to /content/drive/MyDrive/best_deeplab_model.keras\n",
            "\u001b[1m233/233\u001b[0m \u001b[32m━━━━━━━━━━━━━━━━━━━━\u001b[0m\u001b[37m\u001b[0m \u001b[1m83s\u001b[0m 278ms/step - iou_metric: 0.8751 - loss: 0.0668 - val_iou_metric: 0.5830 - val_loss: 0.2666\n",
            "Epoch 21/30\n",
            "\u001b[1m233/233\u001b[0m \u001b[32m━━━━━━━━━━━━━━━━━━━━\u001b[0m\u001b[37m\u001b[0m \u001b[1m0s\u001b[0m 262ms/step - iou_metric: 0.8763 - loss: 0.0661\n",
            "Epoch 21: val_iou_metric did not improve from 0.58296\n",
            "\u001b[1m233/233\u001b[0m \u001b[32m━━━━━━━━━━━━━━━━━━━━\u001b[0m\u001b[37m\u001b[0m \u001b[1m67s\u001b[0m 288ms/step - iou_metric: 0.8763 - loss: 0.0661 - val_iou_metric: 0.5785 - val_loss: 0.2694\n",
            "Epoch 22/30\n",
            "\u001b[1m233/233\u001b[0m \u001b[32m━━━━━━━━━━━━━━━━━━━━\u001b[0m\u001b[37m\u001b[0m \u001b[1m0s\u001b[0m 245ms/step - iou_metric: 0.8808 - loss: 0.0635\n",
            "Epoch 22: val_iou_metric did not improve from 0.58296\n",
            "\u001b[1m233/233\u001b[0m \u001b[32m━━━━━━━━━━━━━━━━━━━━\u001b[0m\u001b[37m\u001b[0m \u001b[1m62s\u001b[0m 267ms/step - iou_metric: 0.8808 - loss: 0.0635 - val_iou_metric: 0.5741 - val_loss: 0.2740\n",
            "Epoch 23/30\n",
            "\u001b[1m233/233\u001b[0m \u001b[32m━━━━━━━━━━━━━━━━━━━━\u001b[0m\u001b[37m\u001b[0m \u001b[1m0s\u001b[0m 248ms/step - iou_metric: 0.8826 - loss: 0.0626\n",
            "Epoch 23: val_iou_metric did not improve from 0.58296\n",
            "\u001b[1m233/233\u001b[0m \u001b[32m━━━━━━━━━━━━━━━━━━━━\u001b[0m\u001b[37m\u001b[0m \u001b[1m83s\u001b[0m 271ms/step - iou_metric: 0.8826 - loss: 0.0626 - val_iou_metric: 0.5776 - val_loss: 0.2706\n",
            "Epoch 24/30\n",
            "\u001b[1m233/233\u001b[0m \u001b[32m━━━━━━━━━━━━━━━━━━━━\u001b[0m\u001b[37m\u001b[0m \u001b[1m0s\u001b[0m 245ms/step - iou_metric: 0.8882 - loss: 0.0593\n",
            "Epoch 24: val_iou_metric did not improve from 0.58296\n",
            "\u001b[1m233/233\u001b[0m \u001b[32m━━━━━━━━━━━━━━━━━━━━\u001b[0m\u001b[37m\u001b[0m \u001b[1m62s\u001b[0m 267ms/step - iou_metric: 0.8882 - loss: 0.0593 - val_iou_metric: 0.5720 - val_loss: 0.2753\n",
            "Epoch 25/30\n",
            "\u001b[1m233/233\u001b[0m \u001b[32m━━━━━━━━━━━━━━━━━━━━\u001b[0m\u001b[37m\u001b[0m \u001b[1m0s\u001b[0m 248ms/step - iou_metric: 0.8885 - loss: 0.0592\n",
            "Epoch 25: val_iou_metric did not improve from 0.58296\n",
            "\u001b[1m233/233\u001b[0m \u001b[32m━━━━━━━━━━━━━━━━━━━━\u001b[0m\u001b[37m\u001b[0m \u001b[1m83s\u001b[0m 270ms/step - iou_metric: 0.8885 - loss: 0.0592 - val_iou_metric: 0.5703 - val_loss: 0.2761\n",
            "Epoch 25: early stopping\n",
            "Restoring model weights from the end of the best epoch: 20.\n"
          ]
        }
      ]
    },
    {
      "cell_type": "code",
      "source": [
        "from scipy.ndimage import binary_erosion\n",
        "\n",
        "def get_surface(mask):\n",
        "    eroded = binary_erosion(mask)\n",
        "    surface = mask ^ eroded  # XOR: Surface pixels only\n",
        "    return surface\n"
      ],
      "metadata": {
        "id": "wREOisFKqA8k"
      },
      "execution_count": 13,
      "outputs": []
    },
    {
      "cell_type": "code",
      "source": [
        "import numpy as np\n",
        "from scipy.spatial.distance import directed_hausdorff\n",
        "from scipy.ndimage import distance_transform_edt\n",
        "\n",
        "def dice_coefficient(pred, gt):\n",
        "    intersection = np.logical_and(pred, gt).sum()\n",
        "    return (2. * intersection) / (pred.sum() + gt.sum())\n",
        "\n",
        "def voe(pred, gt):\n",
        "    intersection = np.logical_and(pred, gt).sum()\n",
        "    union = np.logical_or(pred, gt).sum()\n",
        "    return 1 - (intersection / union)\n",
        "\n",
        "def rvd(pred, gt):\n",
        "    return (pred.sum() - gt.sum()) / gt.sum()\n",
        "def assd(pred, gt):\n",
        "    pred_surface = get_surface(pred)\n",
        "    gt_surface = get_surface(gt)\n",
        "    if np.sum(pred_surface) == 0 or np.sum(gt_surface) == 0:\n",
        "        return np.nan  # Surface not found\n",
        "    pred_dist = distance_transform_edt(~pred_surface)\n",
        "    gt_dist = distance_transform_edt(~gt_surface)\n",
        "    surface_distances = np.concatenate([\n",
        "        pred_dist[gt_surface],\n",
        "        gt_dist[pred_surface]\n",
        "    ])\n",
        "    return surface_distances.mean()\n",
        "\n",
        "def rmsd(pred, gt):\n",
        "    pred_surface = get_surface(pred)\n",
        "    gt_surface = get_surface(gt)\n",
        "    if np.sum(pred_surface) == 0 or np.sum(gt_surface) == 0:\n",
        "        return np.nan  # Surface not found\n",
        "    pred_dist = distance_transform_edt(~pred_surface)\n",
        "    gt_dist = distance_transform_edt(~gt_surface)\n",
        "    surface_distances = np.concatenate([\n",
        "        pred_dist[gt_surface],\n",
        "        gt_dist[pred_surface]\n",
        "    ])\n",
        "    return np.sqrt((surface_distances ** 2).mean())\n",
        "\n",
        "\n",
        "# Example usage\n",
        "# pred_mask and gt_mask should be binary (0 and 1) masks\n",
        "\n",
        "# Example dummy masks (replace with your real predictions)\n",
        "pred_mask = np.random.randint(0, 2, (256, 256))\n",
        "gt_mask = np.random.randint(0, 2, (256, 256))\n",
        "\n",
        "dice = dice_coefficient(pred_mask, gt_mask)\n",
        "voe_score = voe(pred_mask, gt_mask)\n",
        "rvd_score = rvd(pred_mask, gt_mask)\n",
        "assd_score = assd(pred_mask, gt_mask)\n",
        "rmsd_score = rmsd(pred_mask, gt_mask)\n",
        "\n",
        "print(f\"Dice Coefficient: {dice:.4f}\")\n",
        "print(f\"VOE: {voe_score:.4f}\")\n",
        "print(f\"RVD: {rvd_score:.4f}\")\n",
        "print(f\"ASSD: {assd_score:.4f}\")\n",
        "print(f\"RMSD: {rmsd_score:.4f}\")\n"
      ],
      "metadata": {
        "colab": {
          "base_uri": "https://localhost:8080/"
        },
        "id": "oudNHGThqduZ",
        "outputId": "c287d2d1-0d91-4949-bd25-1bcf7dea56a7"
      },
      "execution_count": 14,
      "outputs": [
        {
          "output_type": "stream",
          "name": "stdout",
          "text": [
            "Dice Coefficient: 0.5034\n",
            "VOE: 0.6637\n",
            "RVD: -0.0005\n",
            "ASSD: 127.5324\n",
            "RMSD: 147.3768\n"
          ]
        }
      ]
    }
  ]
}