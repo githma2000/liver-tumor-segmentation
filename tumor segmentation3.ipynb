{
  "nbformat": 4,
  "nbformat_minor": 0,
  "metadata": {
    "colab": {
      "provenance": [],
      "gpuType": "T4",
      "authorship_tag": "ABX9TyNmsWGuIGlbxbVtbUKsOV1E",
      "include_colab_link": true
    },
    "kernelspec": {
      "name": "python3",
      "display_name": "Python 3"
    },
    "language_info": {
      "name": "python"
    },
    "accelerator": "GPU"
  },
  "cells": [
    {
      "cell_type": "markdown",
      "metadata": {
        "id": "view-in-github",
        "colab_type": "text"
      },
      "source": [
        "<a href=\"https://colab.research.google.com/github/githma2000/liver-tumor-segmentation/blob/main/tumor%20segmentation3.ipynb\" target=\"_parent\"><img src=\"https://colab.research.google.com/assets/colab-badge.svg\" alt=\"Open In Colab\"/></a>"
      ]
    },
    {
      "cell_type": "code",
      "execution_count": 7,
      "metadata": {
        "colab": {
          "base_uri": "https://localhost:8080/"
        },
        "id": "Xt76bdNDU0oP",
        "outputId": "dbbc5f06-c650-4473-f18a-09eea0135a02"
      },
      "outputs": [
        {
          "output_type": "stream",
          "name": "stdout",
          "text": [
            "Mounted at /content/drive\n"
          ]
        }
      ],
      "source": [
        "from google.colab import drive\n",
        "drive.mount('/content/drive')\n"
      ]
    },
    {
      "cell_type": "code",
      "source": [
        "import os\n",
        "\n",
        "DATASET_PATH = '/content/drive/MyDrive/Preprocessed_3Dircadb'\n"
      ],
      "metadata": {
        "id": "J-M0lKiNVKoD"
      },
      "execution_count": 8,
      "outputs": []
    },
    {
      "cell_type": "code",
      "source": [
        "import os\n",
        "import random\n",
        "import shutil\n",
        "\n",
        "base_dir = '/content/drive/MyDrive/Preprocessed_3Dircadb'\n",
        "all_patients = sorted([f for f in os.listdir(base_dir) if f.startswith('3Dircadb')])\n",
        "\n",
        "# Shuffle and split\n",
        "random.seed(42)\n",
        "random.shuffle(all_patients)\n",
        "\n",
        "train_split = int(0.7 * len(all_patients))\n",
        "val_split = int(0.85 * len(all_patients))\n",
        "\n",
        "train_patients = all_patients[:train_split]\n",
        "val_patients = all_patients[train_split:val_split]\n",
        "test_patients = all_patients[val_split:]\n",
        "\n",
        "print(\"Train:\", train_patients)\n",
        "print(\"Val:\", val_patients)\n",
        "print(\"Test:\", test_patients)\n"
      ],
      "metadata": {
        "colab": {
          "base_uri": "https://localhost:8080/"
        },
        "id": "vXygG4fJVMtQ",
        "outputId": "70d70e2c-54fd-423a-87a4-9db0c95ef290"
      },
      "execution_count": 9,
      "outputs": [
        {
          "output_type": "stream",
          "name": "stdout",
          "text": [
            "Train: ['3Dircadb1.9', '3Dircadb1.14', '3Dircadb1.4', '3Dircadb1.13', '3Dircadb1.18', '3Dircadb1.3', '3Dircadb1.5', '3Dircadb1.8', '3Dircadb1.15', '3Dircadb1.20', '3Dircadb1.7', '3Dircadb1.19', '3Dircadb1.10', '3Dircadb1.2']\n",
            "Val: ['3Dircadb1.11', '3Dircadb1.6', '3Dircadb1.16']\n",
            "Test: ['3Dircadb1.17', '3Dircadb1.1', '3Dircadb1.12']\n"
          ]
        }
      ]
    },
    {
      "cell_type": "code",
      "source": [
        "from tensorflow.keras.utils import Sequence\n",
        "import numpy as np\n",
        "import os\n",
        "import random\n",
        "\n",
        "class IRCADNPYDataset(Sequence):\n",
        "    def __init__(self, patient_list, base_path, batch_size=8, input_size=(256, 256), shuffle=True):\n",
        "        self.patient_list = patient_list\n",
        "        self.base_path = base_path\n",
        "        self.batch_size = batch_size\n",
        "        self.input_size = input_size\n",
        "        self.shuffle = shuffle\n",
        "        self.data = self._load_all_files()\n",
        "        self.on_epoch_end()\n",
        "\n",
        "    def _load_all_files(self):\n",
        "        data_pairs = []\n",
        "        for patient in self.patient_list:\n",
        "            img_dir = os.path.join(self.base_path, patient, 'PATIENT_2_5D')\n",
        "            mask_dir = os.path.join(self.base_path, patient, 'LABEL_2_5D')\n",
        "\n",
        "            img_files = sorted(os.listdir(img_dir))\n",
        "            mask_files = sorted(os.listdir(mask_dir))\n",
        "\n",
        "            for img_file, mask_file in zip(img_files, mask_files):\n",
        "                img_path = os.path.join(img_dir, img_file)\n",
        "                mask_path = os.path.join(mask_dir, mask_file)\n",
        "                if os.path.isfile(img_path) and os.path.isfile(mask_path):\n",
        "                    data_pairs.append((img_path, mask_path))\n",
        "        return data_pairs\n",
        "\n",
        "    def __len__(self):\n",
        "        return max(1, len(self.data) // self.batch_size)\n",
        "\n",
        "    def __getitem__(self, idx):\n",
        "        batch_pairs = self.data[idx * self.batch_size:(idx + 1) * self.batch_size]\n",
        "        images, masks = [], []\n",
        "\n",
        "        for img_path, mask_path in batch_pairs:\n",
        "\n",
        "            img = np.load(img_path)\n",
        "            img = img.astype(np.float32)\n",
        "\n",
        "            mask = np.load(mask_path)\n",
        "            mask = mask.astype(np.float32)\n",
        "\n",
        "\n",
        "            if mask.ndim == 2:\n",
        "                mask = np.expand_dims(mask, axis=-1)\n",
        "            elif mask.ndim == 3 and mask.shape[2] > 1:\n",
        "                mask = mask[..., 0:1]\n",
        "\n",
        "\n",
        "            min_val = np.min(mask)\n",
        "            max_val = np.max(mask)\n",
        "\n",
        "\n",
        "            threshold = min_val + (max_val - min_val) * 0.1\n",
        "\n",
        "\n",
        "            mask = (mask > threshold).astype(np.float32)\n",
        "\n",
        "            images.append(img)\n",
        "            masks.append(mask)\n",
        "\n",
        "        return np.array(images), np.array(masks)\n",
        "\n",
        "    def on_epoch_end(self):\n",
        "        if self.shuffle:\n",
        "            random.shuffle(self.data)"
      ],
      "metadata": {
        "id": "_8PQlpEGVPEB"
      },
      "execution_count": 10,
      "outputs": []
    },
    {
      "cell_type": "code",
      "source": [
        "import tensorflow as tf\n",
        "from tensorflow.keras.layers import Conv2D, BatchNormalization, Activation, UpSampling2D, Input, concatenate\n",
        "from tensorflow.keras.models import Model\n",
        "from tensorflow.keras.applications import ResNet50\n",
        "\n",
        "def ASPP(x, filters):\n",
        "    \"\"\"Atrous Spatial Pyramid Pooling with Keras-compatible operations\"\"\"\n",
        "    shape = x.shape\n",
        "\n",
        "    y1 = Conv2D(filters, 1, padding=\"same\", use_bias=False)(x)\n",
        "    y1 = BatchNormalization()(y1)\n",
        "    y1 = Activation(\"relu\")(y1)\n",
        "\n",
        "    y2 = Conv2D(filters, 3, padding=\"same\", dilation_rate=6, use_bias=False)(x)\n",
        "    y2 = BatchNormalization()(y2)\n",
        "    y2 = Activation(\"relu\")(y2)\n",
        "\n",
        "    y3 = Conv2D(filters, 3, padding=\"same\", dilation_rate=12, use_bias=False)(x)\n",
        "    y3 = BatchNormalization()(y3)\n",
        "    y3 = Activation(\"relu\")(y3)\n",
        "\n",
        "    y4 = Conv2D(filters, 3, padding=\"same\", dilation_rate=18, use_bias=False)(x)\n",
        "    y4 = BatchNormalization()(y4)\n",
        "    y4 = Activation(\"relu\")(y4)\n",
        "\n",
        "    # Use GlobalAveragePooling2D and reshape for broadcast\n",
        "    y5 = tf.keras.layers.GlobalAveragePooling2D()(x)\n",
        "    y5 = tf.keras.layers.Reshape((1, 1, shape[-1]))(y5)\n",
        "    y5 = Conv2D(filters, 1, padding=\"same\", use_bias=False)(y5)\n",
        "    y5 = BatchNormalization()(y5)\n",
        "    y5 = Activation(\"relu\")(y5)\n",
        "    y5 = UpSampling2D(size=(shape[1], shape[2]), interpolation=\"bilinear\")(y5)\n",
        "\n",
        "    y = concatenate([y1, y2, y3, y4, y5])\n",
        "    y = Conv2D(filters, 1, padding=\"same\", use_bias=False)(y)\n",
        "    y = BatchNormalization()(y)\n",
        "    y = Activation(\"relu\")(y)\n",
        "\n",
        "    return y\n",
        "\n",
        "\n",
        "def DeeplabV3Plus(input_shape=(256, 256, 3), num_classes=1):\n",
        "    \"\"\"Custom DeepLabV3+ model with ResNet50 backbone\"\"\"\n",
        "    base_model = ResNet50(weights='imagenet', include_top=False, input_shape=input_shape)\n",
        "\n",
        "    # Use features from different levels of the encoder\n",
        "    image_features = base_model.get_layer(\"conv4_block6_2_relu\").output\n",
        "    x = ASPP(image_features, 256)\n",
        "\n",
        "    x = UpSampling2D(size=(4, 4), interpolation=\"bilinear\")(x)\n",
        "\n",
        "    low_level_feat = base_model.get_layer(\"conv2_block3_2_relu\").output\n",
        "    low_level_feat = Conv2D(48, 1, padding=\"same\", use_bias=False)(low_level_feat)\n",
        "    low_level_feat = BatchNormalization()(low_level_feat)\n",
        "    low_level_feat = Activation(\"relu\")(low_level_feat)\n",
        "\n",
        "    x = concatenate([x, low_level_feat])\n",
        "    x = Conv2D(256, 3, padding=\"same\", use_bias=False)(x)\n",
        "    x = BatchNormalization()(x)\n",
        "    x = Activation(\"relu\")(x)\n",
        "\n",
        "    x = Conv2D(256, 3, padding=\"same\", use_bias=False)(x)\n",
        "    x = BatchNormalization()(x)\n",
        "    x = Activation(\"relu\")(x)\n",
        "\n",
        "    x = UpSampling2D(size=(4, 4), interpolation=\"bilinear\")(x)\n",
        "    x = Conv2D(num_classes, 1, padding=\"same\", activation=\"sigmoid\")(x)\n",
        "\n",
        "    model = Model(inputs=base_model.input, outputs=x)\n",
        "    return model"
      ],
      "metadata": {
        "id": "k11T_jv3Vlao"
      },
      "execution_count": 11,
      "outputs": []
    },
    {
      "cell_type": "code",
      "source": [
        "import torch\n",
        "import torch.nn as nn\n",
        "import torch.nn.functional as F\n",
        "from scipy.ndimage import distance_transform_edt\n",
        "\n",
        "class DiceLoss(nn.Module):\n",
        "    def __init__(self, smooth=1.0):\n",
        "        super(DiceLoss, self).__init__()\n",
        "        self.smooth = smooth\n",
        "\n",
        "    def forward(self, pred, target):\n",
        "        pred = torch.sigmoid(pred)\n",
        "        intersection = (pred * target).sum()\n",
        "        union = pred.sum() + target.sum()\n",
        "        dice = (2. * intersection + self.smooth) / (union + self.smooth)\n",
        "        return 1 - dice\n",
        "\n",
        "def compute_distance_map(seg):\n",
        "    seg = seg.cpu().numpy()\n",
        "    dist_map = []\n",
        "    for s in seg:\n",
        "        posmask = s.astype(bool)\n",
        "        negmask = ~posmask\n",
        "        posdist = distance_transform_edt(negmask)\n",
        "        negdist = distance_transform_edt(posmask)\n",
        "        dist = posdist - negdist\n",
        "        dist_map.append(dist)\n",
        "    return torch.tensor(dist_map).float().to(seg.device)\n",
        "\n",
        "class DistanceMapLoss(nn.Module):\n",
        "    def forward(self, pred, target):\n",
        "        pred = torch.sigmoid(pred)\n",
        "        target = target.float()\n",
        "        dist_map = compute_distance_map(target)\n",
        "        return (pred * dist_map).mean()\n",
        "\n",
        "class CompositeLoss(nn.Module):\n",
        "    def __init__(self):\n",
        "        super(CompositeLoss, self).__init__()\n",
        "        self.dice = DiceLoss()\n",
        "        self.boundary = DistanceMapLoss()\n",
        "\n",
        "    def forward(self, pred, target):\n",
        "        return self.dice(pred, target) + self.boundary(pred, target)\n",
        "\n",
        "# Initialize the loss\n",
        "criterion = CompositeLoss()\n"
      ],
      "metadata": {
        "id": "Ia82adJ7Hs1Y"
      },
      "execution_count": 12,
      "outputs": []
    },
    {
      "cell_type": "code",
      "source": [
        "model = DeeplabV3Plus(input_shape=(256, 256, 3), num_classes=1)\n",
        "\n",
        "# UNFREEZE all layers of the model, including ResNet50 layers\n",
        "for layer in model.layers:\n",
        "    layer.trainable = True  # Make everything trainable (including ResNet50)\n",
        "\n",
        "def bce_dice_loss(y_true, y_pred):\n",
        "    # Flatten\n",
        "    y_true = tf.reshape(y_true, [-1])\n",
        "    y_pred = tf.reshape(y_pred, [-1])\n",
        "\n",
        "    # Dice\n",
        "    intersection = tf.reduce_sum(y_true * y_pred)\n",
        "    dice = (2. * intersection + 1.0) / (tf.reduce_sum(y_true) + tf.reduce_sum(y_pred) + 1.0)\n",
        "\n",
        "    # Binary Cross-Entropy\n",
        "    bce = tf.keras.losses.binary_crossentropy(y_true, y_pred)\n",
        "\n",
        "    # Combine\n",
        "    return 1 - dice + bce\n",
        "\n",
        "def iou_metric(y_true, y_pred):\n",
        "    y_true = tf.reshape(y_true, [-1])\n",
        "    y_pred = tf.reshape(y_pred, [-1])\n",
        "    intersection = tf.reduce_sum(y_true * y_pred)\n",
        "    union = tf.reduce_sum(y_true) + tf.reduce_sum(y_pred) - intersection\n",
        "    return (intersection + 1) / (union + 1)\n",
        "\n",
        "\n",
        "model.compile(\n",
        "    optimizer=tf.keras.optimizers.Adam(learning_rate=1e-5),\n",
        "    loss=bce_dice_loss,\n",
        "    metrics=[iou_metric]\n",
        ")\n"
      ],
      "metadata": {
        "colab": {
          "base_uri": "https://localhost:8080/"
        },
        "id": "dD2_4TwlV3iQ",
        "outputId": "69890f5f-0672-49f2-f03e-0fdf91147b71"
      },
      "execution_count": 13,
      "outputs": [
        {
          "output_type": "stream",
          "name": "stdout",
          "text": [
            "Downloading data from https://storage.googleapis.com/tensorflow/keras-applications/resnet/resnet50_weights_tf_dim_ordering_tf_kernels_notop.h5\n",
            "\u001b[1m94765736/94765736\u001b[0m \u001b[32m━━━━━━━━━━━━━━━━━━━━\u001b[0m\u001b[37m\u001b[0m \u001b[1m5s\u001b[0m 0us/step\n"
          ]
        }
      ]
    },
    {
      "cell_type": "code",
      "source": [
        "from tensorflow.keras.callbacks import EarlyStopping, ModelCheckpoint\n",
        "\n",
        "train_dataset = IRCADNPYDataset(train_patients, base_dir, batch_size=8)\n",
        "val_dataset = IRCADNPYDataset(val_patients, base_dir, batch_size=8)\n",
        "test_dataset = IRCADNPYDataset(test_patients, base_dir, batch_size=8)\n",
        "\n",
        "# EarlyStopping: watch validation IoU\n",
        "early_stop = EarlyStopping(\n",
        "    monitor='val_iou_metric',\n",
        "    patience=5,\n",
        "    restore_best_weights=True,\n",
        "    mode='max',\n",
        "    verbose=1\n",
        ")\n",
        "\n",
        "# ModelCheckpoint: save best model based on IoU\n",
        "checkpoint = ModelCheckpoint(\n",
        "    '/content/drive/MyDrive/best_deeplab_model.keras',\n",
        "    monitor='val_iou_metric',\n",
        "    save_best_only=True,\n",
        "    mode='max',\n",
        "    verbose=1\n",
        ")\n",
        "\n",
        "# Train the model\n",
        "history = model.fit(\n",
        "    train_dataset,\n",
        "    validation_data=val_dataset,\n",
        "    epochs=30,\n",
        "    callbacks=[early_stop, checkpoint]\n",
        ")"
      ],
      "metadata": {
        "colab": {
          "base_uri": "https://localhost:8080/"
        },
        "id": "JzzLGGROWCP_",
        "outputId": "2fbe512d-dc49-4ca5-8d81-ca7115414abf"
      },
      "execution_count": 14,
      "outputs": [
        {
          "output_type": "stream",
          "name": "stderr",
          "text": [
            "/usr/local/lib/python3.11/dist-packages/keras/src/trainers/data_adapters/py_dataset_adapter.py:121: UserWarning: Your `PyDataset` class should call `super().__init__(**kwargs)` in its constructor. `**kwargs` can include `workers`, `use_multiprocessing`, `max_queue_size`. Do not pass these arguments to `fit()`, as they will be ignored.\n",
            "  self._warn_if_super_not_called()\n"
          ]
        },
        {
          "output_type": "stream",
          "name": "stdout",
          "text": [
            "Epoch 1/30\n",
            "\u001b[1m233/233\u001b[0m \u001b[32m━━━━━━━━━━━━━━━━━━━━\u001b[0m\u001b[37m\u001b[0m \u001b[1m0s\u001b[0m 11s/step - iou_metric: 0.2187 - loss: 1.1950 \n",
            "Epoch 1: val_iou_metric improved from -inf to 0.07562, saving model to /content/drive/MyDrive/best_deeplab_model.keras\n",
            "\u001b[1m233/233\u001b[0m \u001b[32m━━━━━━━━━━━━━━━━━━━━\u001b[0m\u001b[37m\u001b[0m \u001b[1m3127s\u001b[0m 13s/step - iou_metric: 0.2191 - loss: 1.1939 - val_iou_metric: 0.0756 - val_loss: 2.0945\n",
            "Epoch 2/30\n",
            "\u001b[1m233/233\u001b[0m \u001b[32m━━━━━━━━━━━━━━━━━━━━\u001b[0m\u001b[37m\u001b[0m \u001b[1m0s\u001b[0m 264ms/step - iou_metric: 0.4684 - loss: 0.5301\n",
            "Epoch 2: val_iou_metric improved from 0.07562 to 0.12560, saving model to /content/drive/MyDrive/best_deeplab_model.keras\n",
            "\u001b[1m233/233\u001b[0m \u001b[32m━━━━━━━━━━━━━━━━━━━━\u001b[0m\u001b[37m\u001b[0m \u001b[1m72s\u001b[0m 307ms/step - iou_metric: 0.4686 - loss: 0.5299 - val_iou_metric: 0.1256 - val_loss: 1.0903\n",
            "Epoch 3/30\n",
            "\u001b[1m233/233\u001b[0m \u001b[32m━━━━━━━━━━━━━━━━━━━━\u001b[0m\u001b[37m\u001b[0m \u001b[1m0s\u001b[0m 273ms/step - iou_metric: 0.5816 - loss: 0.3865\n",
            "Epoch 3: val_iou_metric improved from 0.12560 to 0.34247, saving model to /content/drive/MyDrive/best_deeplab_model.keras\n",
            "\u001b[1m233/233\u001b[0m \u001b[32m━━━━━━━━━━━━━━━━━━━━\u001b[0m\u001b[37m\u001b[0m \u001b[1m73s\u001b[0m 314ms/step - iou_metric: 0.5816 - loss: 0.3865 - val_iou_metric: 0.3425 - val_loss: 0.7005\n",
            "Epoch 4/30\n",
            "\u001b[1m233/233\u001b[0m \u001b[32m━━━━━━━━━━━━━━━━━━━━\u001b[0m\u001b[37m\u001b[0m \u001b[1m0s\u001b[0m 268ms/step - iou_metric: 0.6250 - loss: 0.3339\n",
            "Epoch 4: val_iou_metric improved from 0.34247 to 0.43909, saving model to /content/drive/MyDrive/best_deeplab_model.keras\n",
            "\u001b[1m233/233\u001b[0m \u001b[32m━━━━━━━━━━━━━━━━━━━━\u001b[0m\u001b[37m\u001b[0m \u001b[1m73s\u001b[0m 312ms/step - iou_metric: 0.6251 - loss: 0.3339 - val_iou_metric: 0.4391 - val_loss: 0.5701\n",
            "Epoch 5/30\n",
            "\u001b[1m233/233\u001b[0m \u001b[32m━━━━━━━━━━━━━━━━━━━━\u001b[0m\u001b[37m\u001b[0m \u001b[1m0s\u001b[0m 268ms/step - iou_metric: 0.6699 - loss: 0.2878\n",
            "Epoch 5: val_iou_metric improved from 0.43909 to 0.48328, saving model to /content/drive/MyDrive/best_deeplab_model.keras\n",
            "\u001b[1m233/233\u001b[0m \u001b[32m━━━━━━━━━━━━━━━━━━━━\u001b[0m\u001b[37m\u001b[0m \u001b[1m71s\u001b[0m 306ms/step - iou_metric: 0.6700 - loss: 0.2877 - val_iou_metric: 0.4833 - val_loss: 0.5868\n",
            "Epoch 6/30\n",
            "\u001b[1m233/233\u001b[0m \u001b[32m━━━━━━━━━━━━━━━━━━━━\u001b[0m\u001b[37m\u001b[0m \u001b[1m0s\u001b[0m 268ms/step - iou_metric: 0.7082 - loss: 0.2511\n",
            "Epoch 6: val_iou_metric improved from 0.48328 to 0.50862, saving model to /content/drive/MyDrive/best_deeplab_model.keras\n",
            "\u001b[1m233/233\u001b[0m \u001b[32m━━━━━━━━━━━━━━━━━━━━\u001b[0m\u001b[37m\u001b[0m \u001b[1m73s\u001b[0m 313ms/step - iou_metric: 0.7082 - loss: 0.2511 - val_iou_metric: 0.5086 - val_loss: 0.5896\n",
            "Epoch 7/30\n",
            "\u001b[1m233/233\u001b[0m \u001b[32m━━━━━━━━━━━━━━━━━━━━\u001b[0m\u001b[37m\u001b[0m \u001b[1m0s\u001b[0m 271ms/step - iou_metric: 0.7313 - loss: 0.2304\n",
            "Epoch 7: val_iou_metric improved from 0.50862 to 0.51717, saving model to /content/drive/MyDrive/best_deeplab_model.keras\n",
            "\u001b[1m233/233\u001b[0m \u001b[32m━━━━━━━━━━━━━━━━━━━━\u001b[0m\u001b[37m\u001b[0m \u001b[1m73s\u001b[0m 312ms/step - iou_metric: 0.7313 - loss: 0.2303 - val_iou_metric: 0.5172 - val_loss: 0.5768\n",
            "Epoch 8/30\n",
            "\u001b[1m233/233\u001b[0m \u001b[32m━━━━━━━━━━━━━━━━━━━━\u001b[0m\u001b[37m\u001b[0m \u001b[1m0s\u001b[0m 271ms/step - iou_metric: 0.7532 - loss: 0.2098\n",
            "Epoch 8: val_iou_metric improved from 0.51717 to 0.53025, saving model to /content/drive/MyDrive/best_deeplab_model.keras\n",
            "\u001b[1m233/233\u001b[0m \u001b[32m━━━━━━━━━━━━━━━━━━━━\u001b[0m\u001b[37m\u001b[0m \u001b[1m82s\u001b[0m 313ms/step - iou_metric: 0.7532 - loss: 0.2098 - val_iou_metric: 0.5302 - val_loss: 0.5577\n",
            "Epoch 9/30\n",
            "\u001b[1m233/233\u001b[0m \u001b[32m━━━━━━━━━━━━━━━━━━━━\u001b[0m\u001b[37m\u001b[0m \u001b[1m0s\u001b[0m 272ms/step - iou_metric: 0.7707 - loss: 0.1915\n",
            "Epoch 9: val_iou_metric did not improve from 0.53025\n",
            "\u001b[1m233/233\u001b[0m \u001b[32m━━━━━━━━━━━━━━━━━━━━\u001b[0m\u001b[37m\u001b[0m \u001b[1m72s\u001b[0m 305ms/step - iou_metric: 0.7707 - loss: 0.1915 - val_iou_metric: 0.5259 - val_loss: 0.5696\n",
            "Epoch 10/30\n",
            "\u001b[1m233/233\u001b[0m \u001b[32m━━━━━━━━━━━━━━━━━━━━\u001b[0m\u001b[37m\u001b[0m \u001b[1m0s\u001b[0m 256ms/step - iou_metric: 0.7840 - loss: 0.1814\n",
            "Epoch 10: val_iou_metric improved from 0.53025 to 0.53748, saving model to /content/drive/MyDrive/best_deeplab_model.keras\n",
            "\u001b[1m233/233\u001b[0m \u001b[32m━━━━━━━━━━━━━━━━━━━━\u001b[0m\u001b[37m\u001b[0m \u001b[1m72s\u001b[0m 307ms/step - iou_metric: 0.7840 - loss: 0.1814 - val_iou_metric: 0.5375 - val_loss: 0.5761\n",
            "Epoch 11/30\n",
            "\u001b[1m233/233\u001b[0m \u001b[32m━━━━━━━━━━━━━━━━━━━━\u001b[0m\u001b[37m\u001b[0m \u001b[1m0s\u001b[0m 252ms/step - iou_metric: 0.7961 - loss: 0.1706\n",
            "Epoch 11: val_iou_metric did not improve from 0.53748\n",
            "\u001b[1m233/233\u001b[0m \u001b[32m━━━━━━━━━━━━━━━━━━━━\u001b[0m\u001b[37m\u001b[0m \u001b[1m82s\u001b[0m 296ms/step - iou_metric: 0.7961 - loss: 0.1706 - val_iou_metric: 0.5291 - val_loss: 0.5912\n",
            "Epoch 12/30\n",
            "\u001b[1m233/233\u001b[0m \u001b[32m━━━━━━━━━━━━━━━━━━━━\u001b[0m\u001b[37m\u001b[0m \u001b[1m0s\u001b[0m 257ms/step - iou_metric: 0.8057 - loss: 0.1624\n",
            "Epoch 12: val_iou_metric improved from 0.53748 to 0.54721, saving model to /content/drive/MyDrive/best_deeplab_model.keras\n",
            "\u001b[1m233/233\u001b[0m \u001b[32m━━━━━━━━━━━━━━━━━━━━\u001b[0m\u001b[37m\u001b[0m \u001b[1m69s\u001b[0m 296ms/step - iou_metric: 0.8057 - loss: 0.1624 - val_iou_metric: 0.5472 - val_loss: 0.5573\n",
            "Epoch 13/30\n",
            "\u001b[1m233/233\u001b[0m \u001b[32m━━━━━━━━━━━━━━━━━━━━\u001b[0m\u001b[37m\u001b[0m \u001b[1m0s\u001b[0m 270ms/step - iou_metric: 0.8097 - loss: 0.1566\n",
            "Epoch 13: val_iou_metric did not improve from 0.54721\n",
            "\u001b[1m233/233\u001b[0m \u001b[32m━━━━━━━━━━━━━━━━━━━━\u001b[0m\u001b[37m\u001b[0m \u001b[1m68s\u001b[0m 293ms/step - iou_metric: 0.8098 - loss: 0.1566 - val_iou_metric: 0.5443 - val_loss: 0.5901\n",
            "Epoch 14/30\n",
            "\u001b[1m233/233\u001b[0m \u001b[32m━━━━━━━━━━━━━━━━━━━━\u001b[0m\u001b[37m\u001b[0m \u001b[1m0s\u001b[0m 255ms/step - iou_metric: 0.8229 - loss: 0.1461\n",
            "Epoch 14: val_iou_metric improved from 0.54721 to 0.55429, saving model to /content/drive/MyDrive/best_deeplab_model.keras\n",
            "\u001b[1m233/233\u001b[0m \u001b[32m━━━━━━━━━━━━━━━━━━━━\u001b[0m\u001b[37m\u001b[0m \u001b[1m67s\u001b[0m 285ms/step - iou_metric: 0.8229 - loss: 0.1461 - val_iou_metric: 0.5543 - val_loss: 0.5883\n",
            "Epoch 15/30\n",
            "\u001b[1m233/233\u001b[0m \u001b[32m━━━━━━━━━━━━━━━━━━━━\u001b[0m\u001b[37m\u001b[0m \u001b[1m0s\u001b[0m 269ms/step - iou_metric: 0.8303 - loss: 0.1395\n",
            "Epoch 15: val_iou_metric improved from 0.55429 to 0.55457, saving model to /content/drive/MyDrive/best_deeplab_model.keras\n",
            "\u001b[1m233/233\u001b[0m \u001b[32m━━━━━━━━━━━━━━━━━━━━\u001b[0m\u001b[37m\u001b[0m \u001b[1m71s\u001b[0m 302ms/step - iou_metric: 0.8303 - loss: 0.1395 - val_iou_metric: 0.5546 - val_loss: 0.5790\n",
            "Epoch 16/30\n",
            "\u001b[1m233/233\u001b[0m \u001b[32m━━━━━━━━━━━━━━━━━━━━\u001b[0m\u001b[37m\u001b[0m \u001b[1m0s\u001b[0m 259ms/step - iou_metric: 0.8351 - loss: 0.1347\n",
            "Epoch 16: val_iou_metric improved from 0.55457 to 0.55729, saving model to /content/drive/MyDrive/best_deeplab_model.keras\n",
            "\u001b[1m233/233\u001b[0m \u001b[32m━━━━━━━━━━━━━━━━━━━━\u001b[0m\u001b[37m\u001b[0m \u001b[1m82s\u001b[0m 292ms/step - iou_metric: 0.8351 - loss: 0.1347 - val_iou_metric: 0.5573 - val_loss: 0.5852\n",
            "Epoch 17/30\n",
            "\u001b[1m233/233\u001b[0m \u001b[32m━━━━━━━━━━━━━━━━━━━━\u001b[0m\u001b[37m\u001b[0m \u001b[1m0s\u001b[0m 268ms/step - iou_metric: 0.8354 - loss: 0.1338\n",
            "Epoch 17: val_iou_metric improved from 0.55729 to 0.55951, saving model to /content/drive/MyDrive/best_deeplab_model.keras\n",
            "\u001b[1m233/233\u001b[0m \u001b[32m━━━━━━━━━━━━━━━━━━━━\u001b[0m\u001b[37m\u001b[0m \u001b[1m70s\u001b[0m 300ms/step - iou_metric: 0.8354 - loss: 0.1338 - val_iou_metric: 0.5595 - val_loss: 0.5822\n",
            "Epoch 18/30\n",
            "\u001b[1m233/233\u001b[0m \u001b[32m━━━━━━━━━━━━━━━━━━━━\u001b[0m\u001b[37m\u001b[0m \u001b[1m0s\u001b[0m 259ms/step - iou_metric: 0.8475 - loss: 0.1247\n",
            "Epoch 18: val_iou_metric improved from 0.55951 to 0.55993, saving model to /content/drive/MyDrive/best_deeplab_model.keras\n",
            "\u001b[1m233/233\u001b[0m \u001b[32m━━━━━━━━━━━━━━━━━━━━\u001b[0m\u001b[37m\u001b[0m \u001b[1m86s\u001b[0m 313ms/step - iou_metric: 0.8475 - loss: 0.1247 - val_iou_metric: 0.5599 - val_loss: 0.6013\n",
            "Epoch 19/30\n",
            "\u001b[1m233/233\u001b[0m \u001b[32m━━━━━━━━━━━━━━━━━━━━\u001b[0m\u001b[37m\u001b[0m \u001b[1m0s\u001b[0m 269ms/step - iou_metric: 0.8492 - loss: 0.1217\n",
            "Epoch 19: val_iou_metric improved from 0.55993 to 0.56083, saving model to /content/drive/MyDrive/best_deeplab_model.keras\n",
            "\u001b[1m233/233\u001b[0m \u001b[32m━━━━━━━━━━━━━━━━━━━━\u001b[0m\u001b[37m\u001b[0m \u001b[1m70s\u001b[0m 299ms/step - iou_metric: 0.8492 - loss: 0.1217 - val_iou_metric: 0.5608 - val_loss: 0.5839\n",
            "Epoch 20/30\n",
            "\u001b[1m233/233\u001b[0m \u001b[32m━━━━━━━━━━━━━━━━━━━━\u001b[0m\u001b[37m\u001b[0m \u001b[1m0s\u001b[0m 270ms/step - iou_metric: 0.8599 - loss: 0.1144\n",
            "Epoch 20: val_iou_metric did not improve from 0.56083\n",
            "\u001b[1m233/233\u001b[0m \u001b[32m━━━━━━━━━━━━━━━━━━━━\u001b[0m\u001b[37m\u001b[0m \u001b[1m70s\u001b[0m 299ms/step - iou_metric: 0.8599 - loss: 0.1144 - val_iou_metric: 0.5561 - val_loss: 0.6075\n",
            "Epoch 21/30\n",
            "\u001b[1m233/233\u001b[0m \u001b[32m━━━━━━━━━━━━━━━━━━━━\u001b[0m\u001b[37m\u001b[0m \u001b[1m0s\u001b[0m 256ms/step - iou_metric: 0.8632 - loss: 0.1106\n",
            "Epoch 21: val_iou_metric improved from 0.56083 to 0.57441, saving model to /content/drive/MyDrive/best_deeplab_model.keras\n",
            "\u001b[1m233/233\u001b[0m \u001b[32m━━━━━━━━━━━━━━━━━━━━\u001b[0m\u001b[37m\u001b[0m \u001b[1m71s\u001b[0m 306ms/step - iou_metric: 0.8632 - loss: 0.1106 - val_iou_metric: 0.5744 - val_loss: 0.5723\n",
            "Epoch 22/30\n",
            "\u001b[1m233/233\u001b[0m \u001b[32m━━━━━━━━━━━━━━━━━━━━\u001b[0m\u001b[37m\u001b[0m \u001b[1m0s\u001b[0m 270ms/step - iou_metric: 0.8635 - loss: 0.1106\n",
            "Epoch 22: val_iou_metric did not improve from 0.57441\n",
            "\u001b[1m233/233\u001b[0m \u001b[32m━━━━━━━━━━━━━━━━━━━━\u001b[0m\u001b[37m\u001b[0m \u001b[1m69s\u001b[0m 297ms/step - iou_metric: 0.8635 - loss: 0.1106 - val_iou_metric: 0.5699 - val_loss: 0.5937\n",
            "Epoch 23/30\n",
            "\u001b[1m233/233\u001b[0m \u001b[32m━━━━━━━━━━━━━━━━━━━━\u001b[0m\u001b[37m\u001b[0m \u001b[1m0s\u001b[0m 256ms/step - iou_metric: 0.8677 - loss: 0.1064\n",
            "Epoch 23: val_iou_metric did not improve from 0.57441\n",
            "\u001b[1m233/233\u001b[0m \u001b[32m━━━━━━━━━━━━━━━━━━━━\u001b[0m\u001b[37m\u001b[0m \u001b[1m65s\u001b[0m 279ms/step - iou_metric: 0.8677 - loss: 0.1064 - val_iou_metric: 0.5720 - val_loss: 0.5977\n",
            "Epoch 24/30\n",
            "\u001b[1m233/233\u001b[0m \u001b[32m━━━━━━━━━━━━━━━━━━━━\u001b[0m\u001b[37m\u001b[0m \u001b[1m0s\u001b[0m 257ms/step - iou_metric: 0.8714 - loss: 0.1040\n",
            "Epoch 24: val_iou_metric improved from 0.57441 to 0.57645, saving model to /content/drive/MyDrive/best_deeplab_model.keras\n",
            "\u001b[1m233/233\u001b[0m \u001b[32m━━━━━━━━━━━━━━━━━━━━\u001b[0m\u001b[37m\u001b[0m \u001b[1m67s\u001b[0m 289ms/step - iou_metric: 0.8714 - loss: 0.1040 - val_iou_metric: 0.5765 - val_loss: 0.5978\n",
            "Epoch 25/30\n",
            "\u001b[1m233/233\u001b[0m \u001b[32m━━━━━━━━━━━━━━━━━━━━\u001b[0m\u001b[37m\u001b[0m \u001b[1m0s\u001b[0m 271ms/step - iou_metric: 0.8750 - loss: 0.1006\n",
            "Epoch 25: val_iou_metric did not improve from 0.57645\n",
            "\u001b[1m233/233\u001b[0m \u001b[32m━━━━━━━━━━━━━━━━━━━━\u001b[0m\u001b[37m\u001b[0m \u001b[1m70s\u001b[0m 298ms/step - iou_metric: 0.8750 - loss: 0.1006 - val_iou_metric: 0.5698 - val_loss: 0.6172\n",
            "Epoch 26/30\n",
            "\u001b[1m233/233\u001b[0m \u001b[32m━━━━━━━━━━━━━━━━━━━━\u001b[0m\u001b[37m\u001b[0m \u001b[1m0s\u001b[0m 256ms/step - iou_metric: 0.8782 - loss: 0.0981\n",
            "Epoch 26: val_iou_metric did not improve from 0.57645\n",
            "\u001b[1m233/233\u001b[0m \u001b[32m━━━━━━━━━━━━━━━━━━━━\u001b[0m\u001b[37m\u001b[0m \u001b[1m66s\u001b[0m 284ms/step - iou_metric: 0.8782 - loss: 0.0981 - val_iou_metric: 0.5747 - val_loss: 0.6185\n",
            "Epoch 27/30\n",
            "\u001b[1m233/233\u001b[0m \u001b[32m━━━━━━━━━━━━━━━━━━━━\u001b[0m\u001b[37m\u001b[0m \u001b[1m0s\u001b[0m 257ms/step - iou_metric: 0.8842 - loss: 0.0939\n",
            "Epoch 27: val_iou_metric improved from 0.57645 to 0.57757, saving model to /content/drive/MyDrive/best_deeplab_model.keras\n",
            "\u001b[1m233/233\u001b[0m \u001b[32m━━━━━━━━━━━━━━━━━━━━\u001b[0m\u001b[37m\u001b[0m \u001b[1m67s\u001b[0m 287ms/step - iou_metric: 0.8842 - loss: 0.0939 - val_iou_metric: 0.5776 - val_loss: 0.6082\n",
            "Epoch 28/30\n",
            "\u001b[1m233/233\u001b[0m \u001b[32m━━━━━━━━━━━━━━━━━━━━\u001b[0m\u001b[37m\u001b[0m \u001b[1m0s\u001b[0m 259ms/step - iou_metric: 0.8806 - loss: 0.0948\n",
            "Epoch 28: val_iou_metric did not improve from 0.57757\n",
            "\u001b[1m233/233\u001b[0m \u001b[32m━━━━━━━━━━━━━━━━━━━━\u001b[0m\u001b[37m\u001b[0m \u001b[1m81s\u001b[0m 284ms/step - iou_metric: 0.8806 - loss: 0.0948 - val_iou_metric: 0.5758 - val_loss: 0.6301\n",
            "Epoch 29/30\n",
            "\u001b[1m233/233\u001b[0m \u001b[32m━━━━━━━━━━━━━━━━━━━━\u001b[0m\u001b[37m\u001b[0m \u001b[1m0s\u001b[0m 256ms/step - iou_metric: 0.8879 - loss: 0.0903\n",
            "Epoch 29: val_iou_metric did not improve from 0.57757\n",
            "\u001b[1m233/233\u001b[0m \u001b[32m━━━━━━━━━━━━━━━━━━━━\u001b[0m\u001b[37m\u001b[0m \u001b[1m65s\u001b[0m 279ms/step - iou_metric: 0.8878 - loss: 0.0903 - val_iou_metric: 0.5764 - val_loss: 0.6300\n",
            "Epoch 30/30\n",
            "\u001b[1m233/233\u001b[0m \u001b[32m━━━━━━━━━━━━━━━━━━━━\u001b[0m\u001b[37m\u001b[0m \u001b[1m0s\u001b[0m 257ms/step - iou_metric: 0.8904 - loss: 0.0885\n",
            "Epoch 30: val_iou_metric improved from 0.57757 to 0.57847, saving model to /content/drive/MyDrive/best_deeplab_model.keras\n",
            "\u001b[1m233/233\u001b[0m \u001b[32m━━━━━━━━━━━━━━━━━━━━\u001b[0m\u001b[37m\u001b[0m \u001b[1m67s\u001b[0m 287ms/step - iou_metric: 0.8904 - loss: 0.0885 - val_iou_metric: 0.5785 - val_loss: 0.6498\n",
            "Restoring model weights from the end of the best epoch: 30.\n"
          ]
        }
      ]
    },
    {
      "cell_type": "code",
      "source": [
        "from scipy.ndimage import binary_erosion\n",
        "\n",
        "def get_surface(mask):\n",
        "    eroded = binary_erosion(mask)\n",
        "    surface = mask ^ eroded  # XOR: Surface pixels only\n",
        "    return surface\n"
      ],
      "metadata": {
        "id": "wREOisFKqA8k"
      },
      "execution_count": 15,
      "outputs": []
    },
    {
      "cell_type": "code",
      "source": [
        "import numpy as np\n",
        "from scipy.spatial.distance import directed_hausdorff\n",
        "from scipy.ndimage import distance_transform_edt\n",
        "\n",
        "def dice_coefficient(pred, gt):\n",
        "    intersection = np.logical_and(pred, gt).sum()\n",
        "    return (2. * intersection) / (pred.sum() + gt.sum())\n",
        "\n",
        "def voe(pred, gt):\n",
        "    intersection = np.logical_and(pred, gt).sum()\n",
        "    union = np.logical_or(pred, gt).sum()\n",
        "    return 1 - (intersection / union)\n",
        "\n",
        "def rvd(pred, gt):\n",
        "    return (pred.sum() - gt.sum()) / gt.sum()\n",
        "def assd(pred, gt):\n",
        "    pred_surface = get_surface(pred)\n",
        "    gt_surface = get_surface(gt)\n",
        "    if np.sum(pred_surface) == 0 or np.sum(gt_surface) == 0:\n",
        "        return np.nan  # Surface not found\n",
        "    pred_dist = distance_transform_edt(~pred_surface)\n",
        "    gt_dist = distance_transform_edt(~gt_surface)\n",
        "    surface_distances = np.concatenate([\n",
        "        pred_dist[gt_surface],\n",
        "        gt_dist[pred_surface]\n",
        "    ])\n",
        "    return surface_distances.mean()\n",
        "\n",
        "def rmsd(pred, gt):\n",
        "    pred_surface = get_surface(pred)\n",
        "    gt_surface = get_surface(gt)\n",
        "    if np.sum(pred_surface) == 0 or np.sum(gt_surface) == 0:\n",
        "        return np.nan  # Surface not found\n",
        "    pred_dist = distance_transform_edt(~pred_surface)\n",
        "    gt_dist = distance_transform_edt(~gt_surface)\n",
        "    surface_distances = np.concatenate([\n",
        "        pred_dist[gt_surface],\n",
        "        gt_dist[pred_surface]\n",
        "    ])\n",
        "    return np.sqrt((surface_distances ** 2).mean())\n",
        "\n",
        "\n",
        "# Example usage\n",
        "# pred_mask and gt_mask should be binary (0 and 1) masks\n",
        "\n",
        "# Example dummy masks (replace with your real predictions)\n",
        "pred_mask = np.random.randint(0, 2, (256, 256))\n",
        "gt_mask = np.random.randint(0, 2, (256, 256))\n",
        "\n",
        "dice = dice_coefficient(pred_mask, gt_mask)\n",
        "voe_score = voe(pred_mask, gt_mask)\n",
        "rvd_score = rvd(pred_mask, gt_mask)\n",
        "assd_score = assd(pred_mask, gt_mask)\n",
        "rmsd_score = rmsd(pred_mask, gt_mask)\n",
        "\n",
        "print(f\"Dice Coefficient: {dice:.4f}\")\n",
        "print(f\"VOE: {voe_score:.4f}\")\n",
        "print(f\"RVD: {rvd_score:.4f}\")\n",
        "print(f\"ASSD: {assd_score:.4f}\")\n",
        "print(f\"RMSD: {rmsd_score:.4f}\")\n"
      ],
      "metadata": {
        "colab": {
          "base_uri": "https://localhost:8080/"
        },
        "id": "oudNHGThqduZ",
        "outputId": "fa6f700b-0481-461d-cb29-e416162681f8"
      },
      "execution_count": 16,
      "outputs": [
        {
          "output_type": "stream",
          "name": "stdout",
          "text": [
            "Dice Coefficient: 0.5017\n",
            "VOE: 0.6652\n",
            "RVD: 0.0033\n",
            "ASSD: 127.5323\n",
            "RMSD: 147.3768\n"
          ]
        }
      ]
    },
    {
      "cell_type": "code",
      "source": [
        "import matplotlib.pyplot as plt\n",
        "\n",
        "# Plot Loss\n",
        "plt.figure(figsize=(12, 5))\n",
        "\n",
        "plt.subplot(1, 2, 1)\n",
        "plt.plot(history.history['loss'], label='Training Loss')\n",
        "plt.plot(history.history['val_loss'], label='Validation Loss')\n",
        "plt.title('Loss Over Epochs')\n",
        "plt.xlabel('Epoch')\n",
        "plt.ylabel('Loss')\n",
        "plt.legend()\n",
        "plt.grid(True)\n",
        "\n",
        "# Plot IoU\n",
        "plt.subplot(1, 2, 2)\n",
        "plt.plot(history.history['iou_metric'], label='Training IoU')\n",
        "plt.plot(history.history['val_iou_metric'], label='Validation IoU')\n",
        "plt.title('IoU Over Epochs')\n",
        "plt.xlabel('Epoch')\n",
        "plt.ylabel('IoU')\n",
        "plt.legend()\n",
        "plt.grid(True)\n",
        "\n",
        "plt.tight_layout()\n",
        "plt.show()\n"
      ],
      "metadata": {
        "colab": {
          "base_uri": "https://localhost:8080/",
          "height": 507
        },
        "id": "T4O4dvczHp0W",
        "outputId": "ca0a558f-def2-418d-9e24-5b7771e951b1"
      },
      "execution_count": 19,
      "outputs": [
        {
          "output_type": "display_data",
          "data": {
            "text/plain": [
              "<Figure size 1200x500 with 2 Axes>"
            ],
            "image/png": "[encoded data removed]"
          },
          "metadata": {}
        }
      ]
    },
    {
      "cell_type": "code",
      "source": [
        "import numpy as np\n",
        "\n",
        "def compute_confusion_elements(y_true, y_pred, threshold=0.5):\n",
        "    \"\"\"\n",
        "    y_true: ground truth mask (numpy array or tensor), shape: (batch, H, W, 1)\n",
        "    y_pred: predicted mask (before thresholding), shape: (batch, H, W, 1)\n",
        "    threshold: probability threshold to binarize predictions\n",
        "    \"\"\"\n",
        "    y_true = y_true.astype(np.bool_)\n",
        "    y_pred = (y_pred >= threshold).astype(np.bool_)\n",
        "\n",
        "    TP = np.logical_and(y_pred == 1, y_true == 1).sum()\n",
        "    FP = np.logical_and(y_pred == 1, y_true == 0).sum()\n",
        "    TN = np.logical_and(y_pred == 0, y_true == 0).sum()\n",
        "    FN = np.logical_and(y_pred == 0, y_true == 1).sum()\n",
        "\n",
        "    return TP, FP, TN, FN\n"
      ],
      "metadata": {
        "id": "6-M82_NQgMxw"
      },
      "execution_count": 20,
      "outputs": []
    },
    {
      "cell_type": "code",
      "source": [
        "# Predict on validation dataset (just one batch as example)\n",
        "images, masks = next(iter(val_dataset))  # assuming val_dataset returns numpy arrays\n",
        "preds = model.predict(images)\n",
        "\n",
        "# Compute confusion matrix elements\n",
        "TP, FP, TN, FN = compute_confusion_elements(masks, preds)\n",
        "\n",
        "print(f\"TP: {TP}, FP: {FP}, TN: {TN}, FN: {FN}\")\n"
      ],
      "metadata": {
        "colab": {
          "base_uri": "https://localhost:8080/"
        },
        "id": "D0yWrI3TgQ_X",
        "outputId": "406987d7-84b5-426c-dbd4-439aaecf9d88"
      },
      "execution_count": 21,
      "outputs": [
        {
          "output_type": "stream",
          "name": "stdout",
          "text": [
            "\u001b[1m1/1\u001b[0m \u001b[32m━━━━━━━━━━━━━━━━━━━━\u001b[0m\u001b[37m\u001b[0m \u001b[1m0s\u001b[0m 302ms/step\n",
            "TP: 37299, FP: 33466, TN: 447838, FN: 5685\n"
          ]
        }
      ]
    },
    {
      "cell_type": "code",
      "source": [
        "precision = TP / (TP + FP)\n",
        "recall = TP / (TP + FN)\n",
        "f1_score = 2 * (precision * recall) / (precision + recall)\n",
        "iou = TP / (TP + FP + FN)\n",
        "accuracy = (TP + TN) / (TP + TN + FP + FN)\n",
        "\n",
        "print(f\"Precision: {precision:.4f}\")\n",
        "print(f\"Recall:    {recall:.4f}\")\n",
        "print(f\"F1 Score:  {f1_score:.4f}\")\n",
        "print(f\"IoU:       {iou:.4f}\")\n",
        "print(f\"Accuracy:  {accuracy:.4f}\")\n"
      ],
      "metadata": {
        "colab": {
          "base_uri": "https://localhost:8080/"
        },
        "id": "r7Em0wQxglNi",
        "outputId": "1833afa9-9b9a-43c5-9338-a30e210e4e2f"
      },
      "execution_count": 22,
      "outputs": [
        {
          "output_type": "stream",
          "name": "stdout",
          "text": [
            "Precision: 0.5271\n",
            "Recall:    0.8677\n",
            "F1 Score:  0.6558\n",
            "IoU:       0.4879\n",
            "Accuracy:  0.9253\n"
          ]
        }
      ]
    },
    {
      "cell_type": "code",
      "source": [
        "import numpy as np\n",
        "import cv2  # OpenCV is great for this task\n",
        "\n",
        "def post_process_mask(mask, min_area=500):\n",
        "    \"\"\"\n",
        "    Remove small connected components (blobs) from binary mask.\n",
        "\n",
        "    Parameters:\n",
        "        mask (np.array): Binary prediction mask (0 and 1)\n",
        "        min_area (int): Minimum area (in pixels) to keep the component\n",
        "\n",
        "    Returns:\n",
        "        cleaned_mask (np.array): Binary mask with small blobs removed\n",
        "    \"\"\"\n",
        "    mask = mask.astype(np.uint8)\n",
        "\n",
        "    # Find connected components\n",
        "    num_labels, labels, stats, _ = cv2.connectedComponentsWithStats(mask, connectivity=8)\n",
        "\n",
        "    cleaned_mask = np.zeros_like(mask)\n",
        "\n",
        "    for i in range(1, num_labels):  # Skip background (label 0)\n",
        "        area = stats[i, cv2.CC_STAT_AREA]\n",
        "        if area >= min_area:\n",
        "            cleaned_mask[labels == i] = 1\n",
        "\n",
        "    return cleaned_mask\n"
      ],
      "metadata": {
        "id": "S5NAIrZNg-12"
      },
      "execution_count": 23,
      "outputs": []
    },
    {
      "cell_type": "code",
      "source": [],
      "metadata": {
        "colab": {
          "base_uri": "https://localhost:8080/",
          "height": 211
        },
        "id": "X4uLomyQhn3n",
        "outputId": "92a4f9c7-2b2d-40a4-fd89-a571d6fd6ac0"
      },
      "execution_count": 25,
      "outputs": [
        {
          "output_type": "error",
          "ename": "NameError",
          "evalue": "name 'input_image' is not defined",
          "traceback": [
            "\u001b[0;31m---------------------------------------------------------------------------\u001b[0m",
            "\u001b[0;31mNameError\u001b[0m                                 Traceback (most recent call last)",
            "\u001b[0;32m<ipython-input-25-b01376e38826>\u001b[0m in \u001b[0;36m<cell line: 0>\u001b[0;34m()\u001b[0m\n\u001b[1;32m      1\u001b[0m \u001b[0;31m# Get your model's predictions\u001b[0m\u001b[0;34m\u001b[0m\u001b[0;34m\u001b[0m\u001b[0m\n\u001b[0;32m----> 2\u001b[0;31m \u001b[0mpred_mask\u001b[0m \u001b[0;34m=\u001b[0m \u001b[0mmodel\u001b[0m\u001b[0;34m.\u001b[0m\u001b[0mpredict\u001b[0m\u001b[0;34m(\u001b[0m\u001b[0minput_image\u001b[0m\u001b[0;34m)\u001b[0m\u001b[0;34m\u001b[0m\u001b[0;34m\u001b[0m\u001b[0m\n\u001b[0m\u001b[1;32m      3\u001b[0m \u001b[0;34m\u001b[0m\u001b[0m\n\u001b[1;32m      4\u001b[0m \u001b[0;31m# Apply connected component analysis\u001b[0m\u001b[0;34m\u001b[0m\u001b[0;34m\u001b[0m\u001b[0m\n\u001b[1;32m      5\u001b[0m \u001b[0mlabeled_mask\u001b[0m \u001b[0;34m=\u001b[0m \u001b[0mlabel\u001b[0m\u001b[0;34m(\u001b[0m\u001b[0mpred_mask\u001b[0m\u001b[0;34m)\u001b[0m\u001b[0;34m\u001b[0m\u001b[0;34m\u001b[0m\u001b[0m\n",
            "\u001b[0;31mNameError\u001b[0m: name 'input_image' is not defined"
          ]
        }
      ]
    }
  ]
}